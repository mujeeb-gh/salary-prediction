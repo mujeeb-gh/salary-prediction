{
 "cells": [
  {
   "cell_type": "markdown",
   "id": "dce9d65c",
   "metadata": {},
   "source": [
    "# Unupervised Learning\n",
    "### Unsupervised learning is a machine learning algorithm that uses unlabeled data to train machine learning models. Unlabelled data means there is no fixed output variable. Unlabelled data contains no tags or no specified name.\n",
    "### The model learns from the data, dicovers patterns and features from the data, and returns the output"
   ]
  },
  {
   "cell_type": "markdown",
   "id": "65094e17",
   "metadata": {},
   "source": [
    "## Commonly used unsupervised learning algorithms\n",
    "#### K Means Clustering, Hierarchical Clustering, DBSCAN, Pricipal Component Analysis\n"
   ]
  },
  {
   "cell_type": "markdown",
   "id": "8fd9eac1",
   "metadata": {},
   "source": [
    "### Approach\n",
    "#### Unsupervised Learning finds and understands patterns and trends in the data, and discovers the output, so the models tries to label the data based on the features of the input data."
   ]
  },
  {
   "cell_type": "markdown",
   "id": "70aa9357",
   "metadata": {},
   "source": [
    "### Training\n",
    "#### Supervised learning techniques do not need external supervision train models\n",
    "### Type of Problems\n",
    "#### Clustering and Association problems\n",
    "### Application\n",
    "#### Customer Segmentation, Churn Analysis"
   ]
  },
  {
   "cell_type": "code",
   "execution_count": null,
   "id": "04ea387f",
   "metadata": {},
   "outputs": [],
   "source": []
  },
  {
   "cell_type": "markdown",
   "id": "2fddfb83",
   "metadata": {},
   "source": [
    "### since the initial goal was to predict salary, unsupervised learning might not be directly applicable for predicting a continuous target like salary. Instead, unsupervised learning techniques are often used for tasks like clustering and dimensionality reduction, which might not directly relate to predicting salary."
   ]
  },
  {
   "cell_type": "code",
   "execution_count": null,
   "id": "2f11e849",
   "metadata": {},
   "outputs": [],
   "source": [
    "from sklearn.metrics import mean_absolute_error, mean_squared_error\n",
    "from sklearn.model_selection import train_test_split\n",
    "import pandas as pd\n",
    "import matplotlib.pyplot as plt\n",
    "import numpy as np"
   ]
  },
  {
   "cell_type": "markdown",
   "id": "c9f31347",
   "metadata": {},
   "source": [
    "### Select Data for Modelling"
   ]
  },
  {
   "cell_type": "code",
   "execution_count": null,
   "id": "58c88f56",
   "metadata": {},
   "outputs": [],
   "source": [
    "clean_data = \"../data/Clean_Salary_Data.csv\"\n",
    "model_data = pd.read_csv(clean_data)\n",
    "X = model_data.drop([\"Salary\", \"Age Group\", \"Unnamed: 0\"], axis=1)"
   ]
  },
  {
   "cell_type": "markdown",
   "id": "e5b39543",
   "metadata": {},
   "source": [
    "#### Encoding Categorical Variables:\n",
    "##### For clustering and dimensionality reduction, you need to encode categorical variables into numerical format. One-hot encoding is typically used."
   ]
  },
  {
   "cell_type": "code",
   "execution_count": null,
   "id": "975b1d17",
   "metadata": {
    "scrolled": true
   },
   "outputs": [],
   "source": [
    "from sklearn.preprocessing import OneHotEncoder\n",
    "\n",
    "# Create an instance of OneHotEncoder\n",
    "onehot_encoder = OneHotEncoder(drop=\"first\", sparse=False)\n",
    "\n",
    "# Apply one-hot encoding to categorical features\n",
    "categorical_features = [\"Gender\", \"Education Level\", \"Job Title\"]\n",
    "onehot_encoded = onehot_encoder.fit_transform(X[categorical_features])\n",
    "\n",
    "# Concatenate one-hot encoded features with numerical features\n",
    "preprocessed_X = np.concatenate((onehot_encoded, X[[\"Age\", \"Years of Experience\"]]), axis=1)"
   ]
  },
  {
   "cell_type": "markdown",
   "id": "b057bed6",
   "metadata": {},
   "source": [
    "#### Feature Scaling:\n",
    "##### It's a good practice to scale features before applying unsupervised techniques. Standardization is commonly used."
   ]
  },
  {
   "cell_type": "code",
   "execution_count": null,
   "id": "ce5cacb9",
   "metadata": {},
   "outputs": [],
   "source": [
    "from sklearn.preprocessing import StandardScaler\n",
    "\n",
    "# Create an instance of StandardScaler\n",
    "scaler = StandardScaler()\n",
    "\n",
    "# Scale the preprocessed features\n",
    "scaled_X = scaler.fit_transform(preprocessed_X)"
   ]
  },
  {
   "cell_type": "markdown",
   "id": "30b1922d",
   "metadata": {},
   "source": [
    "## Clustering"
   ]
  },
  {
   "cell_type": "code",
   "execution_count": null,
   "id": "8b2492b9",
   "metadata": {
    "scrolled": true
   },
   "outputs": [],
   "source": [
    "from sklearn.cluster import KMeans\n",
    "\n",
    "# Assuming you have preprocessed data X\n",
    "kmeans = KMeans(n_clusters=3, random_state=1)\n",
    "samples = preprocessed_X\n",
    "cluster_labels = kmeans.fit_predict(samples)"
   ]
  },
  {
   "cell_type": "code",
   "execution_count": null,
   "id": "62ab7a90",
   "metadata": {},
   "outputs": [],
   "source": [
    "samples"
   ]
  },
  {
   "cell_type": "code",
   "execution_count": null,
   "id": "3717c8a1",
   "metadata": {},
   "outputs": [],
   "source": [
    "import matplotlib.pyplot as plt\n",
    "plt.scatter(X['Years of Experience'], X['Age'], c=cluster_labels)\n",
    "plt.title('Clustering Visualization (Years of Experience vs. Salary)')\n",
    "plt.xlabel('Years of Experience')\n",
    "plt.ylabel('Job Titl')\n",
    "plt.show()\n"
   ]
  }
 ],
 "metadata": {
  "kernelspec": {
   "display_name": "Python 3 (ipykernel)",
   "language": "python",
   "name": "python3"
  },
  "language_info": {
   "codemirror_mode": {
    "name": "ipython",
    "version": 3
   },
   "file_extension": ".py",
   "mimetype": "text/x-python",
   "name": "python",
   "nbconvert_exporter": "python",
   "pygments_lexer": "ipython3",
   "version": "3.10.9"
  },
  "varInspector": {
   "cols": {
    "lenName": 16,
    "lenType": 16,
    "lenVar": 40
   },
   "kernels_config": {
    "python": {
     "delete_cmd_postfix": "",
     "delete_cmd_prefix": "del ",
     "library": "var_list.py",
     "varRefreshCmd": "print(var_dic_list())"
    },
    "r": {
     "delete_cmd_postfix": ") ",
     "delete_cmd_prefix": "rm(",
     "library": "var_list.r",
     "varRefreshCmd": "cat(var_dic_list()) "
    }
   },
   "types_to_exclude": [
    "module",
    "function",
    "builtin_function_or_method",
    "instance",
    "_Feature"
   ],
   "window_display": false
  }
 },
 "nbformat": 4,
 "nbformat_minor": 5
}
