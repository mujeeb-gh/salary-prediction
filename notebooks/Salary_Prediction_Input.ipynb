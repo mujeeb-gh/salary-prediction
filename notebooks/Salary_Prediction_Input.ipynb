{
 "cells": [
  {
   "cell_type": "markdown",
   "id": "449b68fe",
   "metadata": {},
   "source": [
    "## In this notebook the work done was collecting user inputs for Age, Gender, Education Level, Job Title, and Years of Experience and adding them as a new row to the main training DataFrame. Preprocessing was then carried out, including label and one-hot encoding, on the combined DataFrame. Finally, predictions were made using the trained model on the user input represented by the last row"
   ]
  },
  {
   "cell_type": "markdown",
   "id": "08e0d011",
   "metadata": {},
   "source": [
    "## Guidelines for Input:\n",
    "\n",
    "### Age: (21 - 62)\n",
    "### Gender: (Male/Female/Other)\n",
    "### Education Level: (High School/Bachelor's Degree/Master's Degree/PhD)\n",
    "### Job Title: Please ensure the job title input is from the provided job Title list above.\n",
    "### Years of Experience: (0 - 34)"
   ]
  },
  {
   "cell_type": "code",
   "execution_count": 28,
   "id": "d16a67eb",
   "metadata": {},
   "outputs": [],
   "source": [
    "from sklearn.preprocessing import LabelEncoder, OneHotEncoder\n",
    "import pandas as pd\n",
    "import joblib"
   ]
  },
  {
   "cell_type": "code",
   "execution_count": 29,
   "id": "49cd5173",
   "metadata": {},
   "outputs": [
    {
     "data": {
      "text/plain": [
       "['Junior Sales Representative',\n",
       " 'Receptionist',\n",
       " 'Sales Associate',\n",
       " 'Front End Developer',\n",
       " 'Software Engineer',\n",
       " 'Back end Developer',\n",
       " 'Junior Sales Associate',\n",
       " 'Junior HR Generalist',\n",
       " 'Senior Project Engineer',\n",
       " 'Software Developer',\n",
       " 'Sales Representative',\n",
       " 'Software Engineer Manager',\n",
       " 'Sales Manager',\n",
       " 'Junior HR Coordinator',\n",
       " 'Front end Developer',\n",
       " 'Sales Executive',\n",
       " 'Full Stack Engineer',\n",
       " 'Data Analyst',\n",
       " 'Junior Marketing Analyst',\n",
       " 'Junior Web Developer',\n",
       " 'Delivery Driver',\n",
       " 'Junior Developer',\n",
       " 'Web Developer',\n",
       " 'Marketing Analyst',\n",
       " 'Financial Analyst',\n",
       " 'Juniour HR Coordinator',\n",
       " 'Product Manager',\n",
       " 'Digital Marketing Manager',\n",
       " 'Customer Service Representative',\n",
       " 'Junior Software Developer',\n",
       " 'Marketing Manager',\n",
       " 'Marketing Coordinator',\n",
       " 'Human Resources Coordinator',\n",
       " 'Junior Software Engineer',\n",
       " 'Junior Marketing Specialist',\n",
       " 'Help Desk Analyst',\n",
       " 'Data Entry Clerk',\n",
       " 'Graphic Designer',\n",
       " 'Senior Product Marketing Manager',\n",
       " 'Product Designer',\n",
       " 'Social Media Manager',\n",
       " 'Financial Manager',\n",
       " 'Social Media Man',\n",
       " 'Customer Success Rep',\n",
       " 'Junior Accountant',\n",
       " 'Senior HR Generalist',\n",
       " 'Junior Data Scientist',\n",
       " 'Junior Customer Support Specialist',\n",
       " 'Technical Writer',\n",
       " 'Content Marketing Manager',\n",
       " 'Data Scientist',\n",
       " 'Junior Data Analyst',\n",
       " 'Junior Research Scientist',\n",
       " 'UX Researcher',\n",
       " 'Junior Product Manager',\n",
       " 'Junior Business Development Associate',\n",
       " 'Director of HR',\n",
       " 'Junior UX Designer',\n",
       " 'Junior Account Manager',\n",
       " 'Customer Service Rep',\n",
       " 'Director of Marketing',\n",
       " 'Customer Success Manager',\n",
       " 'Junior Operations Manager',\n",
       " 'Technical Support Specialist',\n",
       " 'Junior Business Analyst',\n",
       " 'Juniour HR Generalist',\n",
       " 'Senior Software Engineer',\n",
       " 'Junior Operations Analyst',\n",
       " 'Junior Financial Analyst',\n",
       " 'Copywriter',\n",
       " 'Social Media Specialist',\n",
       " 'Junior Recruiter',\n",
       " 'Senior Human Resources Manager',\n",
       " 'Junior Marketing Manager',\n",
       " 'Junior Business Operations Analyst',\n",
       " 'Sales Director',\n",
       " 'Junior Marketing Coordinator',\n",
       " 'Digital Marketing Specialist',\n",
       " 'Junior Project Manager',\n",
       " 'Junior Web Designer',\n",
       " 'Junior Designer',\n",
       " 'Digital Content Producer',\n",
       " 'Project Manager',\n",
       " 'Junior Copywriter',\n",
       " 'Junior Operations Coordinator',\n",
       " 'Network Engineer',\n",
       " 'Operations Manager',\n",
       " 'IT Support',\n",
       " 'Junior Social Media Manager',\n",
       " 'Junior Advertising Coordinator',\n",
       " 'Event Coordinator',\n",
       " 'Accountant',\n",
       " 'Research Scientist',\n",
       " 'Junior Social Media Specialist',\n",
       " 'Senior Financial Analyst',\n",
       " 'Senior Business Analyst',\n",
       " 'Junior Financial Advisor',\n",
       " 'Account Manager',\n",
       " 'Human Resources Manager',\n",
       " 'Senior Data Scientist',\n",
       " 'Senior Operations Manager',\n",
       " 'Senior Product Development Manager',\n",
       " 'Business Intelligence Analyst',\n",
       " 'Business Analyst',\n",
       " 'Research Director',\n",
       " 'Senior Operations Coordinator',\n",
       " 'Senior Financial Advisor',\n",
       " 'UX Designer',\n",
       " 'Senior Software Developer',\n",
       " 'Business Development Manager',\n",
       " 'Financial Advisor',\n",
       " 'Senior Quality Assurance Analyst',\n",
       " 'Senior Product Manager',\n",
       " 'Senior Research Scientist',\n",
       " 'Senior Operations Analyst',\n",
       " 'Product Marketing Manager',\n",
       " 'Senior Financial Manager',\n",
       " 'Senior Marketing Coordinator',\n",
       " 'Senior Marketing Analyst',\n",
       " 'Senior Project Coordinator',\n",
       " 'HR Generalist',\n",
       " 'Marketing Director',\n",
       " 'Senior Business Development Manager',\n",
       " 'Technical Recruiter',\n",
       " 'Recruiter',\n",
       " 'Senior Marketing Specialist',\n",
       " 'IT Support Specialist',\n",
       " 'Administrative Assistant',\n",
       " 'Principal Scientist',\n",
       " 'Director of Data Science',\n",
       " 'Senior Marketing Manager',\n",
       " 'Senior Accountant',\n",
       " 'Software Project Manager',\n",
       " 'Software Manager',\n",
       " 'Senior Software Architect',\n",
       " 'Senior Project Manager',\n",
       " 'Senior Scientist',\n",
       " 'Customer Service Manager',\n",
       " 'Senior IT Consultant',\n",
       " 'Senior Human Resources Coordinator',\n",
       " 'Public Relations Manager',\n",
       " 'Training Specialist',\n",
       " 'Senior Account Executive',\n",
       " 'Senior Engineer',\n",
       " 'Marketing Specialist',\n",
       " 'Senior Sales Representative',\n",
       " 'Office Manager',\n",
       " 'Senior Account Manager',\n",
       " 'Senior Training Specialist',\n",
       " 'HR Manager',\n",
       " 'Senior Human Resources Specialist',\n",
       " 'Senior Marketing Director',\n",
       " 'Strategy Consultant',\n",
       " 'Senior Graphic Designer',\n",
       " 'Creative Director',\n",
       " 'Project Engineer',\n",
       " 'Director of Operations',\n",
       " 'Senior IT Project Manager',\n",
       " 'Supply Chain Manager',\n",
       " 'Senior Product Designer',\n",
       " 'Senior Consultant',\n",
       " 'Senior IT Support Specialist',\n",
       " 'Senior HR Specialist',\n",
       " 'Senior Data Engineer',\n",
       " 'Chief Data Officer',\n",
       " 'Senior Sales Manager',\n",
       " 'Senior UX Designer',\n",
       " 'Senior HR Manager',\n",
       " 'Senior Data Analyst',\n",
       " 'Director of Engineering',\n",
       " 'Senior Manager',\n",
       " 'Sales Operations Manager',\n",
       " 'Director of Sales',\n",
       " 'Operations Analyst',\n",
       " 'Senior Researcher',\n",
       " 'IT Manager',\n",
       " 'VP of Finance',\n",
       " 'Director of Finance',\n",
       " 'Director of Business Development',\n",
       " 'VP of Operations',\n",
       " 'Human Resources Director',\n",
       " 'Operations Director',\n",
       " 'Principal Engineer',\n",
       " 'Director of Product Management',\n",
       " 'Director of Human Capital',\n",
       " 'Supply Chain Analyst',\n",
       " 'CEO',\n",
       " 'Director of Sales and Marketing',\n",
       " 'Director of Human Resources',\n",
       " 'Chief Technology Officer',\n",
       " 'Director']"
      ]
     },
     "execution_count": 29,
     "metadata": {},
     "output_type": "execute_result"
    }
   ],
   "source": [
    "clean_database = \"C:/Users/HP/Documents/Documents/E process/dataanalysisstuff/salary-prediction/database/Clean Database.csv\"\n",
    "model_data = pd.read_csv(clean_database)\n",
    "job_titles = model_data[\"Job Title\"].unique().tolist()\n",
    "job_titles"
   ]
  },
  {
   "cell_type": "markdown",
   "id": "3471995f",
   "metadata": {},
   "source": [
    "### Loading the Decision Tree Model"
   ]
  },
  {
   "cell_type": "code",
   "execution_count": 41,
   "id": "8ecd921c",
   "metadata": {},
   "outputs": [],
   "source": [
    "model = joblib.load(\"C:/Users/HP/Documents/Documents/E process/dataanalysisstuff/salary-prediction/Models/Decision_Tree_model.pkl \")"
   ]
  },
  {
   "cell_type": "markdown",
   "id": "884b7cd9",
   "metadata": {},
   "source": [
    "### Input Inquiry and Verification"
   ]
  },
  {
   "cell_type": "code",
   "execution_count": 30,
   "id": "cdd44448",
   "metadata": {},
   "outputs": [],
   "source": [
    "genders= [\"Male\", \"Female\", \"Other\"]\n",
    "education_level_options = [\"High School\", \"Bachelor's Degree\", \"Master's Degree\", \"PhD\"]\n",
    "\n",
    "def input_features():\n",
    "    age = 0\n",
    "    while True:\n",
    "        try:\n",
    "            age = float(input(\"Enter Age (21 - 62): \"))\n",
    "        except ValueError:\n",
    "            print(\"Invalid input.\")\n",
    "        if age < 21 or age > 62:\n",
    "            print(\"Age must be a number between 21 and 62.\")\n",
    "        else:\n",
    "            break\n",
    "\n",
    "\n",
    "    gender = None\n",
    "    while True:\n",
    "        gender = str(input(\"Enter Gender (Male/ Female/ Other): \")).capitalize()\n",
    "        if gender not in genders:\n",
    "            print(\"Invalid input, gender must be Male, Female, or Other\")\n",
    "        else:\n",
    "            break\n",
    "\n",
    "    education_lvl = None\n",
    "    while True:\n",
    "        education_lvl = str(input(\"Enter Education Level (High School/ Bachelor's Degree/ Master's Degree/ PhD): \"))\n",
    "        if education_lvl not in education_level_options:\n",
    "            print(\"Invalid input. Education Level must be one of the specified options.\")\n",
    "        else:\n",
    "            break\n",
    "\n",
    "    job_title = None\n",
    "    while True:\n",
    "        job_title = str(input(\"Enter Job Title (Must be a valid title): \"))\n",
    "        if job_title not in job_titles:\n",
    "            print(\"Invalid input. Job Title must be one of the specified options.\")\n",
    "        else:\n",
    "            break\n",
    "    \n",
    "    years = 0\n",
    "    while True:\n",
    "        try:\n",
    "            years = float(input(\"Enter Years of Experience: \"))\n",
    "        except ValueError:\n",
    "            print(\"Invalid input.\")\n",
    "            continue\n",
    "        if years < 0 or years > 34:\n",
    "            print(\"Years of Experience must be between 0 and 34 years.\")\n",
    "        else:\n",
    "            break\n",
    "    \n",
    "    return age, gender, education_lvl, job_title, years\n"
   ]
  },
  {
   "cell_type": "code",
   "execution_count": 32,
   "id": "65989628",
   "metadata": {},
   "outputs": [
    {
     "name": "stdout",
     "output_type": "stream",
     "text": [
      "Enter Age (21 - 62): 30\n",
      "Enter Gender (Male/ Female/ Other): male\n",
      "Enter Education Level (High School/ Bachelor's Degree/ Master's Degree/ PhD): PhD\n",
      "Enter Job Title (Must be a valid title): CEO\n",
      "Enter Years of Experience: 3\n"
     ]
    }
   ],
   "source": [
    "age, gender, education_lvl, job_title, years = input_features()"
   ]
  },
  {
   "cell_type": "markdown",
   "id": "68dfcac2",
   "metadata": {},
   "source": [
    "### Put the input in a dataframe"
   ]
  },
  {
   "cell_type": "code",
   "execution_count": 33,
   "id": "faa480a2",
   "metadata": {},
   "outputs": [
    {
     "data": {
      "text/html": [
       "<div>\n",
       "<style scoped>\n",
       "    .dataframe tbody tr th:only-of-type {\n",
       "        vertical-align: middle;\n",
       "    }\n",
       "\n",
       "    .dataframe tbody tr th {\n",
       "        vertical-align: top;\n",
       "    }\n",
       "\n",
       "    .dataframe thead th {\n",
       "        text-align: right;\n",
       "    }\n",
       "</style>\n",
       "<table border=\"1\" class=\"dataframe\">\n",
       "  <thead>\n",
       "    <tr style=\"text-align: right;\">\n",
       "      <th></th>\n",
       "      <th>Age</th>\n",
       "      <th>Gender</th>\n",
       "      <th>Education Level</th>\n",
       "      <th>Job Title</th>\n",
       "      <th>Years of Experience</th>\n",
       "    </tr>\n",
       "  </thead>\n",
       "  <tbody>\n",
       "    <tr>\n",
       "      <th>0</th>\n",
       "      <td>30.0</td>\n",
       "      <td>Male</td>\n",
       "      <td>PhD</td>\n",
       "      <td>CEO</td>\n",
       "      <td>3.0</td>\n",
       "    </tr>\n",
       "  </tbody>\n",
       "</table>\n",
       "</div>"
      ],
      "text/plain": [
       "    Age Gender Education Level Job Title  Years of Experience\n",
       "0  30.0   Male             PhD       CEO                  3.0"
      ]
     },
     "execution_count": 33,
     "metadata": {},
     "output_type": "execute_result"
    }
   ],
   "source": [
    "salary_df = model_data.drop([\"Salary\", \"Unnamed: 0\"], axis = 1)\n",
    "\n",
    "input_dict = {\n",
    "    \"Age\": [age],\n",
    "    \"Gender\": [gender],\n",
    "    \"Education Level\": [education_lvl],\n",
    "    \"Job Title\": [job_title],\n",
    "    \"Years of Experience\": [years]\n",
    "}\n",
    "\n",
    "input_df = pd.DataFrame(input_dict)\n",
    "\n",
    "input_df\n"
   ]
  },
  {
   "cell_type": "markdown",
   "id": "e8890287",
   "metadata": {},
   "source": [
    "### appending input data to training data"
   ]
  },
  {
   "cell_type": "code",
   "execution_count": 34,
   "id": "931526d2",
   "metadata": {},
   "outputs": [
    {
     "name": "stderr",
     "output_type": "stream",
     "text": [
      "C:\\Users\\HP\\AppData\\Local\\Temp\\ipykernel_12092\\1416581193.py:2: FutureWarning: The frame.append method is deprecated and will be removed from pandas in a future version. Use pandas.concat instead.\n",
      "  salary_df = salary_df.append(input_row, ignore_index= True)\n"
     ]
    }
   ],
   "source": [
    "input_row = input_df.iloc[0]\n",
    "salary_df = salary_df.append(input_row, ignore_index= True)"
   ]
  },
  {
   "cell_type": "code",
   "execution_count": 35,
   "id": "bc896059",
   "metadata": {},
   "outputs": [
    {
     "data": {
      "text/html": [
       "<div>\n",
       "<style scoped>\n",
       "    .dataframe tbody tr th:only-of-type {\n",
       "        vertical-align: middle;\n",
       "    }\n",
       "\n",
       "    .dataframe tbody tr th {\n",
       "        vertical-align: top;\n",
       "    }\n",
       "\n",
       "    .dataframe thead th {\n",
       "        text-align: right;\n",
       "    }\n",
       "</style>\n",
       "<table border=\"1\" class=\"dataframe\">\n",
       "  <thead>\n",
       "    <tr style=\"text-align: right;\">\n",
       "      <th></th>\n",
       "      <th>Age</th>\n",
       "      <th>Gender</th>\n",
       "      <th>Education Level</th>\n",
       "      <th>Job Title</th>\n",
       "      <th>Years of Experience</th>\n",
       "    </tr>\n",
       "  </thead>\n",
       "  <tbody>\n",
       "    <tr>\n",
       "      <th>0</th>\n",
       "      <td>30.0</td>\n",
       "      <td>Male</td>\n",
       "      <td>PhD</td>\n",
       "      <td>CEO</td>\n",
       "      <td>3.0</td>\n",
       "    </tr>\n",
       "  </tbody>\n",
       "</table>\n",
       "</div>"
      ],
      "text/plain": [
       "    Age Gender Education Level Job Title Years of Experience\n",
       "0  30.0   Male             PhD       CEO                 3.0"
      ]
     },
     "execution_count": 35,
     "metadata": {},
     "output_type": "execute_result"
    }
   ],
   "source": [
    "input_row.to_frame().T"
   ]
  },
  {
   "cell_type": "code",
   "execution_count": 36,
   "id": "5a21e558",
   "metadata": {},
   "outputs": [
    {
     "data": {
      "text/html": [
       "<div>\n",
       "<style scoped>\n",
       "    .dataframe tbody tr th:only-of-type {\n",
       "        vertical-align: middle;\n",
       "    }\n",
       "\n",
       "    .dataframe tbody tr th {\n",
       "        vertical-align: top;\n",
       "    }\n",
       "\n",
       "    .dataframe thead th {\n",
       "        text-align: right;\n",
       "    }\n",
       "</style>\n",
       "<table border=\"1\" class=\"dataframe\">\n",
       "  <thead>\n",
       "    <tr style=\"text-align: right;\">\n",
       "      <th></th>\n",
       "      <th>Age</th>\n",
       "      <th>Gender</th>\n",
       "      <th>Education Level</th>\n",
       "      <th>Job Title</th>\n",
       "      <th>Years of Experience</th>\n",
       "    </tr>\n",
       "  </thead>\n",
       "  <tbody>\n",
       "    <tr>\n",
       "      <th>1787</th>\n",
       "      <td>30.0</td>\n",
       "      <td>Male</td>\n",
       "      <td>PhD</td>\n",
       "      <td>CEO</td>\n",
       "      <td>3.0</td>\n",
       "    </tr>\n",
       "  </tbody>\n",
       "</table>\n",
       "</div>"
      ],
      "text/plain": [
       "       Age Gender Education Level Job Title  Years of Experience\n",
       "1787  30.0   Male             PhD       CEO                  3.0"
      ]
     },
     "execution_count": 36,
     "metadata": {},
     "output_type": "execute_result"
    }
   ],
   "source": [
    "salary_df.tail(1)"
   ]
  },
  {
   "cell_type": "markdown",
   "id": "fd612665",
   "metadata": {},
   "source": [
    "### Preprocessing the data"
   ]
  },
  {
   "cell_type": "code",
   "execution_count": 39,
   "id": "788ea994",
   "metadata": {},
   "outputs": [],
   "source": [
    "label_encoder = LabelEncoder()\n",
    "salary_df[\"Education Level\"] = label_encoder.fit_transform(salary_df[\"Education Level\"])\n",
    "\n",
    "onehot_encoder = OneHotEncoder(drop=\"first\", sparse_output=False)\n",
    "onehot_encoded = onehot_encoder.fit_transform(salary_df[[\"Gender\", \"Job Title\"]])\n",
    "# Create a DataFrame from the one-hot encoded array\n",
    "onehot_df = pd.DataFrame(onehot_encoded, columns=onehot_encoder.get_feature_names_out([\"Gender\", \"Job Title\"]))\n",
    "# Concatenate the one-hot encoded DataFrame with the rest of the features\n",
    "salary_df = pd.concat([salary_df, onehot_df], axis=1)\n",
    "# Drop the original \"Gender\" and \"Job Title\" columns\n",
    "salary_df = salary_df.drop([\"Gender\", \"Job Title\"], axis=1)"
   ]
  },
  {
   "cell_type": "code",
   "execution_count": null,
   "id": "f22d0733",
   "metadata": {},
   "outputs": [],
   "source": []
  },
  {
   "cell_type": "markdown",
   "id": "b260a70e",
   "metadata": {},
   "source": [
    "### Predicting Salary"
   ]
  },
  {
   "cell_type": "code",
   "execution_count": 42,
   "id": "5e097fd8",
   "metadata": {},
   "outputs": [
    {
     "ename": "AttributeError",
     "evalue": "'numpy.ndarray' object has no attribute 'predict'",
     "output_type": "error",
     "traceback": [
      "\u001b[1;31m---------------------------------------------------------------------------\u001b[0m",
      "\u001b[1;31mAttributeError\u001b[0m                            Traceback (most recent call last)",
      "Cell \u001b[1;32mIn[42], line 1\u001b[0m\n\u001b[1;32m----> 1\u001b[0m salary_prediction \u001b[38;5;241m=\u001b[39m \u001b[43mmodel\u001b[49m\u001b[38;5;241;43m.\u001b[39;49m\u001b[43mpredict\u001b[49m(salary_df\u001b[38;5;241m.\u001b[39mtail(\u001b[38;5;241m1\u001b[39m))\n\u001b[0;32m      2\u001b[0m \u001b[38;5;28mprint\u001b[39m(\u001b[38;5;124mf\u001b[39m\u001b[38;5;124m\"\u001b[39m\u001b[38;5;124mAge: \u001b[39m\u001b[38;5;132;01m{\u001b[39;00m\u001b[38;5;28mint\u001b[39m(age)\u001b[38;5;132;01m}\u001b[39;00m\u001b[38;5;130;01m\\n\u001b[39;00m\u001b[38;5;124mGender: \u001b[39m\u001b[38;5;132;01m{\u001b[39;00mgender\u001b[38;5;132;01m}\u001b[39;00m\u001b[38;5;130;01m\\n\u001b[39;00m\u001b[38;5;124mEducation Level: \u001b[39m\u001b[38;5;132;01m{\u001b[39;00meducation_lvl\u001b[38;5;132;01m}\u001b[39;00m\u001b[38;5;130;01m\\n\u001b[39;00m\u001b[38;5;124mJob Title: \u001b[39m\u001b[38;5;132;01m{\u001b[39;00mjob_title\u001b[38;5;132;01m}\u001b[39;00m\u001b[38;5;130;01m\\n\u001b[39;00m\u001b[38;5;124mYears of Experience: \u001b[39m\u001b[38;5;132;01m{\u001b[39;00m\u001b[38;5;28mint\u001b[39m(years)\u001b[38;5;132;01m}\u001b[39;00m\u001b[38;5;124m years\u001b[39m\u001b[38;5;130;01m\\n\u001b[39;00m\u001b[38;5;130;01m\\n\u001b[39;00m\u001b[38;5;124mPredicted salary: \u001b[39m\u001b[38;5;132;01m{\u001b[39;00m\u001b[38;5;28mint\u001b[39m(salary_prediction)\u001b[38;5;132;01m}\u001b[39;00m\u001b[38;5;124m\"\u001b[39m)\n",
      "\u001b[1;31mAttributeError\u001b[0m: 'numpy.ndarray' object has no attribute 'predict'"
     ]
    }
   ],
   "source": [
    "salary_prediction = model.predict(salary_df.tail(1))\n",
    "print(f\"Age: {int(age)}\\nGender: {gender}\\nEducation Level: {education_lvl}\\nJob Title: {job_title}\\nYears of Experience: {int(years)} years\\n\\nPredicted salary: {int(salary_prediction)}\")\n"
   ]
  },
  {
   "cell_type": "code",
   "execution_count": 43,
   "id": "6507cfac",
   "metadata": {},
   "outputs": [
    {
     "data": {
      "text/plain": [
       "numpy.ndarray"
      ]
     },
     "execution_count": 43,
     "metadata": {},
     "output_type": "execute_result"
    }
   ],
   "source": [
    "type(model)"
   ]
  }
 ],
 "metadata": {
  "kernelspec": {
   "display_name": "Python 3 (ipykernel)",
   "language": "python",
   "name": "python3"
  },
  "language_info": {
   "codemirror_mode": {
    "name": "ipython",
    "version": 3
   },
   "file_extension": ".py",
   "mimetype": "text/x-python",
   "name": "python",
   "nbconvert_exporter": "python",
   "pygments_lexer": "ipython3",
   "version": "3.10.9"
  }
 },
 "nbformat": 4,
 "nbformat_minor": 5
}
