{
 "cells": [
  {
   "cell_type": "code",
   "execution_count": 1,
   "id": "103cc076",
   "metadata": {},
   "outputs": [],
   "source": [
    "import pandas as pd\n",
    "import matplotlib.pyplot as plt"
   ]
  },
  {
   "cell_type": "markdown",
   "id": "262b2b77",
   "metadata": {},
   "source": [
    "## Salary Data Overview"
   ]
  },
  {
   "cell_type": "code",
   "execution_count": 2,
   "id": "987abf87",
   "metadata": {
    "scrolled": false
   },
   "outputs": [
    {
     "data": {
      "text/html": [
       "<div>\n",
       "<style scoped>\n",
       "    .dataframe tbody tr th:only-of-type {\n",
       "        vertical-align: middle;\n",
       "    }\n",
       "\n",
       "    .dataframe tbody tr th {\n",
       "        vertical-align: top;\n",
       "    }\n",
       "\n",
       "    .dataframe thead th {\n",
       "        text-align: right;\n",
       "    }\n",
       "</style>\n",
       "<table border=\"1\" class=\"dataframe\">\n",
       "  <thead>\n",
       "    <tr style=\"text-align: right;\">\n",
       "      <th></th>\n",
       "      <th>Age</th>\n",
       "      <th>Gender</th>\n",
       "      <th>Education Level</th>\n",
       "      <th>Job Title</th>\n",
       "      <th>Years of Experience</th>\n",
       "      <th>Salary</th>\n",
       "    </tr>\n",
       "  </thead>\n",
       "  <tbody>\n",
       "    <tr>\n",
       "      <th>0</th>\n",
       "      <td>32.0</td>\n",
       "      <td>Male</td>\n",
       "      <td>Bachelor's</td>\n",
       "      <td>Software Engineer</td>\n",
       "      <td>5.0</td>\n",
       "      <td>90000.0</td>\n",
       "    </tr>\n",
       "    <tr>\n",
       "      <th>1</th>\n",
       "      <td>28.0</td>\n",
       "      <td>Female</td>\n",
       "      <td>Master's</td>\n",
       "      <td>Data Analyst</td>\n",
       "      <td>3.0</td>\n",
       "      <td>65000.0</td>\n",
       "    </tr>\n",
       "    <tr>\n",
       "      <th>2</th>\n",
       "      <td>45.0</td>\n",
       "      <td>Male</td>\n",
       "      <td>PhD</td>\n",
       "      <td>Senior Manager</td>\n",
       "      <td>15.0</td>\n",
       "      <td>150000.0</td>\n",
       "    </tr>\n",
       "    <tr>\n",
       "      <th>3</th>\n",
       "      <td>36.0</td>\n",
       "      <td>Female</td>\n",
       "      <td>Bachelor's</td>\n",
       "      <td>Sales Associate</td>\n",
       "      <td>7.0</td>\n",
       "      <td>60000.0</td>\n",
       "    </tr>\n",
       "    <tr>\n",
       "      <th>4</th>\n",
       "      <td>52.0</td>\n",
       "      <td>Male</td>\n",
       "      <td>Master's</td>\n",
       "      <td>Director</td>\n",
       "      <td>20.0</td>\n",
       "      <td>200000.0</td>\n",
       "    </tr>\n",
       "    <tr>\n",
       "      <th>...</th>\n",
       "      <td>...</td>\n",
       "      <td>...</td>\n",
       "      <td>...</td>\n",
       "      <td>...</td>\n",
       "      <td>...</td>\n",
       "      <td>...</td>\n",
       "    </tr>\n",
       "    <tr>\n",
       "      <th>6699</th>\n",
       "      <td>49.0</td>\n",
       "      <td>Female</td>\n",
       "      <td>PhD</td>\n",
       "      <td>Director of Marketing</td>\n",
       "      <td>20.0</td>\n",
       "      <td>200000.0</td>\n",
       "    </tr>\n",
       "    <tr>\n",
       "      <th>6700</th>\n",
       "      <td>32.0</td>\n",
       "      <td>Male</td>\n",
       "      <td>High School</td>\n",
       "      <td>Sales Associate</td>\n",
       "      <td>3.0</td>\n",
       "      <td>50000.0</td>\n",
       "    </tr>\n",
       "    <tr>\n",
       "      <th>6701</th>\n",
       "      <td>30.0</td>\n",
       "      <td>Female</td>\n",
       "      <td>Bachelor's Degree</td>\n",
       "      <td>Financial Manager</td>\n",
       "      <td>4.0</td>\n",
       "      <td>55000.0</td>\n",
       "    </tr>\n",
       "    <tr>\n",
       "      <th>6702</th>\n",
       "      <td>46.0</td>\n",
       "      <td>Male</td>\n",
       "      <td>Master's Degree</td>\n",
       "      <td>Marketing Manager</td>\n",
       "      <td>14.0</td>\n",
       "      <td>140000.0</td>\n",
       "    </tr>\n",
       "    <tr>\n",
       "      <th>6703</th>\n",
       "      <td>26.0</td>\n",
       "      <td>Female</td>\n",
       "      <td>High School</td>\n",
       "      <td>Sales Executive</td>\n",
       "      <td>1.0</td>\n",
       "      <td>35000.0</td>\n",
       "    </tr>\n",
       "  </tbody>\n",
       "</table>\n",
       "<p>6704 rows × 6 columns</p>\n",
       "</div>"
      ],
      "text/plain": [
       "       Age  Gender    Education Level              Job Title  \\\n",
       "0     32.0    Male         Bachelor's      Software Engineer   \n",
       "1     28.0  Female           Master's           Data Analyst   \n",
       "2     45.0    Male                PhD         Senior Manager   \n",
       "3     36.0  Female         Bachelor's        Sales Associate   \n",
       "4     52.0    Male           Master's               Director   \n",
       "...    ...     ...                ...                    ...   \n",
       "6699  49.0  Female                PhD  Director of Marketing   \n",
       "6700  32.0    Male        High School        Sales Associate   \n",
       "6701  30.0  Female  Bachelor's Degree      Financial Manager   \n",
       "6702  46.0    Male    Master's Degree      Marketing Manager   \n",
       "6703  26.0  Female        High School        Sales Executive   \n",
       "\n",
       "      Years of Experience    Salary  \n",
       "0                     5.0   90000.0  \n",
       "1                     3.0   65000.0  \n",
       "2                    15.0  150000.0  \n",
       "3                     7.0   60000.0  \n",
       "4                    20.0  200000.0  \n",
       "...                   ...       ...  \n",
       "6699                 20.0  200000.0  \n",
       "6700                  3.0   50000.0  \n",
       "6701                  4.0   55000.0  \n",
       "6702                 14.0  140000.0  \n",
       "6703                  1.0   35000.0  \n",
       "\n",
       "[6704 rows x 6 columns]"
      ]
     },
     "execution_count": 2,
     "metadata": {},
     "output_type": "execute_result"
    }
   ],
   "source": [
    "salary_df = pd.read_csv(\"../data/Salary_Data.csv\")\n",
    "salary_df"
   ]
  },
  {
   "cell_type": "code",
   "execution_count": 3,
   "id": "6ff58d64",
   "metadata": {
    "scrolled": true
   },
   "outputs": [
    {
     "name": "stdout",
     "output_type": "stream",
     "text": [
      "<class 'pandas.core.frame.DataFrame'>\n",
      "RangeIndex: 6704 entries, 0 to 6703\n",
      "Data columns (total 6 columns):\n",
      " #   Column               Non-Null Count  Dtype  \n",
      "---  ------               --------------  -----  \n",
      " 0   Age                  6702 non-null   float64\n",
      " 1   Gender               6702 non-null   object \n",
      " 2   Education Level      6701 non-null   object \n",
      " 3   Job Title            6702 non-null   object \n",
      " 4   Years of Experience  6701 non-null   float64\n",
      " 5   Salary               6699 non-null   float64\n",
      "dtypes: float64(3), object(3)\n",
      "memory usage: 314.4+ KB\n"
     ]
    }
   ],
   "source": [
    "salary_df.info()"
   ]
  },
  {
   "cell_type": "code",
   "execution_count": 4,
   "id": "0668db2a",
   "metadata": {},
   "outputs": [
    {
     "data": {
      "text/html": [
       "<div>\n",
       "<style scoped>\n",
       "    .dataframe tbody tr th:only-of-type {\n",
       "        vertical-align: middle;\n",
       "    }\n",
       "\n",
       "    .dataframe tbody tr th {\n",
       "        vertical-align: top;\n",
       "    }\n",
       "\n",
       "    .dataframe thead th {\n",
       "        text-align: right;\n",
       "    }\n",
       "</style>\n",
       "<table border=\"1\" class=\"dataframe\">\n",
       "  <thead>\n",
       "    <tr style=\"text-align: right;\">\n",
       "      <th></th>\n",
       "      <th>Age</th>\n",
       "      <th>Years of Experience</th>\n",
       "      <th>Salary</th>\n",
       "    </tr>\n",
       "  </thead>\n",
       "  <tbody>\n",
       "    <tr>\n",
       "      <th>count</th>\n",
       "      <td>6702.000000</td>\n",
       "      <td>6701.000000</td>\n",
       "      <td>6699.000000</td>\n",
       "    </tr>\n",
       "    <tr>\n",
       "      <th>mean</th>\n",
       "      <td>33.620859</td>\n",
       "      <td>8.094687</td>\n",
       "      <td>115326.964771</td>\n",
       "    </tr>\n",
       "    <tr>\n",
       "      <th>std</th>\n",
       "      <td>7.614633</td>\n",
       "      <td>6.059003</td>\n",
       "      <td>52786.183911</td>\n",
       "    </tr>\n",
       "    <tr>\n",
       "      <th>min</th>\n",
       "      <td>21.000000</td>\n",
       "      <td>0.000000</td>\n",
       "      <td>350.000000</td>\n",
       "    </tr>\n",
       "    <tr>\n",
       "      <th>25%</th>\n",
       "      <td>28.000000</td>\n",
       "      <td>3.000000</td>\n",
       "      <td>70000.000000</td>\n",
       "    </tr>\n",
       "    <tr>\n",
       "      <th>50%</th>\n",
       "      <td>32.000000</td>\n",
       "      <td>7.000000</td>\n",
       "      <td>115000.000000</td>\n",
       "    </tr>\n",
       "    <tr>\n",
       "      <th>75%</th>\n",
       "      <td>38.000000</td>\n",
       "      <td>12.000000</td>\n",
       "      <td>160000.000000</td>\n",
       "    </tr>\n",
       "    <tr>\n",
       "      <th>max</th>\n",
       "      <td>62.000000</td>\n",
       "      <td>34.000000</td>\n",
       "      <td>250000.000000</td>\n",
       "    </tr>\n",
       "  </tbody>\n",
       "</table>\n",
       "</div>"
      ],
      "text/plain": [
       "               Age  Years of Experience         Salary\n",
       "count  6702.000000          6701.000000    6699.000000\n",
       "mean     33.620859             8.094687  115326.964771\n",
       "std       7.614633             6.059003   52786.183911\n",
       "min      21.000000             0.000000     350.000000\n",
       "25%      28.000000             3.000000   70000.000000\n",
       "50%      32.000000             7.000000  115000.000000\n",
       "75%      38.000000            12.000000  160000.000000\n",
       "max      62.000000            34.000000  250000.000000"
      ]
     },
     "execution_count": 4,
     "metadata": {},
     "output_type": "execute_result"
    }
   ],
   "source": [
    "salary_df.describe()"
   ]
  },
  {
   "cell_type": "code",
   "execution_count": 5,
   "id": "4415aea6",
   "metadata": {
    "scrolled": true
   },
   "outputs": [
    {
     "data": {
      "text/plain": [
       "Age                     41\n",
       "Gender                   3\n",
       "Education Level          7\n",
       "Job Title              193\n",
       "Years of Experience     37\n",
       "Salary                 444\n",
       "dtype: int64"
      ]
     },
     "execution_count": 5,
     "metadata": {},
     "output_type": "execute_result"
    }
   ],
   "source": [
    "salary_df.nunique()"
   ]
  },
  {
   "cell_type": "markdown",
   "id": "454ae39a",
   "metadata": {},
   "source": [
    "## Salary Data Cleaning"
   ]
  },
  {
   "cell_type": "markdown",
   "id": "5853deac",
   "metadata": {},
   "source": [
    "### Remove duplicate rows"
   ]
  },
  {
   "cell_type": "code",
   "execution_count": 6,
   "id": "515e3786",
   "metadata": {
    "scrolled": true
   },
   "outputs": [
    {
     "data": {
      "text/html": [
       "<div>\n",
       "<style scoped>\n",
       "    .dataframe tbody tr th:only-of-type {\n",
       "        vertical-align: middle;\n",
       "    }\n",
       "\n",
       "    .dataframe tbody tr th {\n",
       "        vertical-align: top;\n",
       "    }\n",
       "\n",
       "    .dataframe thead th {\n",
       "        text-align: right;\n",
       "    }\n",
       "</style>\n",
       "<table border=\"1\" class=\"dataframe\">\n",
       "  <thead>\n",
       "    <tr style=\"text-align: right;\">\n",
       "      <th></th>\n",
       "      <th>Age</th>\n",
       "      <th>Gender</th>\n",
       "      <th>Education Level</th>\n",
       "      <th>Job Title</th>\n",
       "      <th>Years of Experience</th>\n",
       "      <th>Salary</th>\n",
       "    </tr>\n",
       "  </thead>\n",
       "  <tbody>\n",
       "    <tr>\n",
       "      <th>0</th>\n",
       "      <td>32.0</td>\n",
       "      <td>Male</td>\n",
       "      <td>Bachelor's</td>\n",
       "      <td>Software Engineer</td>\n",
       "      <td>5.0</td>\n",
       "      <td>90000.0</td>\n",
       "    </tr>\n",
       "    <tr>\n",
       "      <th>1</th>\n",
       "      <td>28.0</td>\n",
       "      <td>Female</td>\n",
       "      <td>Master's</td>\n",
       "      <td>Data Analyst</td>\n",
       "      <td>3.0</td>\n",
       "      <td>65000.0</td>\n",
       "    </tr>\n",
       "    <tr>\n",
       "      <th>2</th>\n",
       "      <td>45.0</td>\n",
       "      <td>Male</td>\n",
       "      <td>PhD</td>\n",
       "      <td>Senior Manager</td>\n",
       "      <td>15.0</td>\n",
       "      <td>150000.0</td>\n",
       "    </tr>\n",
       "    <tr>\n",
       "      <th>3</th>\n",
       "      <td>36.0</td>\n",
       "      <td>Female</td>\n",
       "      <td>Bachelor's</td>\n",
       "      <td>Sales Associate</td>\n",
       "      <td>7.0</td>\n",
       "      <td>60000.0</td>\n",
       "    </tr>\n",
       "    <tr>\n",
       "      <th>4</th>\n",
       "      <td>52.0</td>\n",
       "      <td>Male</td>\n",
       "      <td>Master's</td>\n",
       "      <td>Director</td>\n",
       "      <td>20.0</td>\n",
       "      <td>200000.0</td>\n",
       "    </tr>\n",
       "    <tr>\n",
       "      <th>...</th>\n",
       "      <td>...</td>\n",
       "      <td>...</td>\n",
       "      <td>...</td>\n",
       "      <td>...</td>\n",
       "      <td>...</td>\n",
       "      <td>...</td>\n",
       "    </tr>\n",
       "    <tr>\n",
       "      <th>6623</th>\n",
       "      <td>43.0</td>\n",
       "      <td>Female</td>\n",
       "      <td>Master's Degree</td>\n",
       "      <td>Digital Marketing Manager</td>\n",
       "      <td>15.0</td>\n",
       "      <td>150000.0</td>\n",
       "    </tr>\n",
       "    <tr>\n",
       "      <th>6624</th>\n",
       "      <td>27.0</td>\n",
       "      <td>Male</td>\n",
       "      <td>High School</td>\n",
       "      <td>Sales Manager</td>\n",
       "      <td>2.0</td>\n",
       "      <td>40000.0</td>\n",
       "    </tr>\n",
       "    <tr>\n",
       "      <th>6625</th>\n",
       "      <td>33.0</td>\n",
       "      <td>Female</td>\n",
       "      <td>Bachelor's Degree</td>\n",
       "      <td>Director of Marketing</td>\n",
       "      <td>8.0</td>\n",
       "      <td>80000.0</td>\n",
       "    </tr>\n",
       "    <tr>\n",
       "      <th>6628</th>\n",
       "      <td>37.0</td>\n",
       "      <td>Male</td>\n",
       "      <td>Bachelor's Degree</td>\n",
       "      <td>Sales Director</td>\n",
       "      <td>7.0</td>\n",
       "      <td>90000.0</td>\n",
       "    </tr>\n",
       "    <tr>\n",
       "      <th>6631</th>\n",
       "      <td>30.0</td>\n",
       "      <td>Female</td>\n",
       "      <td>Bachelor's Degree</td>\n",
       "      <td>Sales Manager</td>\n",
       "      <td>5.0</td>\n",
       "      <td>70000.0</td>\n",
       "    </tr>\n",
       "  </tbody>\n",
       "</table>\n",
       "<p>1792 rows × 6 columns</p>\n",
       "</div>"
      ],
      "text/plain": [
       "       Age  Gender    Education Level                  Job Title  \\\n",
       "0     32.0    Male         Bachelor's          Software Engineer   \n",
       "1     28.0  Female           Master's               Data Analyst   \n",
       "2     45.0    Male                PhD             Senior Manager   \n",
       "3     36.0  Female         Bachelor's            Sales Associate   \n",
       "4     52.0    Male           Master's                   Director   \n",
       "...    ...     ...                ...                        ...   \n",
       "6623  43.0  Female    Master's Degree  Digital Marketing Manager   \n",
       "6624  27.0    Male        High School              Sales Manager   \n",
       "6625  33.0  Female  Bachelor's Degree      Director of Marketing   \n",
       "6628  37.0    Male  Bachelor's Degree             Sales Director   \n",
       "6631  30.0  Female  Bachelor's Degree              Sales Manager   \n",
       "\n",
       "      Years of Experience    Salary  \n",
       "0                     5.0   90000.0  \n",
       "1                     3.0   65000.0  \n",
       "2                    15.0  150000.0  \n",
       "3                     7.0   60000.0  \n",
       "4                    20.0  200000.0  \n",
       "...                   ...       ...  \n",
       "6623                 15.0  150000.0  \n",
       "6624                  2.0   40000.0  \n",
       "6625                  8.0   80000.0  \n",
       "6628                  7.0   90000.0  \n",
       "6631                  5.0   70000.0  \n",
       "\n",
       "[1792 rows x 6 columns]"
      ]
     },
     "execution_count": 6,
     "metadata": {},
     "output_type": "execute_result"
    }
   ],
   "source": [
    "#\"inplace= True\" means saving the data\n",
    "salary_df.drop_duplicates(inplace = True)\n",
    "salary_df"
   ]
  },
  {
   "cell_type": "markdown",
   "id": "2167acc8",
   "metadata": {},
   "source": [
    "### Remove rows with null values"
   ]
  },
  {
   "cell_type": "code",
   "execution_count": 7,
   "id": "a54b9257",
   "metadata": {},
   "outputs": [],
   "source": [
    "salary_df.dropna(inplace = True)"
   ]
  },
  {
   "cell_type": "markdown",
   "id": "dba2c569",
   "metadata": {},
   "source": [
    "### Replacing all instances of \"Master's\" with \"Master's Degree\", \"Bachelor's\" with \"Bachelor's Degree\", \"phD\" with \"PhD\" because of its inconsistency in the \"Education Level\" Column.\n"
   ]
  },
  {
   "cell_type": "code",
   "execution_count": 8,
   "id": "d2ebb2df",
   "metadata": {
    "scrolled": true
   },
   "outputs": [
    {
     "data": {
      "text/html": [
       "<div>\n",
       "<style scoped>\n",
       "    .dataframe tbody tr th:only-of-type {\n",
       "        vertical-align: middle;\n",
       "    }\n",
       "\n",
       "    .dataframe tbody tr th {\n",
       "        vertical-align: top;\n",
       "    }\n",
       "\n",
       "    .dataframe thead th {\n",
       "        text-align: right;\n",
       "    }\n",
       "</style>\n",
       "<table border=\"1\" class=\"dataframe\">\n",
       "  <thead>\n",
       "    <tr style=\"text-align: right;\">\n",
       "      <th></th>\n",
       "      <th>Age</th>\n",
       "      <th>Gender</th>\n",
       "      <th>Education Level</th>\n",
       "      <th>Job Title</th>\n",
       "      <th>Years of Experience</th>\n",
       "      <th>Salary</th>\n",
       "    </tr>\n",
       "  </thead>\n",
       "  <tbody>\n",
       "    <tr>\n",
       "      <th>0</th>\n",
       "      <td>32.0</td>\n",
       "      <td>Male</td>\n",
       "      <td>Bachelor's Degree</td>\n",
       "      <td>Software Engineer</td>\n",
       "      <td>5.0</td>\n",
       "      <td>90000.0</td>\n",
       "    </tr>\n",
       "    <tr>\n",
       "      <th>1</th>\n",
       "      <td>28.0</td>\n",
       "      <td>Female</td>\n",
       "      <td>Master's Degree</td>\n",
       "      <td>Data Analyst</td>\n",
       "      <td>3.0</td>\n",
       "      <td>65000.0</td>\n",
       "    </tr>\n",
       "    <tr>\n",
       "      <th>2</th>\n",
       "      <td>45.0</td>\n",
       "      <td>Male</td>\n",
       "      <td>PhD</td>\n",
       "      <td>Senior Manager</td>\n",
       "      <td>15.0</td>\n",
       "      <td>150000.0</td>\n",
       "    </tr>\n",
       "    <tr>\n",
       "      <th>3</th>\n",
       "      <td>36.0</td>\n",
       "      <td>Female</td>\n",
       "      <td>Bachelor's Degree</td>\n",
       "      <td>Sales Associate</td>\n",
       "      <td>7.0</td>\n",
       "      <td>60000.0</td>\n",
       "    </tr>\n",
       "    <tr>\n",
       "      <th>4</th>\n",
       "      <td>52.0</td>\n",
       "      <td>Male</td>\n",
       "      <td>Master's Degree</td>\n",
       "      <td>Director</td>\n",
       "      <td>20.0</td>\n",
       "      <td>200000.0</td>\n",
       "    </tr>\n",
       "    <tr>\n",
       "      <th>...</th>\n",
       "      <td>...</td>\n",
       "      <td>...</td>\n",
       "      <td>...</td>\n",
       "      <td>...</td>\n",
       "      <td>...</td>\n",
       "      <td>...</td>\n",
       "    </tr>\n",
       "    <tr>\n",
       "      <th>6623</th>\n",
       "      <td>43.0</td>\n",
       "      <td>Female</td>\n",
       "      <td>Master's Degree</td>\n",
       "      <td>Digital Marketing Manager</td>\n",
       "      <td>15.0</td>\n",
       "      <td>150000.0</td>\n",
       "    </tr>\n",
       "    <tr>\n",
       "      <th>6624</th>\n",
       "      <td>27.0</td>\n",
       "      <td>Male</td>\n",
       "      <td>High School</td>\n",
       "      <td>Sales Manager</td>\n",
       "      <td>2.0</td>\n",
       "      <td>40000.0</td>\n",
       "    </tr>\n",
       "    <tr>\n",
       "      <th>6625</th>\n",
       "      <td>33.0</td>\n",
       "      <td>Female</td>\n",
       "      <td>Bachelor's Degree</td>\n",
       "      <td>Director of Marketing</td>\n",
       "      <td>8.0</td>\n",
       "      <td>80000.0</td>\n",
       "    </tr>\n",
       "    <tr>\n",
       "      <th>6628</th>\n",
       "      <td>37.0</td>\n",
       "      <td>Male</td>\n",
       "      <td>Bachelor's Degree</td>\n",
       "      <td>Sales Director</td>\n",
       "      <td>7.0</td>\n",
       "      <td>90000.0</td>\n",
       "    </tr>\n",
       "    <tr>\n",
       "      <th>6631</th>\n",
       "      <td>30.0</td>\n",
       "      <td>Female</td>\n",
       "      <td>Bachelor's Degree</td>\n",
       "      <td>Sales Manager</td>\n",
       "      <td>5.0</td>\n",
       "      <td>70000.0</td>\n",
       "    </tr>\n",
       "  </tbody>\n",
       "</table>\n",
       "<p>1787 rows × 6 columns</p>\n",
       "</div>"
      ],
      "text/plain": [
       "       Age  Gender    Education Level                  Job Title  \\\n",
       "0     32.0    Male  Bachelor's Degree          Software Engineer   \n",
       "1     28.0  Female    Master's Degree               Data Analyst   \n",
       "2     45.0    Male                PhD             Senior Manager   \n",
       "3     36.0  Female  Bachelor's Degree            Sales Associate   \n",
       "4     52.0    Male    Master's Degree                   Director   \n",
       "...    ...     ...                ...                        ...   \n",
       "6623  43.0  Female    Master's Degree  Digital Marketing Manager   \n",
       "6624  27.0    Male        High School              Sales Manager   \n",
       "6625  33.0  Female  Bachelor's Degree      Director of Marketing   \n",
       "6628  37.0    Male  Bachelor's Degree             Sales Director   \n",
       "6631  30.0  Female  Bachelor's Degree              Sales Manager   \n",
       "\n",
       "      Years of Experience    Salary  \n",
       "0                     5.0   90000.0  \n",
       "1                     3.0   65000.0  \n",
       "2                    15.0  150000.0  \n",
       "3                     7.0   60000.0  \n",
       "4                    20.0  200000.0  \n",
       "...                   ...       ...  \n",
       "6623                 15.0  150000.0  \n",
       "6624                  2.0   40000.0  \n",
       "6625                  8.0   80000.0  \n",
       "6628                  7.0   90000.0  \n",
       "6631                  5.0   70000.0  \n",
       "\n",
       "[1787 rows x 6 columns]"
      ]
     },
     "execution_count": 8,
     "metadata": {},
     "output_type": "execute_result"
    }
   ],
   "source": [
    "salary_df[\"Education Level\"] = salary_df[\"Education Level\"].str.replace(\"Degree\", \"\")\n",
    "salary_df[\"Education Level\"] = salary_df[\"Education Level\"].str.strip()\n",
    "salary_df[\"Education Level\"] = salary_df[\"Education Level\"].str.replace(\"Master's\", \"Master's Degree\")\n",
    "salary_df[\"Education Level\"] = salary_df[\"Education Level\"].str.replace(\"Bachelor's\", \"Bachelor's Degree\")\n",
    "salary_df[\"Education Level\"] = salary_df[\"Education Level\"].str.replace(\"phD\", \"PhD\")\n",
    "\n",
    "salary_df"
   ]
  },
  {
   "cell_type": "markdown",
   "id": "7e4c3492",
   "metadata": {},
   "source": [
    "### Resetting the index"
   ]
  },
  {
   "cell_type": "code",
   "execution_count": 9,
   "id": "7042c55e",
   "metadata": {},
   "outputs": [
    {
     "data": {
      "text/html": [
       "<div>\n",
       "<style scoped>\n",
       "    .dataframe tbody tr th:only-of-type {\n",
       "        vertical-align: middle;\n",
       "    }\n",
       "\n",
       "    .dataframe tbody tr th {\n",
       "        vertical-align: top;\n",
       "    }\n",
       "\n",
       "    .dataframe thead th {\n",
       "        text-align: right;\n",
       "    }\n",
       "</style>\n",
       "<table border=\"1\" class=\"dataframe\">\n",
       "  <thead>\n",
       "    <tr style=\"text-align: right;\">\n",
       "      <th></th>\n",
       "      <th>Age</th>\n",
       "      <th>Gender</th>\n",
       "      <th>Education Level</th>\n",
       "      <th>Job Title</th>\n",
       "      <th>Years of Experience</th>\n",
       "      <th>Salary</th>\n",
       "    </tr>\n",
       "  </thead>\n",
       "  <tbody>\n",
       "    <tr>\n",
       "      <th>0</th>\n",
       "      <td>32.0</td>\n",
       "      <td>Male</td>\n",
       "      <td>Bachelor's Degree</td>\n",
       "      <td>Software Engineer</td>\n",
       "      <td>5.0</td>\n",
       "      <td>90000.0</td>\n",
       "    </tr>\n",
       "    <tr>\n",
       "      <th>1</th>\n",
       "      <td>28.0</td>\n",
       "      <td>Female</td>\n",
       "      <td>Master's Degree</td>\n",
       "      <td>Data Analyst</td>\n",
       "      <td>3.0</td>\n",
       "      <td>65000.0</td>\n",
       "    </tr>\n",
       "    <tr>\n",
       "      <th>2</th>\n",
       "      <td>45.0</td>\n",
       "      <td>Male</td>\n",
       "      <td>PhD</td>\n",
       "      <td>Senior Manager</td>\n",
       "      <td>15.0</td>\n",
       "      <td>150000.0</td>\n",
       "    </tr>\n",
       "    <tr>\n",
       "      <th>3</th>\n",
       "      <td>36.0</td>\n",
       "      <td>Female</td>\n",
       "      <td>Bachelor's Degree</td>\n",
       "      <td>Sales Associate</td>\n",
       "      <td>7.0</td>\n",
       "      <td>60000.0</td>\n",
       "    </tr>\n",
       "    <tr>\n",
       "      <th>4</th>\n",
       "      <td>52.0</td>\n",
       "      <td>Male</td>\n",
       "      <td>Master's Degree</td>\n",
       "      <td>Director</td>\n",
       "      <td>20.0</td>\n",
       "      <td>200000.0</td>\n",
       "    </tr>\n",
       "    <tr>\n",
       "      <th>...</th>\n",
       "      <td>...</td>\n",
       "      <td>...</td>\n",
       "      <td>...</td>\n",
       "      <td>...</td>\n",
       "      <td>...</td>\n",
       "      <td>...</td>\n",
       "    </tr>\n",
       "    <tr>\n",
       "      <th>1782</th>\n",
       "      <td>43.0</td>\n",
       "      <td>Female</td>\n",
       "      <td>Master's Degree</td>\n",
       "      <td>Digital Marketing Manager</td>\n",
       "      <td>15.0</td>\n",
       "      <td>150000.0</td>\n",
       "    </tr>\n",
       "    <tr>\n",
       "      <th>1783</th>\n",
       "      <td>27.0</td>\n",
       "      <td>Male</td>\n",
       "      <td>High School</td>\n",
       "      <td>Sales Manager</td>\n",
       "      <td>2.0</td>\n",
       "      <td>40000.0</td>\n",
       "    </tr>\n",
       "    <tr>\n",
       "      <th>1784</th>\n",
       "      <td>33.0</td>\n",
       "      <td>Female</td>\n",
       "      <td>Bachelor's Degree</td>\n",
       "      <td>Director of Marketing</td>\n",
       "      <td>8.0</td>\n",
       "      <td>80000.0</td>\n",
       "    </tr>\n",
       "    <tr>\n",
       "      <th>1785</th>\n",
       "      <td>37.0</td>\n",
       "      <td>Male</td>\n",
       "      <td>Bachelor's Degree</td>\n",
       "      <td>Sales Director</td>\n",
       "      <td>7.0</td>\n",
       "      <td>90000.0</td>\n",
       "    </tr>\n",
       "    <tr>\n",
       "      <th>1786</th>\n",
       "      <td>30.0</td>\n",
       "      <td>Female</td>\n",
       "      <td>Bachelor's Degree</td>\n",
       "      <td>Sales Manager</td>\n",
       "      <td>5.0</td>\n",
       "      <td>70000.0</td>\n",
       "    </tr>\n",
       "  </tbody>\n",
       "</table>\n",
       "<p>1787 rows × 6 columns</p>\n",
       "</div>"
      ],
      "text/plain": [
       "       Age  Gender    Education Level                  Job Title  \\\n",
       "0     32.0    Male  Bachelor's Degree          Software Engineer   \n",
       "1     28.0  Female    Master's Degree               Data Analyst   \n",
       "2     45.0    Male                PhD             Senior Manager   \n",
       "3     36.0  Female  Bachelor's Degree            Sales Associate   \n",
       "4     52.0    Male    Master's Degree                   Director   \n",
       "...    ...     ...                ...                        ...   \n",
       "1782  43.0  Female    Master's Degree  Digital Marketing Manager   \n",
       "1783  27.0    Male        High School              Sales Manager   \n",
       "1784  33.0  Female  Bachelor's Degree      Director of Marketing   \n",
       "1785  37.0    Male  Bachelor's Degree             Sales Director   \n",
       "1786  30.0  Female  Bachelor's Degree              Sales Manager   \n",
       "\n",
       "      Years of Experience    Salary  \n",
       "0                     5.0   90000.0  \n",
       "1                     3.0   65000.0  \n",
       "2                    15.0  150000.0  \n",
       "3                     7.0   60000.0  \n",
       "4                    20.0  200000.0  \n",
       "...                   ...       ...  \n",
       "1782                 15.0  150000.0  \n",
       "1783                  2.0   40000.0  \n",
       "1784                  8.0   80000.0  \n",
       "1785                  7.0   90000.0  \n",
       "1786                  5.0   70000.0  \n",
       "\n",
       "[1787 rows x 6 columns]"
      ]
     },
     "execution_count": 9,
     "metadata": {},
     "output_type": "execute_result"
    }
   ],
   "source": [
    "salary_df = salary_df.reset_index(drop= True)\n",
    "salary_df"
   ]
  },
  {
   "cell_type": "markdown",
   "id": "a22ffd9e",
   "metadata": {},
   "source": [
    "## Derivation of Insights"
   ]
  },
  {
   "cell_type": "markdown",
   "id": "6078fcb6",
   "metadata": {},
   "source": [
    "### Creating Age Group column for better visualization of age insights."
   ]
  },
  {
   "cell_type": "code",
   "execution_count": 10,
   "id": "8d83598f",
   "metadata": {},
   "outputs": [
    {
     "name": "stdout",
     "output_type": "stream",
     "text": [
      "Age Group\n",
      "20-29    546\n",
      "30-39    724\n",
      "40-49    401\n",
      "50-59    110\n",
      "60-62      6\n",
      "dtype: int64\n"
     ]
    }
   ],
   "source": [
    "# Create the age bins\n",
    "bins = [20, 30, 40, 50, 60, 70]  # Specify the age bin boundaries\n",
    "\n",
    "# Create labels for the age bins\n",
    "labels = ['20-29', '30-39', '40-49', '50-59', '60-62']  # Assign labels to the age bins\n",
    "\n",
    "# Create a new column 'Age Group' based on the age bins\n",
    "salary_df['Age Group'] = pd.cut(salary_df['Age'], bins=bins, labels=labels, right=False)\n",
    "\n",
    "# Group the data by the 'Age Group' column and count the number of workers in each group\n",
    "age_group_counts = salary_df.groupby('Age Group').size()\n",
    "\n",
    "print(age_group_counts)"
   ]
  },
  {
   "cell_type": "markdown",
   "id": "448dffd4",
   "metadata": {},
   "source": [
    "### Age Group column has been added"
   ]
  },
  {
   "cell_type": "code",
   "execution_count": 11,
   "id": "37bd869e",
   "metadata": {
    "scrolled": true
   },
   "outputs": [
    {
     "data": {
      "text/html": [
       "<div>\n",
       "<style scoped>\n",
       "    .dataframe tbody tr th:only-of-type {\n",
       "        vertical-align: middle;\n",
       "    }\n",
       "\n",
       "    .dataframe tbody tr th {\n",
       "        vertical-align: top;\n",
       "    }\n",
       "\n",
       "    .dataframe thead th {\n",
       "        text-align: right;\n",
       "    }\n",
       "</style>\n",
       "<table border=\"1\" class=\"dataframe\">\n",
       "  <thead>\n",
       "    <tr style=\"text-align: right;\">\n",
       "      <th></th>\n",
       "      <th>Age</th>\n",
       "      <th>Gender</th>\n",
       "      <th>Education Level</th>\n",
       "      <th>Job Title</th>\n",
       "      <th>Years of Experience</th>\n",
       "      <th>Salary</th>\n",
       "      <th>Age Group</th>\n",
       "    </tr>\n",
       "  </thead>\n",
       "  <tbody>\n",
       "    <tr>\n",
       "      <th>0</th>\n",
       "      <td>32.0</td>\n",
       "      <td>Male</td>\n",
       "      <td>Bachelor's Degree</td>\n",
       "      <td>Software Engineer</td>\n",
       "      <td>5.0</td>\n",
       "      <td>90000.0</td>\n",
       "      <td>30-39</td>\n",
       "    </tr>\n",
       "    <tr>\n",
       "      <th>1</th>\n",
       "      <td>28.0</td>\n",
       "      <td>Female</td>\n",
       "      <td>Master's Degree</td>\n",
       "      <td>Data Analyst</td>\n",
       "      <td>3.0</td>\n",
       "      <td>65000.0</td>\n",
       "      <td>20-29</td>\n",
       "    </tr>\n",
       "    <tr>\n",
       "      <th>2</th>\n",
       "      <td>45.0</td>\n",
       "      <td>Male</td>\n",
       "      <td>PhD</td>\n",
       "      <td>Senior Manager</td>\n",
       "      <td>15.0</td>\n",
       "      <td>150000.0</td>\n",
       "      <td>40-49</td>\n",
       "    </tr>\n",
       "    <tr>\n",
       "      <th>3</th>\n",
       "      <td>36.0</td>\n",
       "      <td>Female</td>\n",
       "      <td>Bachelor's Degree</td>\n",
       "      <td>Sales Associate</td>\n",
       "      <td>7.0</td>\n",
       "      <td>60000.0</td>\n",
       "      <td>30-39</td>\n",
       "    </tr>\n",
       "    <tr>\n",
       "      <th>4</th>\n",
       "      <td>52.0</td>\n",
       "      <td>Male</td>\n",
       "      <td>Master's Degree</td>\n",
       "      <td>Director</td>\n",
       "      <td>20.0</td>\n",
       "      <td>200000.0</td>\n",
       "      <td>50-59</td>\n",
       "    </tr>\n",
       "    <tr>\n",
       "      <th>...</th>\n",
       "      <td>...</td>\n",
       "      <td>...</td>\n",
       "      <td>...</td>\n",
       "      <td>...</td>\n",
       "      <td>...</td>\n",
       "      <td>...</td>\n",
       "      <td>...</td>\n",
       "    </tr>\n",
       "    <tr>\n",
       "      <th>1782</th>\n",
       "      <td>43.0</td>\n",
       "      <td>Female</td>\n",
       "      <td>Master's Degree</td>\n",
       "      <td>Digital Marketing Manager</td>\n",
       "      <td>15.0</td>\n",
       "      <td>150000.0</td>\n",
       "      <td>40-49</td>\n",
       "    </tr>\n",
       "    <tr>\n",
       "      <th>1783</th>\n",
       "      <td>27.0</td>\n",
       "      <td>Male</td>\n",
       "      <td>High School</td>\n",
       "      <td>Sales Manager</td>\n",
       "      <td>2.0</td>\n",
       "      <td>40000.0</td>\n",
       "      <td>20-29</td>\n",
       "    </tr>\n",
       "    <tr>\n",
       "      <th>1784</th>\n",
       "      <td>33.0</td>\n",
       "      <td>Female</td>\n",
       "      <td>Bachelor's Degree</td>\n",
       "      <td>Director of Marketing</td>\n",
       "      <td>8.0</td>\n",
       "      <td>80000.0</td>\n",
       "      <td>30-39</td>\n",
       "    </tr>\n",
       "    <tr>\n",
       "      <th>1785</th>\n",
       "      <td>37.0</td>\n",
       "      <td>Male</td>\n",
       "      <td>Bachelor's Degree</td>\n",
       "      <td>Sales Director</td>\n",
       "      <td>7.0</td>\n",
       "      <td>90000.0</td>\n",
       "      <td>30-39</td>\n",
       "    </tr>\n",
       "    <tr>\n",
       "      <th>1786</th>\n",
       "      <td>30.0</td>\n",
       "      <td>Female</td>\n",
       "      <td>Bachelor's Degree</td>\n",
       "      <td>Sales Manager</td>\n",
       "      <td>5.0</td>\n",
       "      <td>70000.0</td>\n",
       "      <td>30-39</td>\n",
       "    </tr>\n",
       "  </tbody>\n",
       "</table>\n",
       "<p>1787 rows × 7 columns</p>\n",
       "</div>"
      ],
      "text/plain": [
       "       Age  Gender    Education Level                  Job Title  \\\n",
       "0     32.0    Male  Bachelor's Degree          Software Engineer   \n",
       "1     28.0  Female    Master's Degree               Data Analyst   \n",
       "2     45.0    Male                PhD             Senior Manager   \n",
       "3     36.0  Female  Bachelor's Degree            Sales Associate   \n",
       "4     52.0    Male    Master's Degree                   Director   \n",
       "...    ...     ...                ...                        ...   \n",
       "1782  43.0  Female    Master's Degree  Digital Marketing Manager   \n",
       "1783  27.0    Male        High School              Sales Manager   \n",
       "1784  33.0  Female  Bachelor's Degree      Director of Marketing   \n",
       "1785  37.0    Male  Bachelor's Degree             Sales Director   \n",
       "1786  30.0  Female  Bachelor's Degree              Sales Manager   \n",
       "\n",
       "      Years of Experience    Salary Age Group  \n",
       "0                     5.0   90000.0     30-39  \n",
       "1                     3.0   65000.0     20-29  \n",
       "2                    15.0  150000.0     40-49  \n",
       "3                     7.0   60000.0     30-39  \n",
       "4                    20.0  200000.0     50-59  \n",
       "...                   ...       ...       ...  \n",
       "1782                 15.0  150000.0     40-49  \n",
       "1783                  2.0   40000.0     20-29  \n",
       "1784                  8.0   80000.0     30-39  \n",
       "1785                  7.0   90000.0     30-39  \n",
       "1786                  5.0   70000.0     30-39  \n",
       "\n",
       "[1787 rows x 7 columns]"
      ]
     },
     "execution_count": 11,
     "metadata": {},
     "output_type": "execute_result"
    }
   ],
   "source": [
    "salary_df"
   ]
  },
  {
   "cell_type": "code",
   "execution_count": 12,
   "id": "b517a75a",
   "metadata": {
    "scrolled": true
   },
   "outputs": [
    {
     "data": {
      "text/html": [
       "<div>\n",
       "<style scoped>\n",
       "    .dataframe tbody tr th:only-of-type {\n",
       "        vertical-align: middle;\n",
       "    }\n",
       "\n",
       "    .dataframe tbody tr th {\n",
       "        vertical-align: top;\n",
       "    }\n",
       "\n",
       "    .dataframe thead th {\n",
       "        text-align: right;\n",
       "    }\n",
       "</style>\n",
       "<table border=\"1\" class=\"dataframe\">\n",
       "  <thead>\n",
       "    <tr style=\"text-align: right;\">\n",
       "      <th></th>\n",
       "      <th>Salary</th>\n",
       "    </tr>\n",
       "    <tr>\n",
       "      <th>Age Group</th>\n",
       "      <th></th>\n",
       "    </tr>\n",
       "  </thead>\n",
       "  <tbody>\n",
       "    <tr>\n",
       "      <th>20-29</th>\n",
       "      <td>66677.393773</td>\n",
       "    </tr>\n",
       "    <tr>\n",
       "      <th>30-39</th>\n",
       "      <td>111271.430939</td>\n",
       "    </tr>\n",
       "    <tr>\n",
       "      <th>40-49</th>\n",
       "      <td>158713.847880</td>\n",
       "    </tr>\n",
       "    <tr>\n",
       "      <th>50-59</th>\n",
       "      <td>186250.272727</td>\n",
       "    </tr>\n",
       "    <tr>\n",
       "      <th>60-62</th>\n",
       "      <td>193805.166667</td>\n",
       "    </tr>\n",
       "  </tbody>\n",
       "</table>\n",
       "</div>"
      ],
      "text/plain": [
       "                  Salary\n",
       "Age Group               \n",
       "20-29       66677.393773\n",
       "30-39      111271.430939\n",
       "40-49      158713.847880\n",
       "50-59      186250.272727\n",
       "60-62      193805.166667"
      ]
     },
     "execution_count": 12,
     "metadata": {},
     "output_type": "execute_result"
    }
   ],
   "source": [
    "age_salary = salary_df[['Age Group', 'Salary']].groupby(\"Age Group\").mean().sort_values(by=\"Salary\")\n",
    "age_salary"
   ]
  },
  {
   "cell_type": "markdown",
   "id": "1a6f7ad3",
   "metadata": {},
   "source": [
    "### Bar Chart for Age Group against Salary - On average, Older workers earn more than the younger workers."
   ]
  },
  {
   "cell_type": "code",
   "execution_count": 13,
   "id": "0f3dc68e",
   "metadata": {},
   "outputs": [
    {
     "data": {
      "image/png": "[encoded data removed]",
      "text/plain": [
       "<Figure size 640x480 with 1 Axes>"
      ]
     },
     "metadata": {},
     "output_type": "display_data"
    }
   ],
   "source": [
    "age_salary.plot(kind=\"barh\")\n",
    "plt.title(\"Age Group against Salary\")\n",
    "plt.show()"
   ]
  },
  {
   "cell_type": "code",
   "execution_count": 14,
   "id": "1b5b7c2e",
   "metadata": {},
   "outputs": [
    {
     "data": {
      "text/html": [
       "<div>\n",
       "<style scoped>\n",
       "    .dataframe tbody tr th:only-of-type {\n",
       "        vertical-align: middle;\n",
       "    }\n",
       "\n",
       "    .dataframe tbody tr th {\n",
       "        vertical-align: top;\n",
       "    }\n",
       "\n",
       "    .dataframe thead th {\n",
       "        text-align: right;\n",
       "    }\n",
       "</style>\n",
       "<table border=\"1\" class=\"dataframe\">\n",
       "  <thead>\n",
       "    <tr style=\"text-align: right;\">\n",
       "      <th></th>\n",
       "      <th>Years of Experience</th>\n",
       "    </tr>\n",
       "    <tr>\n",
       "      <th>Age Group</th>\n",
       "      <th></th>\n",
       "    </tr>\n",
       "  </thead>\n",
       "  <tbody>\n",
       "    <tr>\n",
       "      <th>20-29</th>\n",
       "      <td>2.630037</td>\n",
       "    </tr>\n",
       "    <tr>\n",
       "      <th>30-39</th>\n",
       "      <td>7.864641</td>\n",
       "    </tr>\n",
       "    <tr>\n",
       "      <th>40-49</th>\n",
       "      <td>16.356608</td>\n",
       "    </tr>\n",
       "    <tr>\n",
       "      <th>50-59</th>\n",
       "      <td>22.990909</td>\n",
       "    </tr>\n",
       "    <tr>\n",
       "      <th>60-62</th>\n",
       "      <td>24.000000</td>\n",
       "    </tr>\n",
       "  </tbody>\n",
       "</table>\n",
       "</div>"
      ],
      "text/plain": [
       "           Years of Experience\n",
       "Age Group                     \n",
       "20-29                 2.630037\n",
       "30-39                 7.864641\n",
       "40-49                16.356608\n",
       "50-59                22.990909\n",
       "60-62                24.000000"
      ]
     },
     "execution_count": 14,
     "metadata": {},
     "output_type": "execute_result"
    }
   ],
   "source": [
    "age_xp = salary_df[['Age Group', 'Years of Experience']].groupby(\"Age Group\").mean().sort_values(by=\"Years of Experience\")\n",
    "age_xp"
   ]
  },
  {
   "cell_type": "markdown",
   "id": "efa38cef",
   "metadata": {},
   "source": [
    "### Bar Chart for Age Group against Years of Experience - On average, Older workers have more experience than the younger workers."
   ]
  },
  {
   "cell_type": "code",
   "execution_count": 15,
   "id": "8b03c18e",
   "metadata": {
    "scrolled": true
   },
   "outputs": [
    {
     "data": {
      "image/png": "[encoded data removed]",
      "text/plain": [
       "<Figure size 640x480 with 1 Axes>"
      ]
     },
     "metadata": {},
     "output_type": "display_data"
    }
   ],
   "source": [
    "age_xp.plot(kind=\"barh\")\n",
    "plt.title(\"Age Group against Years of Experience\")\n",
    "plt.show()"
   ]
  },
  {
   "cell_type": "markdown",
   "id": "8dc1ede8",
   "metadata": {},
   "source": [
    "#### Getting the frequency of each gender"
   ]
  },
  {
   "cell_type": "code",
   "execution_count": 16,
   "id": "0163603a",
   "metadata": {},
   "outputs": [
    {
     "data": {
      "text/html": [
       "<div>\n",
       "<style scoped>\n",
       "    .dataframe tbody tr th:only-of-type {\n",
       "        vertical-align: middle;\n",
       "    }\n",
       "\n",
       "    .dataframe tbody tr th {\n",
       "        vertical-align: top;\n",
       "    }\n",
       "\n",
       "    .dataframe thead th {\n",
       "        text-align: right;\n",
       "    }\n",
       "</style>\n",
       "<table border=\"1\" class=\"dataframe\">\n",
       "  <thead>\n",
       "    <tr style=\"text-align: right;\">\n",
       "      <th></th>\n",
       "      <th>Gender</th>\n",
       "      <th>Frequency</th>\n",
       "    </tr>\n",
       "  </thead>\n",
       "  <tbody>\n",
       "    <tr>\n",
       "      <th>0</th>\n",
       "      <td>Male</td>\n",
       "      <td>966</td>\n",
       "    </tr>\n",
       "    <tr>\n",
       "      <th>1</th>\n",
       "      <td>Female</td>\n",
       "      <td>814</td>\n",
       "    </tr>\n",
       "    <tr>\n",
       "      <th>2</th>\n",
       "      <td>Other</td>\n",
       "      <td>7</td>\n",
       "    </tr>\n",
       "  </tbody>\n",
       "</table>\n",
       "</div>"
      ],
      "text/plain": [
       "   Gender  Frequency\n",
       "0    Male        966\n",
       "1  Female        814\n",
       "2   Other          7"
      ]
     },
     "execution_count": 16,
     "metadata": {},
     "output_type": "execute_result"
    }
   ],
   "source": [
    "\n",
    "gender_freq = salary_df[\"Gender\"].value_counts()\n",
    "male_freq = gender_freq[\"Male\"]\n",
    "female_freq = gender_freq[\"Female\"]\n",
    "other_freq = gender_freq[\"Other\"]\n",
    "\n",
    "# Putting the values in a dataframe\n",
    "gender_table = pd.DataFrame({\n",
    "\"Gender\": [\"Male\", \"Female\", \"Other\"],\n",
    "    \"Frequency\": [male_freq, female_freq, other_freq]\n",
    "})\n",
    "gender_table"
   ]
  },
  {
   "cell_type": "markdown",
   "id": "fb49c6a4",
   "metadata": {},
   "source": [
    "## Gender pie chart showing the frequency of each gender"
   ]
  },
  {
   "cell_type": "code",
   "execution_count": 17,
   "id": "2b531b72",
   "metadata": {
    "scrolled": true
   },
   "outputs": [
    {
     "data": {
      "image/png": "[encoded data removed]",
      "text/plain": [
       "<Figure size 640x480 with 1 Axes>"
      ]
     },
     "metadata": {},
     "output_type": "display_data"
    }
   ],
   "source": [
    "my_labels = [\"Male\", \"Female\", \"Other\"]\n",
    "plt.pie(gender_table['Frequency'], labels=my_labels, autopct='%1.1f%%', shadow= True)\n",
    "plt.axis('equal')\n",
    "plt.title('Gender Chart')\n",
    "plt.show()"
   ]
  },
  {
   "cell_type": "markdown",
   "id": "ea8cde24",
   "metadata": {},
   "source": [
    "## Gender - Which gender earns the most?\n",
    "### On average, workers who identify as \"Other\" earn the most, have the most experience, and are the oldest, followed by Male workers, and Female workers having the least pay, experience and age. Observe Table  and Chart below."
   ]
  },
  {
   "cell_type": "code",
   "execution_count": 18,
   "id": "825b1423",
   "metadata": {},
   "outputs": [],
   "source": [
    "gender_salary = salary_df[[\"Gender\", \"Salary\"]].groupby(\"Gender\").mean().sort_values(\"Salary\", ascending=False)\n",
    "gender_xp = salary_df[[\"Gender\", \"Years of Experience\"]].groupby(\"Gender\").mean().sort_values(\"Years of Experience\", ascending=False)\n",
    "gender_age = salary_df[[\"Gender\", \"Age\"]].groupby(\"Gender\").mean().sort_values(\"Age\", ascending=False)\n"
   ]
  },
  {
   "cell_type": "code",
   "execution_count": 19,
   "id": "9034d3a0",
   "metadata": {
    "scrolled": true
   },
   "outputs": [
    {
     "data": {
      "image/png": "[encoded data removed]",
      "text/plain": [
       "<Figure size 640x480 with 1 Axes>"
      ]
     },
     "metadata": {},
     "output_type": "display_data"
    }
   ],
   "source": [
    "gender_salary.plot(kind= \"barh\")\n",
    "plt.title(\"Gender against Salary\")\n",
    "plt.xlabel(\"Salary\")\n",
    "plt.show()"
   ]
  },
  {
   "cell_type": "code",
   "execution_count": 20,
   "id": "861e6e51",
   "metadata": {},
   "outputs": [
    {
     "data": {
      "image/png": "[encoded data removed]",
      "text/plain": [
       "<Figure size 640x480 with 1 Axes>"
      ]
     },
     "metadata": {},
     "output_type": "display_data"
    }
   ],
   "source": [
    "gender_age.plot(kind= \"barh\")\n",
    "plt.title(\"Gender against Age\")\n",
    "plt.xlabel(\"Age\")\n",
    "plt.show()"
   ]
  },
  {
   "cell_type": "code",
   "execution_count": 21,
   "id": "9626a221",
   "metadata": {
    "scrolled": true
   },
   "outputs": [
    {
     "data": {
      "image/png": "[encoded data removed]",
      "text/plain": [
       "<Figure size 640x480 with 1 Axes>"
      ]
     },
     "metadata": {},
     "output_type": "display_data"
    }
   ],
   "source": [
    "gender_xp.plot(kind= \"barh\")\n",
    "plt.title(\"Gender against Years of Experience\")\n",
    "plt.xlabel(\"Salary\")\n",
    "plt.show()"
   ]
  },
  {
   "cell_type": "markdown",
   "id": "912babb5",
   "metadata": {},
   "source": [
    "### 6 out of the 7 workers who identified as \"Other\" have only attained a High School degree."
   ]
  },
  {
   "cell_type": "code",
   "execution_count": 22,
   "id": "064bdb77",
   "metadata": {
    "scrolled": true
   },
   "outputs": [
    {
     "data": {
      "text/html": [
       "<div>\n",
       "<style scoped>\n",
       "    .dataframe tbody tr th:only-of-type {\n",
       "        vertical-align: middle;\n",
       "    }\n",
       "\n",
       "    .dataframe tbody tr th {\n",
       "        vertical-align: top;\n",
       "    }\n",
       "\n",
       "    .dataframe thead th {\n",
       "        text-align: right;\n",
       "    }\n",
       "</style>\n",
       "<table border=\"1\" class=\"dataframe\">\n",
       "  <thead>\n",
       "    <tr style=\"text-align: right;\">\n",
       "      <th></th>\n",
       "      <th>Age</th>\n",
       "      <th>Gender</th>\n",
       "      <th>Education Level</th>\n",
       "      <th>Job Title</th>\n",
       "      <th>Years of Experience</th>\n",
       "      <th>Salary</th>\n",
       "      <th>Age Group</th>\n",
       "    </tr>\n",
       "  </thead>\n",
       "  <tbody>\n",
       "    <tr>\n",
       "      <th>721</th>\n",
       "      <td>53.0</td>\n",
       "      <td>Other</td>\n",
       "      <td>High School</td>\n",
       "      <td>Senior Project Engineer</td>\n",
       "      <td>31.0</td>\n",
       "      <td>166109.0</td>\n",
       "      <td>50-59</td>\n",
       "    </tr>\n",
       "    <tr>\n",
       "      <th>728</th>\n",
       "      <td>25.0</td>\n",
       "      <td>Other</td>\n",
       "      <td>High School</td>\n",
       "      <td>Full Stack Engineer</td>\n",
       "      <td>2.0</td>\n",
       "      <td>69032.0</td>\n",
       "      <td>20-29</td>\n",
       "    </tr>\n",
       "    <tr>\n",
       "      <th>749</th>\n",
       "      <td>37.0</td>\n",
       "      <td>Other</td>\n",
       "      <td>Master's Degree</td>\n",
       "      <td>Full Stack Engineer</td>\n",
       "      <td>14.0</td>\n",
       "      <td>161393.0</td>\n",
       "      <td>30-39</td>\n",
       "    </tr>\n",
       "    <tr>\n",
       "      <th>791</th>\n",
       "      <td>31.0</td>\n",
       "      <td>Other</td>\n",
       "      <td>High School</td>\n",
       "      <td>Back end Developer</td>\n",
       "      <td>8.0</td>\n",
       "      <td>104127.0</td>\n",
       "      <td>30-39</td>\n",
       "    </tr>\n",
       "    <tr>\n",
       "      <th>797</th>\n",
       "      <td>23.0</td>\n",
       "      <td>Other</td>\n",
       "      <td>High School</td>\n",
       "      <td>Front end Developer</td>\n",
       "      <td>2.0</td>\n",
       "      <td>62852.0</td>\n",
       "      <td>20-29</td>\n",
       "    </tr>\n",
       "    <tr>\n",
       "      <th>817</th>\n",
       "      <td>54.0</td>\n",
       "      <td>Other</td>\n",
       "      <td>High School</td>\n",
       "      <td>Senior Software Engineer</td>\n",
       "      <td>29.0</td>\n",
       "      <td>158254.0</td>\n",
       "      <td>50-59</td>\n",
       "    </tr>\n",
       "    <tr>\n",
       "      <th>967</th>\n",
       "      <td>54.0</td>\n",
       "      <td>Other</td>\n",
       "      <td>High School</td>\n",
       "      <td>Senior Software Engineer</td>\n",
       "      <td>29.0</td>\n",
       "      <td>158966.0</td>\n",
       "      <td>50-59</td>\n",
       "    </tr>\n",
       "  </tbody>\n",
       "</table>\n",
       "</div>"
      ],
      "text/plain": [
       "      Age Gender  Education Level                 Job Title  \\\n",
       "721  53.0  Other      High School   Senior Project Engineer   \n",
       "728  25.0  Other      High School       Full Stack Engineer   \n",
       "749  37.0  Other  Master's Degree       Full Stack Engineer   \n",
       "791  31.0  Other      High School        Back end Developer   \n",
       "797  23.0  Other      High School       Front end Developer   \n",
       "817  54.0  Other      High School  Senior Software Engineer   \n",
       "967  54.0  Other      High School  Senior Software Engineer   \n",
       "\n",
       "     Years of Experience    Salary Age Group  \n",
       "721                 31.0  166109.0     50-59  \n",
       "728                  2.0   69032.0     20-29  \n",
       "749                 14.0  161393.0     30-39  \n",
       "791                  8.0  104127.0     30-39  \n",
       "797                  2.0   62852.0     20-29  \n",
       "817                 29.0  158254.0     50-59  \n",
       "967                 29.0  158966.0     50-59  "
      ]
     },
     "execution_count": 22,
     "metadata": {},
     "output_type": "execute_result"
    }
   ],
   "source": [
    "salary_df[salary_df[\"Gender\"].str.contains(\"Other\")]"
   ]
  },
  {
   "cell_type": "markdown",
   "id": "b9ad6c3e",
   "metadata": {},
   "source": [
    "#### Getting the frequency of each education level"
   ]
  },
  {
   "cell_type": "code",
   "execution_count": 23,
   "id": "12f52b17",
   "metadata": {},
   "outputs": [
    {
     "data": {
      "text/html": [
       "<div>\n",
       "<style scoped>\n",
       "    .dataframe tbody tr th:only-of-type {\n",
       "        vertical-align: middle;\n",
       "    }\n",
       "\n",
       "    .dataframe tbody tr th {\n",
       "        vertical-align: top;\n",
       "    }\n",
       "\n",
       "    .dataframe thead th {\n",
       "        text-align: right;\n",
       "    }\n",
       "</style>\n",
       "<table border=\"1\" class=\"dataframe\">\n",
       "  <thead>\n",
       "    <tr style=\"text-align: right;\">\n",
       "      <th></th>\n",
       "      <th>Education Level</th>\n",
       "      <th>Frequency</th>\n",
       "    </tr>\n",
       "  </thead>\n",
       "  <tbody>\n",
       "    <tr>\n",
       "      <th>0</th>\n",
       "      <td>PhD</td>\n",
       "      <td>341</td>\n",
       "    </tr>\n",
       "    <tr>\n",
       "      <th>1</th>\n",
       "      <td>Master's Degree</td>\n",
       "      <td>568</td>\n",
       "    </tr>\n",
       "    <tr>\n",
       "      <th>2</th>\n",
       "      <td>Bachelor's Degree</td>\n",
       "      <td>768</td>\n",
       "    </tr>\n",
       "    <tr>\n",
       "      <th>3</th>\n",
       "      <td>High School</td>\n",
       "      <td>110</td>\n",
       "    </tr>\n",
       "  </tbody>\n",
       "</table>\n",
       "</div>"
      ],
      "text/plain": [
       "     Education Level  Frequency\n",
       "0                PhD        341\n",
       "1    Master's Degree        568\n",
       "2  Bachelor's Degree        768\n",
       "3        High School        110"
      ]
     },
     "execution_count": 23,
     "metadata": {},
     "output_type": "execute_result"
    }
   ],
   "source": [
    "\n",
    "education_freq = salary_df[\"Education Level\"].value_counts()\n",
    "phd_freq = education_freq[\"PhD\"]\n",
    "master_freq = education_freq[\"Master's Degree\"]\n",
    "bachelor_freq = education_freq[\"Bachelor's Degree\"]\n",
    "high_freq = education_freq[\"High School\"]\n",
    "\n",
    "# Putting the values in a dataframe\n",
    "education_table = pd.DataFrame({\n",
    "\"Education Level\": [\"PhD\", \"Master's Degree\", \"Bachelor's Degree\", \"High School\"],\n",
    "    \"Frequency\": [phd_freq, master_freq, bachelor_freq, high_freq]\n",
    "})\n",
    "education_table"
   ]
  },
  {
   "cell_type": "markdown",
   "id": "dfef4c6e",
   "metadata": {},
   "source": [
    "## Education Level pie chart showing the frequency of each Education Level"
   ]
  },
  {
   "cell_type": "code",
   "execution_count": 24,
   "id": "2be3b836",
   "metadata": {
    "scrolled": true
   },
   "outputs": [
    {
     "data": {
      "image/png": "[encoded data removed]",
      "text/plain": [
       "<Figure size 640x480 with 1 Axes>"
      ]
     },
     "metadata": {},
     "output_type": "display_data"
    }
   ],
   "source": [
    "# Making the gender pie chart\n",
    "my_labels = [\"PhD\", \"Master's Degree\", \"Bachelor's Degree\", \"High School\"]\n",
    "plt.pie(education_table['Frequency'], labels=my_labels, autopct='%1.1f%%', shadow= True)\n",
    "plt.axis('equal')\n",
    "plt.title('Education Level Chart')\n",
    "plt.show()"
   ]
  },
  {
   "cell_type": "markdown",
   "id": "50da8b22",
   "metadata": {},
   "source": [
    "## Education Level\n",
    "### On average, PhD holders earn the most, have the most experience, and are the oldest, followed by Master's, Bachelor's, and High School having the least pay, experience and age. Observe Table below."
   ]
  },
  {
   "cell_type": "code",
   "execution_count": 25,
   "id": "0bd3b10b",
   "metadata": {
    "scrolled": true
   },
   "outputs": [],
   "source": [
    "edu_salary = salary_df[[\"Education Level\", \"Salary\"]].groupby(\"Education Level\").mean().sort_values(\"Salary\", ascending=False)\n",
    "edu_age = salary_df[[\"Education Level\", \"Age\"]].groupby(\"Education Level\").mean().sort_values(\"Age\", ascending=False)\n",
    "edu_xp = salary_df[[\"Education Level\", \"Years of Experience\"]].groupby(\"Education Level\").mean().sort_values(\"Years of Experience\", ascending=False)\n"
   ]
  },
  {
   "cell_type": "code",
   "execution_count": 26,
   "id": "fb18c984",
   "metadata": {
    "scrolled": true
   },
   "outputs": [
    {
     "data": {
      "image/png": "[encoded data removed]",
      "text/plain": [
       "<Figure size 640x480 with 1 Axes>"
      ]
     },
     "metadata": {},
     "output_type": "display_data"
    }
   ],
   "source": [
    "edu_salary.plot(kind= \"barh\")\n",
    "plt.title(\"Education Level against Salary\")\n",
    "plt.xlabel(\"Salary\")\n",
    "plt.show()"
   ]
  },
  {
   "cell_type": "code",
   "execution_count": 27,
   "id": "491ff32f",
   "metadata": {},
   "outputs": [
    {
     "data": {
      "image/png": "[encoded data removed]",
      "text/plain": [
       "<Figure size 640x480 with 1 Axes>"
      ]
     },
     "metadata": {},
     "output_type": "display_data"
    }
   ],
   "source": [
    "edu_age.plot(kind= \"barh\")\n",
    "plt.title(\"Education Level against Age\")\n",
    "plt.xlabel(\"Age\")\n",
    "plt.show()"
   ]
  },
  {
   "cell_type": "code",
   "execution_count": 28,
   "id": "100c4ec1",
   "metadata": {
    "scrolled": true
   },
   "outputs": [
    {
     "data": {
      "image/png": "[encoded data removed]",
      "text/plain": [
       "<Figure size 640x480 with 1 Axes>"
      ]
     },
     "metadata": {},
     "output_type": "display_data"
    }
   ],
   "source": [
    "edu_xp.plot(kind= \"barh\")\n",
    "plt.title(\"Education Level against Years of Experience\")\n",
    "plt.xlabel(\"Years of Experience\")\n",
    "plt.show()"
   ]
  },
  {
   "cell_type": "code",
   "execution_count": 29,
   "id": "22ce4f26",
   "metadata": {},
   "outputs": [
    {
     "data": {
      "text/plain": [
       "Software Engineer Manager    127\n",
       "Full Stack Engineer          122\n",
       "Senior Software Engineer      96\n",
       "Senior Project Engineer       95\n",
       "Back end Developer            81\n",
       "                            ... \n",
       "Financial Advisor              1\n",
       "Junior Designer                1\n",
       "Chief Technology Officer       1\n",
       "Technical Recruiter            1\n",
       "Delivery Driver                1\n",
       "Name: Job Title, Length: 191, dtype: int64"
      ]
     },
     "execution_count": 29,
     "metadata": {},
     "output_type": "execute_result"
    }
   ],
   "source": [
    "salary_df[\"Job Title\"].value_counts()\n",
    "\n"
   ]
  },
  {
   "cell_type": "code",
   "execution_count": 30,
   "id": "e231847d",
   "metadata": {},
   "outputs": [
    {
     "data": {
      "text/plain": [
       "['Software Engineer',\n",
       " 'Data Analyst',\n",
       " 'Senior Manager',\n",
       " 'Sales Associate',\n",
       " 'Director',\n",
       " 'Marketing Analyst',\n",
       " 'Product Manager',\n",
       " 'Sales Manager',\n",
       " 'Marketing Coordinator',\n",
       " 'Senior Scientist',\n",
       " 'Software Developer',\n",
       " 'HR Manager',\n",
       " 'Financial Analyst',\n",
       " 'Project Manager',\n",
       " 'Customer Service Rep',\n",
       " 'Operations Manager',\n",
       " 'Marketing Manager',\n",
       " 'Senior Engineer',\n",
       " 'Data Entry Clerk',\n",
       " 'Sales Director',\n",
       " 'Business Analyst',\n",
       " 'VP of Operations',\n",
       " 'IT Support',\n",
       " 'Recruiter',\n",
       " 'Financial Manager',\n",
       " 'Social Media Specialist',\n",
       " 'Software Manager',\n",
       " 'Junior Developer',\n",
       " 'Senior Consultant',\n",
       " 'Product Designer',\n",
       " 'CEO',\n",
       " 'Accountant',\n",
       " 'Data Scientist',\n",
       " 'Marketing Specialist',\n",
       " 'Technical Writer',\n",
       " 'HR Generalist',\n",
       " 'Project Engineer',\n",
       " 'Customer Success Rep',\n",
       " 'Sales Executive',\n",
       " 'UX Designer',\n",
       " 'Operations Director',\n",
       " 'Network Engineer',\n",
       " 'Administrative Assistant',\n",
       " 'Strategy Consultant',\n",
       " 'Copywriter',\n",
       " 'Account Manager',\n",
       " 'Director of Marketing',\n",
       " 'Help Desk Analyst',\n",
       " 'Customer Service Manager',\n",
       " 'Business Intelligence Analyst',\n",
       " 'Event Coordinator',\n",
       " 'VP of Finance',\n",
       " 'Graphic Designer',\n",
       " 'UX Researcher',\n",
       " 'Social Media Manager',\n",
       " 'Director of Operations',\n",
       " 'Senior Data Scientist',\n",
       " 'Junior Accountant',\n",
       " 'Digital Marketing Manager',\n",
       " 'IT Manager',\n",
       " 'Customer Service Representative',\n",
       " 'Business Development Manager',\n",
       " 'Senior Financial Analyst',\n",
       " 'Web Developer',\n",
       " 'Research Director',\n",
       " 'Technical Support Specialist',\n",
       " 'Creative Director',\n",
       " 'Senior Software Engineer',\n",
       " 'Human Resources Director',\n",
       " 'Content Marketing Manager',\n",
       " 'Technical Recruiter',\n",
       " 'Sales Representative',\n",
       " 'Chief Technology Officer',\n",
       " 'Junior Designer',\n",
       " 'Financial Advisor',\n",
       " 'Junior Account Manager',\n",
       " 'Senior Project Manager',\n",
       " 'Principal Scientist',\n",
       " 'Supply Chain Manager',\n",
       " 'Senior Marketing Manager',\n",
       " 'Training Specialist',\n",
       " 'Research Scientist',\n",
       " 'Junior Software Developer',\n",
       " 'Public Relations Manager',\n",
       " 'Operations Analyst',\n",
       " 'Product Marketing Manager',\n",
       " 'Senior HR Manager',\n",
       " 'Junior Web Developer',\n",
       " 'Senior Project Coordinator',\n",
       " 'Chief Data Officer',\n",
       " 'Digital Content Producer',\n",
       " 'IT Support Specialist',\n",
       " 'Senior Marketing Analyst',\n",
       " 'Customer Success Manager',\n",
       " 'Senior Graphic Designer',\n",
       " 'Software Project Manager',\n",
       " 'Supply Chain Analyst',\n",
       " 'Senior Business Analyst',\n",
       " 'Junior Marketing Analyst',\n",
       " 'Office Manager',\n",
       " 'Principal Engineer',\n",
       " 'Junior HR Generalist',\n",
       " 'Senior Product Manager',\n",
       " 'Junior Operations Analyst',\n",
       " 'Senior HR Generalist',\n",
       " 'Sales Operations Manager',\n",
       " 'Senior Software Developer',\n",
       " 'Junior Web Designer',\n",
       " 'Senior Training Specialist',\n",
       " 'Senior Research Scientist',\n",
       " 'Junior Sales Representative',\n",
       " 'Junior Marketing Manager',\n",
       " 'Junior Data Analyst',\n",
       " 'Senior Product Marketing Manager',\n",
       " 'Junior Business Analyst',\n",
       " 'Senior Sales Manager',\n",
       " 'Junior Marketing Specialist',\n",
       " 'Junior Project Manager',\n",
       " 'Senior Accountant',\n",
       " 'Director of Sales',\n",
       " 'Junior Recruiter',\n",
       " 'Senior Business Development Manager',\n",
       " 'Senior Product Designer',\n",
       " 'Junior Customer Support Specialist',\n",
       " 'Senior IT Support Specialist',\n",
       " 'Junior Financial Analyst',\n",
       " 'Senior Operations Manager',\n",
       " 'Director of Human Resources',\n",
       " 'Junior Software Engineer',\n",
       " 'Senior Sales Representative',\n",
       " 'Director of Product Management',\n",
       " 'Junior Copywriter',\n",
       " 'Senior Marketing Coordinator',\n",
       " 'Senior Human Resources Manager',\n",
       " 'Junior Business Development Associate',\n",
       " 'Senior Account Manager',\n",
       " 'Senior Researcher',\n",
       " 'Junior HR Coordinator',\n",
       " 'Director of Finance',\n",
       " 'Junior Marketing Coordinator',\n",
       " 'Junior Data Scientist',\n",
       " 'Senior Operations Analyst',\n",
       " 'Senior Human Resources Coordinator',\n",
       " 'Senior UX Designer',\n",
       " 'Junior Product Manager',\n",
       " 'Senior Marketing Specialist',\n",
       " 'Senior IT Project Manager',\n",
       " 'Senior Quality Assurance Analyst',\n",
       " 'Director of Sales and Marketing',\n",
       " 'Senior Account Executive',\n",
       " 'Director of Business Development',\n",
       " 'Junior Social Media Manager',\n",
       " 'Senior Human Resources Specialist',\n",
       " 'Senior Data Analyst',\n",
       " 'Director of Human Capital',\n",
       " 'Junior Advertising Coordinator',\n",
       " 'Junior UX Designer',\n",
       " 'Senior Marketing Director',\n",
       " 'Senior IT Consultant',\n",
       " 'Senior Financial Advisor',\n",
       " 'Junior Business Operations Analyst',\n",
       " 'Junior Social Media Specialist',\n",
       " 'Senior Product Development Manager',\n",
       " 'Junior Operations Manager',\n",
       " 'Senior Software Architect',\n",
       " 'Junior Research Scientist',\n",
       " 'Senior Financial Manager',\n",
       " 'Senior HR Specialist',\n",
       " 'Senior Data Engineer',\n",
       " 'Junior Operations Coordinator',\n",
       " 'Director of HR',\n",
       " 'Senior Operations Coordinator',\n",
       " 'Junior Financial Advisor',\n",
       " 'Director of Engineering',\n",
       " 'Software Engineer Manager',\n",
       " 'Back end Developer',\n",
       " 'Senior Project Engineer',\n",
       " 'Full Stack Engineer',\n",
       " 'Front end Developer',\n",
       " 'Front End Developer',\n",
       " 'Director of Data Science',\n",
       " 'Human Resources Coordinator',\n",
       " 'Junior Sales Associate',\n",
       " 'Human Resources Manager',\n",
       " 'Juniour HR Generalist',\n",
       " 'Juniour HR Coordinator',\n",
       " 'Digital Marketing Specialist',\n",
       " 'Receptionist',\n",
       " 'Marketing Director',\n",
       " 'Social Media Man',\n",
       " 'Delivery Driver']"
      ]
     },
     "execution_count": 30,
     "metadata": {},
     "output_type": "execute_result"
    }
   ],
   "source": [
    "job_titles = salary_df[\"Job Title\"].unique().tolist()\n",
    "job_titles"
   ]
  },
  {
   "cell_type": "markdown",
   "id": "9ef3848e",
   "metadata": {},
   "source": [
    "## Job Title - Salary\n",
    "### On average, CEOs & CTOs earn the most, Junior Business Operations Analysts have the least pay. Observe Table and Chart below."
   ]
  },
  {
   "cell_type": "code",
   "execution_count": 31,
   "id": "282b1aea",
   "metadata": {
    "scrolled": true
   },
   "outputs": [
    {
     "data": {
      "text/html": [
       "<div>\n",
       "<style scoped>\n",
       "    .dataframe tbody tr th:only-of-type {\n",
       "        vertical-align: middle;\n",
       "    }\n",
       "\n",
       "    .dataframe tbody tr th {\n",
       "        vertical-align: top;\n",
       "    }\n",
       "\n",
       "    .dataframe thead th {\n",
       "        text-align: right;\n",
       "    }\n",
       "</style>\n",
       "<table border=\"1\" class=\"dataframe\">\n",
       "  <thead>\n",
       "    <tr style=\"text-align: right;\">\n",
       "      <th></th>\n",
       "      <th>Salary</th>\n",
       "    </tr>\n",
       "    <tr>\n",
       "      <th>Job Title</th>\n",
       "      <th></th>\n",
       "    </tr>\n",
       "  </thead>\n",
       "  <tbody>\n",
       "    <tr>\n",
       "      <th>CEO</th>\n",
       "      <td>250000.0</td>\n",
       "    </tr>\n",
       "    <tr>\n",
       "      <th>Chief Technology Officer</th>\n",
       "      <td>250000.0</td>\n",
       "    </tr>\n",
       "    <tr>\n",
       "      <th>Chief Data Officer</th>\n",
       "      <td>220000.0</td>\n",
       "    </tr>\n",
       "    <tr>\n",
       "      <th>VP of Finance</th>\n",
       "      <td>200000.0</td>\n",
       "    </tr>\n",
       "    <tr>\n",
       "      <th>Director of Data Science</th>\n",
       "      <td>200000.0</td>\n",
       "    </tr>\n",
       "    <tr>\n",
       "      <th>...</th>\n",
       "      <td>...</td>\n",
       "    </tr>\n",
       "    <tr>\n",
       "      <th>Juniour HR Coordinator</th>\n",
       "      <td>32000.0</td>\n",
       "    </tr>\n",
       "    <tr>\n",
       "      <th>Junior Sales Associate</th>\n",
       "      <td>28080.0</td>\n",
       "    </tr>\n",
       "    <tr>\n",
       "      <th>Delivery Driver</th>\n",
       "      <td>28000.0</td>\n",
       "    </tr>\n",
       "    <tr>\n",
       "      <th>Receptionist</th>\n",
       "      <td>25000.0</td>\n",
       "    </tr>\n",
       "    <tr>\n",
       "      <th>Junior Business Operations Analyst</th>\n",
       "      <td>17675.0</td>\n",
       "    </tr>\n",
       "  </tbody>\n",
       "</table>\n",
       "<p>191 rows × 1 columns</p>\n",
       "</div>"
      ],
      "text/plain": [
       "                                      Salary\n",
       "Job Title                                   \n",
       "CEO                                 250000.0\n",
       "Chief Technology Officer            250000.0\n",
       "Chief Data Officer                  220000.0\n",
       "VP of Finance                       200000.0\n",
       "Director of Data Science            200000.0\n",
       "...                                      ...\n",
       "Juniour HR Coordinator               32000.0\n",
       "Junior Sales Associate               28080.0\n",
       "Delivery Driver                      28000.0\n",
       "Receptionist                         25000.0\n",
       "Junior Business Operations Analyst   17675.0\n",
       "\n",
       "[191 rows x 1 columns]"
      ]
     },
     "execution_count": 31,
     "metadata": {},
     "output_type": "execute_result"
    }
   ],
   "source": [
    "job_salary = salary_df[[\"Job Title\", \"Salary\"]].groupby(\"Job Title\").mean().sort_values(\"Salary\", ascending=False)\n",
    "job_salary"
   ]
  },
  {
   "cell_type": "markdown",
   "id": "d8c2dbf6",
   "metadata": {},
   "source": [
    "### Top 3 highest paying Job Titles"
   ]
  },
  {
   "cell_type": "code",
   "execution_count": 32,
   "id": "0f9b9a01",
   "metadata": {
    "scrolled": true
   },
   "outputs": [
    {
     "data": {
      "image/png": "[encoded data removed]",
      "text/plain": [
       "<Figure size 640x480 with 1 Axes>"
      ]
     },
     "metadata": {},
     "output_type": "display_data"
    }
   ],
   "source": [
    "job_salary.head(3).plot(kind= \"barh\")\n",
    "plt.title(\"Job Title against Salary\")\n",
    "plt.xlabel(\"Salary\")\n",
    "plt.show()"
   ]
  },
  {
   "cell_type": "markdown",
   "id": "af72bcb3",
   "metadata": {},
   "source": [
    "### Bottom 3 highest paying Job Titles"
   ]
  },
  {
   "cell_type": "code",
   "execution_count": 33,
   "id": "e52719b8",
   "metadata": {},
   "outputs": [
    {
     "data": {
      "image/png": "[encoded data removed]",
      "text/plain": [
       "<Figure size 640x480 with 1 Axes>"
      ]
     },
     "metadata": {},
     "output_type": "display_data"
    }
   ],
   "source": [
    "job_salary.tail(3).plot(kind= \"barh\")\n",
    "plt.title(\"Job Title against Salary\")\n",
    "plt.xlabel(\"Salary\")\n",
    "plt.show()"
   ]
  },
  {
   "cell_type": "markdown",
   "id": "df2d0ca8",
   "metadata": {},
   "source": [
    "## Job Title - Age\n",
    "### On average, Directors & CTOs are the oldest and, Receptionists are the youngest. Observe Table and Charts below."
   ]
  },
  {
   "cell_type": "code",
   "execution_count": 34,
   "id": "521ecd6d",
   "metadata": {
    "scrolled": false
   },
   "outputs": [
    {
     "data": {
      "text/html": [
       "<div>\n",
       "<style scoped>\n",
       "    .dataframe tbody tr th:only-of-type {\n",
       "        vertical-align: middle;\n",
       "    }\n",
       "\n",
       "    .dataframe tbody tr th {\n",
       "        vertical-align: top;\n",
       "    }\n",
       "\n",
       "    .dataframe thead th {\n",
       "        text-align: right;\n",
       "    }\n",
       "</style>\n",
       "<table border=\"1\" class=\"dataframe\">\n",
       "  <thead>\n",
       "    <tr style=\"text-align: right;\">\n",
       "      <th></th>\n",
       "      <th>Age</th>\n",
       "    </tr>\n",
       "    <tr>\n",
       "      <th>Job Title</th>\n",
       "      <th></th>\n",
       "    </tr>\n",
       "  </thead>\n",
       "  <tbody>\n",
       "    <tr>\n",
       "      <th>Director</th>\n",
       "      <td>52.0</td>\n",
       "    </tr>\n",
       "    <tr>\n",
       "      <th>Chief Technology Officer</th>\n",
       "      <td>52.0</td>\n",
       "    </tr>\n",
       "    <tr>\n",
       "      <th>Director of Human Resources</th>\n",
       "      <td>51.0</td>\n",
       "    </tr>\n",
       "    <tr>\n",
       "      <th>Supply Chain Analyst</th>\n",
       "      <td>50.0</td>\n",
       "    </tr>\n",
       "    <tr>\n",
       "      <th>CEO</th>\n",
       "      <td>50.0</td>\n",
       "    </tr>\n",
       "    <tr>\n",
       "      <th>...</th>\n",
       "      <td>...</td>\n",
       "    </tr>\n",
       "    <tr>\n",
       "      <th>Help Desk Analyst</th>\n",
       "      <td>25.0</td>\n",
       "    </tr>\n",
       "    <tr>\n",
       "      <th>Juniour HR Coordinator</th>\n",
       "      <td>24.5</td>\n",
       "    </tr>\n",
       "    <tr>\n",
       "      <th>Junior Developer</th>\n",
       "      <td>24.0</td>\n",
       "    </tr>\n",
       "    <tr>\n",
       "      <th>Delivery Driver</th>\n",
       "      <td>24.0</td>\n",
       "    </tr>\n",
       "    <tr>\n",
       "      <th>Receptionist</th>\n",
       "      <td>23.0</td>\n",
       "    </tr>\n",
       "  </tbody>\n",
       "</table>\n",
       "<p>191 rows × 1 columns</p>\n",
       "</div>"
      ],
      "text/plain": [
       "                              Age\n",
       "Job Title                        \n",
       "Director                     52.0\n",
       "Chief Technology Officer     52.0\n",
       "Director of Human Resources  51.0\n",
       "Supply Chain Analyst         50.0\n",
       "CEO                          50.0\n",
       "...                           ...\n",
       "Help Desk Analyst            25.0\n",
       "Juniour HR Coordinator       24.5\n",
       "Junior Developer             24.0\n",
       "Delivery Driver              24.0\n",
       "Receptionist                 23.0\n",
       "\n",
       "[191 rows x 1 columns]"
      ]
     },
     "execution_count": 34,
     "metadata": {},
     "output_type": "execute_result"
    }
   ],
   "source": [
    "job_age = salary_df[[\"Job Title\", \"Age\"]].groupby(\"Job Title\").mean().sort_values(\"Age\", ascending=False)\n",
    "job_age"
   ]
  },
  {
   "cell_type": "code",
   "execution_count": 35,
   "id": "296ed4ed",
   "metadata": {},
   "outputs": [
    {
     "data": {
      "image/png": "[encoded data removed]",
      "text/plain": [
       "<Figure size 640x480 with 1 Axes>"
      ]
     },
     "metadata": {},
     "output_type": "display_data"
    },
    {
     "data": {
      "image/png": "[encoded data removed]",
      "text/plain": [
       "<Figure size 640x480 with 1 Axes>"
      ]
     },
     "metadata": {},
     "output_type": "display_data"
    }
   ],
   "source": [
    "job_age.head(3).plot(kind= \"bar\")\n",
    "job_age.tail(3).plot(kind= \"bar\")\n",
    "plt.show()"
   ]
  },
  {
   "cell_type": "markdown",
   "id": "277a1712",
   "metadata": {},
   "source": [
    "## Job Title - Years of Experience\n",
    "### On average, CEOs & CTOs have the most experience, Receptionists, Data Entry Clerks, Delivery Drivers, and Help Desk Analysts have the least experience. Observe Table below."
   ]
  },
  {
   "cell_type": "code",
   "execution_count": 36,
   "id": "665d845f",
   "metadata": {
    "scrolled": true
   },
   "outputs": [
    {
     "data": {
      "text/html": [
       "<div>\n",
       "<style scoped>\n",
       "    .dataframe tbody tr th:only-of-type {\n",
       "        vertical-align: middle;\n",
       "    }\n",
       "\n",
       "    .dataframe tbody tr th {\n",
       "        vertical-align: top;\n",
       "    }\n",
       "\n",
       "    .dataframe thead th {\n",
       "        text-align: right;\n",
       "    }\n",
       "</style>\n",
       "<table border=\"1\" class=\"dataframe\">\n",
       "  <thead>\n",
       "    <tr style=\"text-align: right;\">\n",
       "      <th></th>\n",
       "      <th>Years of Experience</th>\n",
       "    </tr>\n",
       "    <tr>\n",
       "      <th>Job Title</th>\n",
       "      <th></th>\n",
       "    </tr>\n",
       "  </thead>\n",
       "  <tbody>\n",
       "    <tr>\n",
       "      <th>CEO</th>\n",
       "      <td>25.0</td>\n",
       "    </tr>\n",
       "    <tr>\n",
       "      <th>Chief Technology Officer</th>\n",
       "      <td>24.0</td>\n",
       "    </tr>\n",
       "    <tr>\n",
       "      <th>Supply Chain Analyst</th>\n",
       "      <td>22.0</td>\n",
       "    </tr>\n",
       "    <tr>\n",
       "      <th>Director of Sales and Marketing</th>\n",
       "      <td>22.0</td>\n",
       "    </tr>\n",
       "    <tr>\n",
       "      <th>Director of Human Resources</th>\n",
       "      <td>22.0</td>\n",
       "    </tr>\n",
       "    <tr>\n",
       "      <th>...</th>\n",
       "      <td>...</td>\n",
       "    </tr>\n",
       "    <tr>\n",
       "      <th>Juniour HR Coordinator</th>\n",
       "      <td>1.0</td>\n",
       "    </tr>\n",
       "    <tr>\n",
       "      <th>Receptionist</th>\n",
       "      <td>0.0</td>\n",
       "    </tr>\n",
       "    <tr>\n",
       "      <th>Data Entry Clerk</th>\n",
       "      <td>0.0</td>\n",
       "    </tr>\n",
       "    <tr>\n",
       "      <th>Delivery Driver</th>\n",
       "      <td>0.0</td>\n",
       "    </tr>\n",
       "    <tr>\n",
       "      <th>Help Desk Analyst</th>\n",
       "      <td>0.0</td>\n",
       "    </tr>\n",
       "  </tbody>\n",
       "</table>\n",
       "<p>191 rows × 1 columns</p>\n",
       "</div>"
      ],
      "text/plain": [
       "                                 Years of Experience\n",
       "Job Title                                           \n",
       "CEO                                             25.0\n",
       "Chief Technology Officer                        24.0\n",
       "Supply Chain Analyst                            22.0\n",
       "Director of Sales and Marketing                 22.0\n",
       "Director of Human Resources                     22.0\n",
       "...                                              ...\n",
       "Juniour HR Coordinator                           1.0\n",
       "Receptionist                                     0.0\n",
       "Data Entry Clerk                                 0.0\n",
       "Delivery Driver                                  0.0\n",
       "Help Desk Analyst                                0.0\n",
       "\n",
       "[191 rows x 1 columns]"
      ]
     },
     "execution_count": 36,
     "metadata": {},
     "output_type": "execute_result"
    }
   ],
   "source": [
    "job_xp = salary_df[[\"Job Title\", \"Years of Experience\"]].groupby(\"Job Title\").mean().sort_values(\"Years of Experience\", ascending=False)\n",
    "job_xp"
   ]
  },
  {
   "cell_type": "code",
   "execution_count": 37,
   "id": "a6b7749e",
   "metadata": {},
   "outputs": [
    {
     "data": {
      "image/png": "[encoded data removed]",
      "text/plain": [
       "<Figure size 640x480 with 1 Axes>"
      ]
     },
     "metadata": {},
     "output_type": "display_data"
    },
    {
     "data": {
      "image/png": "[encoded data removed]",
      "text/plain": [
       "<Figure size 640x480 with 1 Axes>"
      ]
     },
     "metadata": {},
     "output_type": "display_data"
    }
   ],
   "source": [
    "job_xp.head(3).plot(kind= \"bar\")\n",
    "job_xp.tail(3).plot(kind= \"bar\")\n",
    "plt.show()"
   ]
  },
  {
   "cell_type": "markdown",
   "id": "fb7930ed",
   "metadata": {},
   "source": [
    "### From the Age distribution below, we can say that: The majority of the workers in the dataset are within the age range of 25 to 35 years old. The minority of the workers in the dataset are within the age range of 50 to 62 years old. The mean age is 35. The mode age is 29."
   ]
  },
  {
   "cell_type": "code",
   "execution_count": 38,
   "id": "43aee80e",
   "metadata": {},
   "outputs": [
    {
     "data": {
      "image/png": "[encoded data removed]",
      "text/plain": [
       "<Figure size 640x480 with 1 Axes>"
      ]
     },
     "metadata": {},
     "output_type": "display_data"
    }
   ],
   "source": [
    "# Distribution for Age of Workers because Age is a numerical variable\n",
    "import matplotlib.pyplot as plt\n",
    "salary_df[\"Age\"].plot(kind= \"hist\")\n",
    "plt.title(\"Age Distribution\")\n",
    "plt.xlabel(\"Age\")\n",
    "plt.ylabel(\"Frequency\")\n",
    "# plt.grid(axis = 'x')\n",
    "plt.show()"
   ]
  },
  {
   "cell_type": "markdown",
   "id": "152ff5d7",
   "metadata": {},
   "source": [
    "### Correlation Table Supporting findings above."
   ]
  },
  {
   "cell_type": "code",
   "execution_count": 39,
   "id": "74d5e862",
   "metadata": {
    "scrolled": false
   },
   "outputs": [
    {
     "name": "stderr",
     "output_type": "stream",
     "text": [
      "C:\\Users\\olami\\AppData\\Local\\Temp\\ipykernel_22132\\214869978.py:1: FutureWarning: The default value of numeric_only in DataFrame.corr is deprecated. In a future version, it will default to False. Select only valid columns or specify the value of numeric_only to silence this warning.\n",
      "  salary_df.corr()\n"
     ]
    },
    {
     "data": {
      "text/html": [
       "<div>\n",
       "<style scoped>\n",
       "    .dataframe tbody tr th:only-of-type {\n",
       "        vertical-align: middle;\n",
       "    }\n",
       "\n",
       "    .dataframe tbody tr th {\n",
       "        vertical-align: top;\n",
       "    }\n",
       "\n",
       "    .dataframe thead th {\n",
       "        text-align: right;\n",
       "    }\n",
       "</style>\n",
       "<table border=\"1\" class=\"dataframe\">\n",
       "  <thead>\n",
       "    <tr style=\"text-align: right;\">\n",
       "      <th></th>\n",
       "      <th>Age</th>\n",
       "      <th>Years of Experience</th>\n",
       "      <th>Salary</th>\n",
       "    </tr>\n",
       "  </thead>\n",
       "  <tbody>\n",
       "    <tr>\n",
       "      <th>Age</th>\n",
       "      <td>1.000000</td>\n",
       "      <td>0.936260</td>\n",
       "      <td>0.766841</td>\n",
       "    </tr>\n",
       "    <tr>\n",
       "      <th>Years of Experience</th>\n",
       "      <td>0.936260</td>\n",
       "      <td>1.000000</td>\n",
       "      <td>0.818725</td>\n",
       "    </tr>\n",
       "    <tr>\n",
       "      <th>Salary</th>\n",
       "      <td>0.766841</td>\n",
       "      <td>0.818725</td>\n",
       "      <td>1.000000</td>\n",
       "    </tr>\n",
       "  </tbody>\n",
       "</table>\n",
       "</div>"
      ],
      "text/plain": [
       "                          Age  Years of Experience    Salary\n",
       "Age                  1.000000             0.936260  0.766841\n",
       "Years of Experience  0.936260             1.000000  0.818725\n",
       "Salary               0.766841             0.818725  1.000000"
      ]
     },
     "execution_count": 39,
     "metadata": {},
     "output_type": "execute_result"
    }
   ],
   "source": [
    "salary_df.corr()"
   ]
  },
  {
   "cell_type": "markdown",
   "id": "bae3a384",
   "metadata": {},
   "source": [
    "## Saving clean data"
   ]
  },
  {
   "cell_type": "code",
   "execution_count": 40,
   "id": "48e666ca",
   "metadata": {},
   "outputs": [],
   "source": [
    "clean_data = pd.DataFrame(salary_df)\n",
    "clean_data.to_csv(\"../data/Clean_Salary_Data.csv\")"
   ]
  },
  {
   "cell_type": "markdown",
   "id": "4c839ac2",
   "metadata": {},
   "source": [
    "# Building Simple Decision Tree Model"
   ]
  },
  {
   "cell_type": "markdown",
   "id": "4a96bcc9",
   "metadata": {},
   "source": [
    "### Select Data for Modelling"
   ]
  },
  {
   "cell_type": "code",
   "execution_count": 42,
   "id": "e0ff81e2",
   "metadata": {},
   "outputs": [
    {
     "data": {
      "text/plain": [
       "Index(['Unnamed: 0', 'Age', 'Gender', 'Education Level', 'Job Title',\n",
       "       'Years of Experience', 'Salary', 'Age Group'],\n",
       "      dtype='object')"
      ]
     },
     "execution_count": 42,
     "metadata": {},
     "output_type": "execute_result"
    }
   ],
   "source": [
    "clean_data = \"../data/Clean_Salary_Data.csv\"\n",
    "model_data = pd.read_csv(clean_data)\n",
    "model_data.columns"
   ]
  },
  {
   "cell_type": "markdown",
   "id": "8b014c2f",
   "metadata": {},
   "source": [
    "### Selecting The Prediction Target or response variable"
   ]
  },
  {
   "cell_type": "code",
   "execution_count": 43,
   "id": "4ff473e0",
   "metadata": {},
   "outputs": [],
   "source": [
    "y = model_data.Salary"
   ]
  },
  {
   "cell_type": "markdown",
   "id": "77fe51ba",
   "metadata": {},
   "source": [
    "### Choosing \"Features\" or predictors or predictor variables"
   ]
  },
  {
   "cell_type": "code",
   "execution_count": 44,
   "id": "30c075cc",
   "metadata": {},
   "outputs": [],
   "source": [
    "features = ['Age', 'Years of Experience']"
   ]
  },
  {
   "cell_type": "code",
   "execution_count": 45,
   "id": "5137ed68",
   "metadata": {},
   "outputs": [],
   "source": [
    "X = model_data[features]"
   ]
  },
  {
   "cell_type": "code",
   "execution_count": 46,
   "id": "42b20e7a",
   "metadata": {},
   "outputs": [
    {
     "data": {
      "text/html": [
       "<div>\n",
       "<style scoped>\n",
       "    .dataframe tbody tr th:only-of-type {\n",
       "        vertical-align: middle;\n",
       "    }\n",
       "\n",
       "    .dataframe tbody tr th {\n",
       "        vertical-align: top;\n",
       "    }\n",
       "\n",
       "    .dataframe thead th {\n",
       "        text-align: right;\n",
       "    }\n",
       "</style>\n",
       "<table border=\"1\" class=\"dataframe\">\n",
       "  <thead>\n",
       "    <tr style=\"text-align: right;\">\n",
       "      <th></th>\n",
       "      <th>Age</th>\n",
       "      <th>Years of Experience</th>\n",
       "    </tr>\n",
       "  </thead>\n",
       "  <tbody>\n",
       "    <tr>\n",
       "      <th>count</th>\n",
       "      <td>1787.000000</td>\n",
       "      <td>1787.000000</td>\n",
       "    </tr>\n",
       "    <tr>\n",
       "      <th>mean</th>\n",
       "      <td>35.139899</td>\n",
       "      <td>9.156128</td>\n",
       "    </tr>\n",
       "    <tr>\n",
       "      <th>std</th>\n",
       "      <td>8.213045</td>\n",
       "      <td>6.844924</td>\n",
       "    </tr>\n",
       "    <tr>\n",
       "      <th>min</th>\n",
       "      <td>21.000000</td>\n",
       "      <td>0.000000</td>\n",
       "    </tr>\n",
       "    <tr>\n",
       "      <th>25%</th>\n",
       "      <td>29.000000</td>\n",
       "      <td>3.000000</td>\n",
       "    </tr>\n",
       "    <tr>\n",
       "      <th>50%</th>\n",
       "      <td>33.000000</td>\n",
       "      <td>8.000000</td>\n",
       "    </tr>\n",
       "    <tr>\n",
       "      <th>75%</th>\n",
       "      <td>41.000000</td>\n",
       "      <td>13.000000</td>\n",
       "    </tr>\n",
       "    <tr>\n",
       "      <th>max</th>\n",
       "      <td>62.000000</td>\n",
       "      <td>34.000000</td>\n",
       "    </tr>\n",
       "  </tbody>\n",
       "</table>\n",
       "</div>"
      ],
      "text/plain": [
       "               Age  Years of Experience\n",
       "count  1787.000000          1787.000000\n",
       "mean     35.139899             9.156128\n",
       "std       8.213045             6.844924\n",
       "min      21.000000             0.000000\n",
       "25%      29.000000             3.000000\n",
       "50%      33.000000             8.000000\n",
       "75%      41.000000            13.000000\n",
       "max      62.000000            34.000000"
      ]
     },
     "execution_count": 46,
     "metadata": {},
     "output_type": "execute_result"
    }
   ],
   "source": [
    "X.describe()"
   ]
  },
  {
   "cell_type": "code",
   "execution_count": 47,
   "id": "305267c7",
   "metadata": {},
   "outputs": [
    {
     "data": {
      "text/html": [
       "<div>\n",
       "<style scoped>\n",
       "    .dataframe tbody tr th:only-of-type {\n",
       "        vertical-align: middle;\n",
       "    }\n",
       "\n",
       "    .dataframe tbody tr th {\n",
       "        vertical-align: top;\n",
       "    }\n",
       "\n",
       "    .dataframe thead th {\n",
       "        text-align: right;\n",
       "    }\n",
       "</style>\n",
       "<table border=\"1\" class=\"dataframe\">\n",
       "  <thead>\n",
       "    <tr style=\"text-align: right;\">\n",
       "      <th></th>\n",
       "      <th>Age</th>\n",
       "      <th>Years of Experience</th>\n",
       "    </tr>\n",
       "  </thead>\n",
       "  <tbody>\n",
       "    <tr>\n",
       "      <th>0</th>\n",
       "      <td>32.0</td>\n",
       "      <td>5.0</td>\n",
       "    </tr>\n",
       "    <tr>\n",
       "      <th>1</th>\n",
       "      <td>28.0</td>\n",
       "      <td>3.0</td>\n",
       "    </tr>\n",
       "    <tr>\n",
       "      <th>2</th>\n",
       "      <td>45.0</td>\n",
       "      <td>15.0</td>\n",
       "    </tr>\n",
       "    <tr>\n",
       "      <th>3</th>\n",
       "      <td>36.0</td>\n",
       "      <td>7.0</td>\n",
       "    </tr>\n",
       "    <tr>\n",
       "      <th>4</th>\n",
       "      <td>52.0</td>\n",
       "      <td>20.0</td>\n",
       "    </tr>\n",
       "  </tbody>\n",
       "</table>\n",
       "</div>"
      ],
      "text/plain": [
       "    Age  Years of Experience\n",
       "0  32.0                  5.0\n",
       "1  28.0                  3.0\n",
       "2  45.0                 15.0\n",
       "3  36.0                  7.0\n",
       "4  52.0                 20.0"
      ]
     },
     "execution_count": 47,
     "metadata": {},
     "output_type": "execute_result"
    }
   ],
   "source": [
    "X.head()"
   ]
  },
  {
   "cell_type": "markdown",
   "id": "11bd10d2",
   "metadata": {},
   "source": [
    "### Building Your Model"
   ]
  },
  {
   "cell_type": "code",
   "execution_count": 48,
   "id": "059bc58f",
   "metadata": {
    "scrolled": true
   },
   "outputs": [
    {
     "data": {
      "text/html": [
       "<style>#sk-container-id-1 {color: black;}#sk-container-id-1 pre{padding: 0;}#sk-container-id-1 div.sk-toggleable {background-color: white;}#sk-container-id-1 label.sk-toggleable__label {cursor: pointer;display: block;width: 100%;margin-bottom: 0;padding: 0.3em;box-sizing: border-box;text-align: center;}#sk-container-id-1 label.sk-toggleable__label-arrow:before {content: \"▸\";float: left;margin-right: 0.25em;color: #696969;}#sk-container-id-1 label.sk-toggleable__label-arrow:hover:before {color: black;}#sk-container-id-1 div.sk-estimator:hover label.sk-toggleable__label-arrow:before {color: black;}#sk-container-id-1 div.sk-toggleable__content {max-height: 0;max-width: 0;overflow: hidden;text-align: left;background-color: #f0f8ff;}#sk-container-id-1 div.sk-toggleable__content pre {margin: 0.2em;color: black;border-radius: 0.25em;background-color: #f0f8ff;}#sk-container-id-1 input.sk-toggleable__control:checked~div.sk-toggleable__content {max-height: 200px;max-width: 100%;overflow: auto;}#sk-container-id-1 input.sk-toggleable__control:checked~label.sk-toggleable__label-arrow:before {content: \"▾\";}#sk-container-id-1 div.sk-estimator input.sk-toggleable__control:checked~label.sk-toggleable__label {background-color: #d4ebff;}#sk-container-id-1 div.sk-label input.sk-toggleable__control:checked~label.sk-toggleable__label {background-color: #d4ebff;}#sk-container-id-1 input.sk-hidden--visually {border: 0;clip: rect(1px 1px 1px 1px);clip: rect(1px, 1px, 1px, 1px);height: 1px;margin: -1px;overflow: hidden;padding: 0;position: absolute;width: 1px;}#sk-container-id-1 div.sk-estimator {font-family: monospace;background-color: #f0f8ff;border: 1px dotted black;border-radius: 0.25em;box-sizing: border-box;margin-bottom: 0.5em;}#sk-container-id-1 div.sk-estimator:hover {background-color: #d4ebff;}#sk-container-id-1 div.sk-parallel-item::after {content: \"\";width: 100%;border-bottom: 1px solid gray;flex-grow: 1;}#sk-container-id-1 div.sk-label:hover label.sk-toggleable__label {background-color: #d4ebff;}#sk-container-id-1 div.sk-serial::before {content: \"\";position: absolute;border-left: 1px solid gray;box-sizing: border-box;top: 0;bottom: 0;left: 50%;z-index: 0;}#sk-container-id-1 div.sk-serial {display: flex;flex-direction: column;align-items: center;background-color: white;padding-right: 0.2em;padding-left: 0.2em;position: relative;}#sk-container-id-1 div.sk-item {position: relative;z-index: 1;}#sk-container-id-1 div.sk-parallel {display: flex;align-items: stretch;justify-content: center;background-color: white;position: relative;}#sk-container-id-1 div.sk-item::before, #sk-container-id-1 div.sk-parallel-item::before {content: \"\";position: absolute;border-left: 1px solid gray;box-sizing: border-box;top: 0;bottom: 0;left: 50%;z-index: -1;}#sk-container-id-1 div.sk-parallel-item {display: flex;flex-direction: column;z-index: 1;position: relative;background-color: white;}#sk-container-id-1 div.sk-parallel-item:first-child::after {align-self: flex-end;width: 50%;}#sk-container-id-1 div.sk-parallel-item:last-child::after {align-self: flex-start;width: 50%;}#sk-container-id-1 div.sk-parallel-item:only-child::after {width: 0;}#sk-container-id-1 div.sk-dashed-wrapped {border: 1px dashed gray;margin: 0 0.4em 0.5em 0.4em;box-sizing: border-box;padding-bottom: 0.4em;background-color: white;}#sk-container-id-1 div.sk-label label {font-family: monospace;font-weight: bold;display: inline-block;line-height: 1.2em;}#sk-container-id-1 div.sk-label-container {text-align: center;}#sk-container-id-1 div.sk-container {/* jupyter's `normalize.less` sets `[hidden] { display: none; }` but bootstrap.min.css set `[hidden] { display: none !important; }` so we also need the `!important` here to be able to override the default hidden behavior on the sphinx rendered scikit-learn.org. See: https://github.com/scikit-learn/scikit-learn/issues/21755 */display: inline-block !important;position: relative;}#sk-container-id-1 div.sk-text-repr-fallback {display: none;}</style><div id=\"sk-container-id-1\" class=\"sk-top-container\"><div class=\"sk-text-repr-fallback\"><pre>DecisionTreeRegressor(random_state=1)</pre><b>In a Jupyter environment, please rerun this cell to show the HTML representation or trust the notebook. <br />On GitHub, the HTML representation is unable to render, please try loading this page with nbviewer.org.</b></div><div class=\"sk-container\" hidden><div class=\"sk-item\"><div class=\"sk-estimator sk-toggleable\"><input class=\"sk-toggleable__control sk-hidden--visually\" id=\"sk-estimator-id-1\" type=\"checkbox\" checked><label for=\"sk-estimator-id-1\" class=\"sk-toggleable__label sk-toggleable__label-arrow\">DecisionTreeRegressor</label><div class=\"sk-toggleable__content\"><pre>DecisionTreeRegressor(random_state=1)</pre></div></div></div></div></div>"
      ],
      "text/plain": [
       "DecisionTreeRegressor(random_state=1)"
      ]
     },
     "execution_count": 48,
     "metadata": {},
     "output_type": "execute_result"
    }
   ],
   "source": [
    "from sklearn.tree import DecisionTreeRegressor\n",
    "\n",
    "# Define model. Specify a number for random_state to ensure same results each run\n",
    "salary_model = DecisionTreeRegressor(random_state=1)\n",
    "\n",
    "# Fit or train model\n",
    "salary_model.fit(X, y)"
   ]
  },
  {
   "cell_type": "code",
   "execution_count": 49,
   "id": "8fb38a76",
   "metadata": {},
   "outputs": [
    {
     "name": "stdout",
     "output_type": "stream",
     "text": [
      "Making salary predictions for the following 5 workers:\n",
      "\n",
      "    Age  Years of Experience\n",
      "0  32.0                  5.0\n",
      "1  28.0                  3.0\n",
      "2  45.0                 15.0\n",
      "3  36.0                  7.0\n",
      "4  52.0                 20.0\n",
      "\n",
      "The predictions are\n",
      "[ 90000.          69903.59259259 158750.          92500.\n",
      " 200000.        ]\n"
     ]
    }
   ],
   "source": [
    "print(\"Making salary predictions for the following 5 workers:\\n\")\n",
    "print(X.head())\n",
    "print(\"\\nThe predictions are\")\n",
    "print(salary_model.predict(X.head()))"
   ]
  },
  {
   "cell_type": "code",
   "execution_count": 50,
   "id": "2d9e73c1",
   "metadata": {
    "scrolled": false
   },
   "outputs": [
    {
     "data": {
      "text/html": [
       "<div>\n",
       "<style scoped>\n",
       "    .dataframe tbody tr th:only-of-type {\n",
       "        vertical-align: middle;\n",
       "    }\n",
       "\n",
       "    .dataframe tbody tr th {\n",
       "        vertical-align: top;\n",
       "    }\n",
       "\n",
       "    .dataframe thead th {\n",
       "        text-align: right;\n",
       "    }\n",
       "</style>\n",
       "<table border=\"1\" class=\"dataframe\">\n",
       "  <thead>\n",
       "    <tr style=\"text-align: right;\">\n",
       "      <th></th>\n",
       "      <th>Age</th>\n",
       "      <th>Gender</th>\n",
       "      <th>Education Level</th>\n",
       "      <th>Job Title</th>\n",
       "      <th>Years of Experience</th>\n",
       "      <th>Salary</th>\n",
       "      <th>Age Group</th>\n",
       "    </tr>\n",
       "  </thead>\n",
       "  <tbody>\n",
       "    <tr>\n",
       "      <th>0</th>\n",
       "      <td>32.0</td>\n",
       "      <td>Male</td>\n",
       "      <td>Bachelor's Degree</td>\n",
       "      <td>Software Engineer</td>\n",
       "      <td>5.0</td>\n",
       "      <td>90000.0</td>\n",
       "      <td>30-39</td>\n",
       "    </tr>\n",
       "    <tr>\n",
       "      <th>1</th>\n",
       "      <td>28.0</td>\n",
       "      <td>Female</td>\n",
       "      <td>Master's Degree</td>\n",
       "      <td>Data Analyst</td>\n",
       "      <td>3.0</td>\n",
       "      <td>65000.0</td>\n",
       "      <td>20-29</td>\n",
       "    </tr>\n",
       "    <tr>\n",
       "      <th>2</th>\n",
       "      <td>45.0</td>\n",
       "      <td>Male</td>\n",
       "      <td>PhD</td>\n",
       "      <td>Senior Manager</td>\n",
       "      <td>15.0</td>\n",
       "      <td>150000.0</td>\n",
       "      <td>40-49</td>\n",
       "    </tr>\n",
       "    <tr>\n",
       "      <th>3</th>\n",
       "      <td>36.0</td>\n",
       "      <td>Female</td>\n",
       "      <td>Bachelor's Degree</td>\n",
       "      <td>Sales Associate</td>\n",
       "      <td>7.0</td>\n",
       "      <td>60000.0</td>\n",
       "      <td>30-39</td>\n",
       "    </tr>\n",
       "    <tr>\n",
       "      <th>4</th>\n",
       "      <td>52.0</td>\n",
       "      <td>Male</td>\n",
       "      <td>Master's Degree</td>\n",
       "      <td>Director</td>\n",
       "      <td>20.0</td>\n",
       "      <td>200000.0</td>\n",
       "      <td>50-59</td>\n",
       "    </tr>\n",
       "  </tbody>\n",
       "</table>\n",
       "</div>"
      ],
      "text/plain": [
       "    Age  Gender    Education Level          Job Title  Years of Experience  \\\n",
       "0  32.0    Male  Bachelor's Degree  Software Engineer                  5.0   \n",
       "1  28.0  Female    Master's Degree       Data Analyst                  3.0   \n",
       "2  45.0    Male                PhD     Senior Manager                 15.0   \n",
       "3  36.0  Female  Bachelor's Degree    Sales Associate                  7.0   \n",
       "4  52.0    Male    Master's Degree           Director                 20.0   \n",
       "\n",
       "     Salary Age Group  \n",
       "0   90000.0     30-39  \n",
       "1   65000.0     20-29  \n",
       "2  150000.0     40-49  \n",
       "3   60000.0     30-39  \n",
       "4  200000.0     50-59  "
      ]
     },
     "execution_count": 50,
     "metadata": {},
     "output_type": "execute_result"
    }
   ],
   "source": [
    "salary_df.head()"
   ]
  },
  {
   "cell_type": "markdown",
   "id": "85e59d67",
   "metadata": {},
   "source": [
    "### Model Validation - Mean Absolute Error...... error = actual - predicted"
   ]
  },
  {
   "cell_type": "code",
   "execution_count": 51,
   "id": "ba8efef8",
   "metadata": {},
   "outputs": [
    {
     "data": {
      "text/plain": [
       "15121.047743074709"
      ]
     },
     "execution_count": 51,
     "metadata": {},
     "output_type": "execute_result"
    }
   ],
   "source": [
    "from sklearn.metrics import mean_absolute_error\n",
    "\n",
    "salary_prediction = salary_model.predict(X)\n",
    "mean_absolute_error(y, salary_prediction)"
   ]
  },
  {
   "cell_type": "markdown",
   "id": "cff1b2c5",
   "metadata": {},
   "source": [
    "#### Since models' practical value come from making predictions on new data, we measure performance on data that wasn't used to build the model. The most straightforward way to do this is to exclude some data from the model-building process, and then use those to test the model's accuracy on data it hasn't seen before. This data is called validation data."
   ]
  },
  {
   "cell_type": "code",
   "execution_count": 52,
   "id": "22b362d9",
   "metadata": {},
   "outputs": [
    {
     "name": "stdout",
     "output_type": "stream",
     "text": [
      "18845.04509150801\n"
     ]
    }
   ],
   "source": [
    "from sklearn.model_selection import train_test_split\n",
    "\n",
    "# split data into training and tetsing/validation data, for both features and target\n",
    "# The split is based on a random number generator. Supplying a numeric value to\n",
    "# the random_state argument guarantees we get the same split every time we\n",
    "# run this script.\n",
    "\n",
    "train_X, val_X, train_y, val_y = train_test_split(X, y, random_state= 0)\n",
    "salary_model = DecisionTreeRegressor()\n",
    "salary_model.fit(train_X, train_y)\n",
    "\n",
    "# get predicted salaries on validation data\n",
    "val_prediction = salary_model.predict(val_X)\n",
    "print(mean_absolute_error(val_y, val_prediction))"
   ]
  },
  {
   "cell_type": "markdown",
   "id": "64b4c9cc",
   "metadata": {},
   "source": [
    "#### The mean absolute error for the in-sample data was about 15,000 dollars. Out-of-sample it is more than 18,845 dollars."
   ]
  },
  {
   "cell_type": "markdown",
   "id": "d4b80d2f",
   "metadata": {},
   "source": [
    "## To overcome Overfitting and Underfitting problem, max_leaf_node"
   ]
  },
  {
   "cell_type": "code",
   "execution_count": 53,
   "id": "17b88f92",
   "metadata": {},
   "outputs": [],
   "source": [
    "from sklearn.metrics import mean_absolute_error\n",
    "from sklearn.tree import DecisionTreeRegressor\n",
    "\n",
    "def get_mae(max_leaf_nodes, train_X, val_X, train_y, val_y):\n",
    "    salary_model = DecisionTreeRegressor(max_leaf_nodes=max_leaf_nodes, random_state=0)\n",
    "    salary_model.fit(train_X, train_y)\n",
    "    val_prediction = salary_model.predict(val_X)\n",
    "    mae = mean_absolute_error(val_y, val_prediction)\n",
    "    return(mae)"
   ]
  },
  {
   "cell_type": "code",
   "execution_count": 54,
   "id": "b07ccc33",
   "metadata": {},
   "outputs": [
    {
     "name": "stdout",
     "output_type": "stream",
     "text": [
      "Max leaf nodes: 8  \t\t Mean Absolute Error:  19792\n",
      "Max leaf nodes: 80  \t\t Mean Absolute Error:  18538\n",
      "Max leaf nodes: 800  \t\t Mean Absolute Error:  18849\n",
      "Max leaf nodes: 8000  \t\t Mean Absolute Error:  18849\n"
     ]
    }
   ],
   "source": [
    "# compare MAE with differing values of max_leaf_nodes\n",
    "for max_leaf_nodes in [8, 80, 800, 8000]:\n",
    "    my_mae = get_mae(max_leaf_nodes, train_X, val_X, train_y, val_y)\n",
    "    print(\"Max leaf nodes: %d  \\t\\t Mean Absolute Error:  %d\" %(max_leaf_nodes, my_mae))\n",
    "#     print(f\"Max leaf nodes: {max_leaf_nodes}  \\t\\t Mean Absolute Error:  {my_mae}\")"
   ]
  },
  {
   "cell_type": "markdown",
   "id": "e5705220",
   "metadata": {},
   "source": [
    "### Using a Random Forest Model because of the Decision Tree's fallbacks"
   ]
  },
  {
   "cell_type": "code",
   "execution_count": 55,
   "id": "9a58d26b",
   "metadata": {},
   "outputs": [],
   "source": [
    "from sklearn.ensemble import RandomForestRegressor\n",
    "from sklearn.metrics import mean_absolute_error"
   ]
  },
  {
   "cell_type": "code",
   "execution_count": 56,
   "id": "439080d9",
   "metadata": {},
   "outputs": [
    {
     "name": "stdout",
     "output_type": "stream",
     "text": [
      "18452.857811067504\n"
     ]
    }
   ],
   "source": [
    "forest_model = RandomForestRegressor(random_state = 1)\n",
    "forest_model.fit(train_X, train_y)\n",
    "\n",
    "forest_pred = forest_model.predict(val_X)\n",
    "print(mean_absolute_error(val_y, forest_pred))"
   ]
  },
  {
   "cell_type": "markdown",
   "id": "30fe059c",
   "metadata": {},
   "source": [
    "#### We can observe that the MAE using DecisionTree was 18827, and the MAE using Random Forest was 18452. A difference close to 400."
   ]
  },
  {
   "cell_type": "markdown",
   "id": "63740f98",
   "metadata": {},
   "source": [
    "## Linear Regression Model"
   ]
  },
  {
   "cell_type": "code",
   "execution_count": 57,
   "id": "2fd3ee98",
   "metadata": {},
   "outputs": [
    {
     "name": "stdout",
     "output_type": "stream",
     "text": [
      "23036.127101861824\n"
     ]
    }
   ],
   "source": [
    "from sklearn.linear_model import LinearRegression\n",
    "\n",
    "reg_model = LinearRegression()\n",
    "reg_model.fit(train_X, train_y)\n",
    "\n",
    "reg_pred= reg_model.predict(val_X)\n",
    "print(mean_absolute_error(val_y, reg_pred))"
   ]
  },
  {
   "cell_type": "code",
   "execution_count": 58,
   "id": "3b939f28",
   "metadata": {},
   "outputs": [
    {
     "data": {
      "text/html": [
       "<div>\n",
       "<style scoped>\n",
       "    .dataframe tbody tr th:only-of-type {\n",
       "        vertical-align: middle;\n",
       "    }\n",
       "\n",
       "    .dataframe tbody tr th {\n",
       "        vertical-align: top;\n",
       "    }\n",
       "\n",
       "    .dataframe thead th {\n",
       "        text-align: right;\n",
       "    }\n",
       "</style>\n",
       "<table border=\"1\" class=\"dataframe\">\n",
       "  <thead>\n",
       "    <tr style=\"text-align: right;\">\n",
       "      <th></th>\n",
       "      <th>Unnamed: 0</th>\n",
       "      <th>Age</th>\n",
       "      <th>Years of Experience</th>\n",
       "      <th>Salary</th>\n",
       "    </tr>\n",
       "  </thead>\n",
       "  <tbody>\n",
       "    <tr>\n",
       "      <th>count</th>\n",
       "      <td>1787.000000</td>\n",
       "      <td>1787.000000</td>\n",
       "      <td>1787.000000</td>\n",
       "      <td>1787.000000</td>\n",
       "    </tr>\n",
       "    <tr>\n",
       "      <th>mean</th>\n",
       "      <td>893.000000</td>\n",
       "      <td>35.139899</td>\n",
       "      <td>9.156128</td>\n",
       "      <td>113184.659765</td>\n",
       "    </tr>\n",
       "    <tr>\n",
       "      <th>std</th>\n",
       "      <td>516.006783</td>\n",
       "      <td>8.213045</td>\n",
       "      <td>6.844924</td>\n",
       "      <td>51596.536766</td>\n",
       "    </tr>\n",
       "    <tr>\n",
       "      <th>min</th>\n",
       "      <td>0.000000</td>\n",
       "      <td>21.000000</td>\n",
       "      <td>0.000000</td>\n",
       "      <td>350.000000</td>\n",
       "    </tr>\n",
       "    <tr>\n",
       "      <th>25%</th>\n",
       "      <td>446.500000</td>\n",
       "      <td>29.000000</td>\n",
       "      <td>3.000000</td>\n",
       "      <td>70000.000000</td>\n",
       "    </tr>\n",
       "    <tr>\n",
       "      <th>50%</th>\n",
       "      <td>893.000000</td>\n",
       "      <td>33.000000</td>\n",
       "      <td>8.000000</td>\n",
       "      <td>110000.000000</td>\n",
       "    </tr>\n",
       "    <tr>\n",
       "      <th>75%</th>\n",
       "      <td>1339.500000</td>\n",
       "      <td>41.000000</td>\n",
       "      <td>13.000000</td>\n",
       "      <td>160000.000000</td>\n",
       "    </tr>\n",
       "    <tr>\n",
       "      <th>max</th>\n",
       "      <td>1786.000000</td>\n",
       "      <td>62.000000</td>\n",
       "      <td>34.000000</td>\n",
       "      <td>250000.000000</td>\n",
       "    </tr>\n",
       "  </tbody>\n",
       "</table>\n",
       "</div>"
      ],
      "text/plain": [
       "        Unnamed: 0          Age  Years of Experience         Salary\n",
       "count  1787.000000  1787.000000          1787.000000    1787.000000\n",
       "mean    893.000000    35.139899             9.156128  113184.659765\n",
       "std     516.006783     8.213045             6.844924   51596.536766\n",
       "min       0.000000    21.000000             0.000000     350.000000\n",
       "25%     446.500000    29.000000             3.000000   70000.000000\n",
       "50%     893.000000    33.000000             8.000000  110000.000000\n",
       "75%    1339.500000    41.000000            13.000000  160000.000000\n",
       "max    1786.000000    62.000000            34.000000  250000.000000"
      ]
     },
     "execution_count": 58,
     "metadata": {},
     "output_type": "execute_result"
    }
   ],
   "source": [
    "model_data.describe()"
   ]
  }
 ],
 "metadata": {
  "kernelspec": {
   "display_name": "Python 3 (ipykernel)",
   "language": "python",
   "name": "python3"
  },
  "language_info": {
   "codemirror_mode": {
    "name": "ipython",
    "version": 3
   },
   "file_extension": ".py",
   "mimetype": "text/x-python",
   "name": "python",
   "nbconvert_exporter": "python",
   "pygments_lexer": "ipython3",
   "version": "3.10.9"
  }
 },
 "nbformat": 4,
 "nbformat_minor": 5
}
