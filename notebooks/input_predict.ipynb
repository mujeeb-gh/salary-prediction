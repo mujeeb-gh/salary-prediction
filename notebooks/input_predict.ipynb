{
 "cells": [
  {
   "cell_type": "markdown",
   "metadata": {},
   "source": [
    "#### This notebook collects user input, validates it to ensure compatibility with model's features, and then makes <i>salary</i> predictions based on the input provided."
   ]
  },
  {
   "cell_type": "code",
   "execution_count": null,
   "metadata": {},
   "outputs": [],
   "source": [
    "import pandas as pd\n",
    "clean_data = \"../data/Clean_Salary_Data.csv\"\n",
    "model_data = pd.read_csv(clean_data)\n",
    "job_titles = model_data[\"Job Title\"].unique().tolist()\n",
    "job_titles"
   ]
  },
  {
   "cell_type": "markdown",
   "metadata": {},
   "source": [
    "### Load Random Forests Model"
   ]
  },
  {
   "cell_type": "code",
   "execution_count": 2,
   "metadata": {},
   "outputs": [],
   "source": [
    "import joblib\n",
    "rf_model = joblib.load(\"../models/random_forests_model.pkl\")"
   ]
  },
  {
   "cell_type": "markdown",
   "metadata": {},
   "source": [
    "### Input Guidelines\n",
    "#### Age: (21 - 62)\n",
    "#### Gender: (Male/ Female/ Other)\n",
    "#### Eduaction Level: (High School/ Bachelor's Degree/ Master's Degree/ PhD)\n",
    "#### Job Title : input job title must be in job_titles list above\n",
    "#### Years of Experience: (0 - 34)"
   ]
  },
  {
   "cell_type": "markdown",
   "metadata": {},
   "source": [
    "### Input Prompt and Validation"
   ]
  },
  {
   "cell_type": "code",
   "execution_count": 3,
   "metadata": {},
   "outputs": [
    {
     "name": "stdout",
     "output_type": "stream",
     "text": [
      "Invalid input. Job Title must be one of the specified options.\n",
      "Years of Experience must be between 0 and 34 years.\n"
     ]
    }
   ],
   "source": [
    "genders= [\"Male\", \"Female\", \"Other\"]\n",
    "education_level_options = [\"High School\", \"Bachelor's Degree\", \"Master's Degree\", \"PhD\"]\n",
    "\n",
    "def input_features():\n",
    "    age = 0\n",
    "    while True:\n",
    "        try:\n",
    "            age = float(input(\"Enter Age (21 - 62): \"))\n",
    "        except ValueError:\n",
    "            print(\"Invalid input.\")\n",
    "        if age < 21 or age > 62:\n",
    "            print(\"Age must be a number between 21 and 62.\")\n",
    "        else:\n",
    "            break\n",
    "\n",
    "\n",
    "    gender = None\n",
    "    while True:\n",
    "        gender = str(input(\"Enter Gender (Male/ Female/ Other): \")).capitalize()\n",
    "        if gender not in genders:\n",
    "            print(\"Invalid input, gender must be Male, Female, or Other\")\n",
    "        else:\n",
    "            break\n",
    "\n",
    "    education_lvl = None\n",
    "    while True:\n",
    "        education_lvl = str(input(\"Enter Education Level (High School/ Bachelor's Degree/ Master's Degree/ PhD): \"))\n",
    "        if education_lvl not in education_level_options:\n",
    "            print(\"Invalid input. Education Level must be one of the specified options.\")\n",
    "        else:\n",
    "            break\n",
    "\n",
    "    job_title = None\n",
    "    while True:\n",
    "        job_title = str(input(\"Enter Job Title (Must be a valid title): \"))\n",
    "        if job_title not in job_titles:\n",
    "            print(\"Invalid input. Job Title must be one of the specified options.\")\n",
    "        else:\n",
    "            break\n",
    "    \n",
    "    years = 0\n",
    "    while True:\n",
    "        try:\n",
    "            years = float(input(\"Enter Years of Experience: \"))\n",
    "        except ValueError:\n",
    "            print(\"Invalid input.\")\n",
    "            continue\n",
    "        if years < 0 or years > 34:\n",
    "            print(\"Years of Experience must be between 0 and 34 years.\")\n",
    "        else:\n",
    "            break\n",
    "    \n",
    "    return age, gender, education_lvl, job_title, years\n",
    "\n",
    "age, gender, education_lvl, job_title, years = input_features()"
   ]
  },
  {
   "cell_type": "markdown",
   "metadata": {},
   "source": [
    "### Store input in a dataframe"
   ]
  },
  {
   "cell_type": "code",
   "execution_count": 4,
   "metadata": {
    "scrolled": false
   },
   "outputs": [],
   "source": [
    "df = model_data.drop([\"Salary\", \"Unnamed: 0\", \"Age Group\"], axis = 1)\n",
    "\n",
    "input_dict = {\n",
    "    \"Age\": [age],\n",
    "    \"Gender\": [gender],\n",
    "    \"Education Level\": [education_lvl],\n",
    "    \"Job Title\": [job_title],\n",
    "    \"Years of Experience\": [years]\n",
    "}\n",
    "\n",
    "input_df = pd.DataFrame(input_dict)"
   ]
  },
  {
   "cell_type": "code",
   "execution_count": 5,
   "metadata": {
    "scrolled": true
   },
   "outputs": [
    {
     "data": {
      "text/html": [
       "<div>\n",
       "<style scoped>\n",
       "    .dataframe tbody tr th:only-of-type {\n",
       "        vertical-align: middle;\n",
       "    }\n",
       "\n",
       "    .dataframe tbody tr th {\n",
       "        vertical-align: top;\n",
       "    }\n",
       "\n",
       "    .dataframe thead th {\n",
       "        text-align: right;\n",
       "    }\n",
       "</style>\n",
       "<table border=\"1\" class=\"dataframe\">\n",
       "  <thead>\n",
       "    <tr style=\"text-align: right;\">\n",
       "      <th></th>\n",
       "      <th>Age</th>\n",
       "      <th>Gender</th>\n",
       "      <th>Education Level</th>\n",
       "      <th>Job Title</th>\n",
       "      <th>Years of Experience</th>\n",
       "    </tr>\n",
       "  </thead>\n",
       "  <tbody>\n",
       "    <tr>\n",
       "      <th>0</th>\n",
       "      <td>54.0</td>\n",
       "      <td>Other</td>\n",
       "      <td>High School</td>\n",
       "      <td>Software Developer</td>\n",
       "      <td>17.0</td>\n",
       "    </tr>\n",
       "  </tbody>\n",
       "</table>\n",
       "</div>"
      ],
      "text/plain": [
       "    Age Gender Education Level           Job Title  Years of Experience\n",
       "0  54.0  Other     High School  Software Developer                 17.0"
      ]
     },
     "execution_count": 5,
     "metadata": {},
     "output_type": "execute_result"
    }
   ],
   "source": [
    "# preview input data\n",
    "input_df"
   ]
  },
  {
   "cell_type": "code",
   "execution_count": 6,
   "metadata": {},
   "outputs": [
    {
     "name": "stdout",
     "output_type": "stream",
     "text": [
      "[{\"Age\":54.0,\"Gender\":\"Other\",\"Education Level\":\"High School\",\"Job Title\":\"Software Developer\",\"Years of Experience\":17.0}]\n"
     ]
    }
   ],
   "source": [
    "sample = input_df.to_json(orient='records')\n",
    "print(sample)"
   ]
  },
  {
   "cell_type": "markdown",
   "metadata": {},
   "source": [
    "#### Best Solution I could think of at the time\n",
    "##### Appending User Input: Collected user input for Age, Gender, Education Level, Job Title, and Years of Experience.\n",
    "\n",
    "##### Appending to Main DataFrame: Appended the user input as a new row to the main DataFrame used for training, creating a larger combined DataFrame for both training data and user input.\n",
    "\n",
    "##### Preprocessing: Performed preprocessing, including label encoding and one-hot encoding, on the combined DataFrame, which includes both training data and user input.\n",
    "\n",
    "##### Prediction: Made predictions using the trained model on the last row of the combined DataFrame, which represents the user input."
   ]
  },
  {
   "cell_type": "code",
   "execution_count": 7,
   "metadata": {},
   "outputs": [
    {
     "name": "stderr",
     "output_type": "stream",
     "text": [
      "C:\\Users\\olami\\AppData\\Local\\Temp\\ipykernel_3284\\2615271377.py:3: FutureWarning: The frame.append method is deprecated and will be removed from pandas in a future version. Use pandas.concat instead.\n",
      "  df = df.append(input_row, ignore_index= True)\n"
     ]
    }
   ],
   "source": [
    "# append input data to training data\n",
    "input_row = input_df.iloc[0]\n",
    "df = df.append(input_row, ignore_index= True)"
   ]
  },
  {
   "cell_type": "code",
   "execution_count": 8,
   "metadata": {},
   "outputs": [
    {
     "data": {
      "text/html": [
       "<div>\n",
       "<style scoped>\n",
       "    .dataframe tbody tr th:only-of-type {\n",
       "        vertical-align: middle;\n",
       "    }\n",
       "\n",
       "    .dataframe tbody tr th {\n",
       "        vertical-align: top;\n",
       "    }\n",
       "\n",
       "    .dataframe thead th {\n",
       "        text-align: right;\n",
       "    }\n",
       "</style>\n",
       "<table border=\"1\" class=\"dataframe\">\n",
       "  <thead>\n",
       "    <tr style=\"text-align: right;\">\n",
       "      <th></th>\n",
       "      <th>Age</th>\n",
       "      <th>Gender</th>\n",
       "      <th>Education Level</th>\n",
       "      <th>Job Title</th>\n",
       "      <th>Years of Experience</th>\n",
       "    </tr>\n",
       "  </thead>\n",
       "  <tbody>\n",
       "    <tr>\n",
       "      <th>0</th>\n",
       "      <td>54.0</td>\n",
       "      <td>Other</td>\n",
       "      <td>High School</td>\n",
       "      <td>Software Developer</td>\n",
       "      <td>17.0</td>\n",
       "    </tr>\n",
       "  </tbody>\n",
       "</table>\n",
       "</div>"
      ],
      "text/plain": [
       "    Age Gender Education Level           Job Title Years of Experience\n",
       "0  54.0  Other     High School  Software Developer                17.0"
      ]
     },
     "execution_count": 8,
     "metadata": {},
     "output_type": "execute_result"
    }
   ],
   "source": [
    "input_row.to_frame().T"
   ]
  },
  {
   "cell_type": "code",
   "execution_count": 9,
   "metadata": {},
   "outputs": [
    {
     "data": {
      "text/html": [
       "<div>\n",
       "<style scoped>\n",
       "    .dataframe tbody tr th:only-of-type {\n",
       "        vertical-align: middle;\n",
       "    }\n",
       "\n",
       "    .dataframe tbody tr th {\n",
       "        vertical-align: top;\n",
       "    }\n",
       "\n",
       "    .dataframe thead th {\n",
       "        text-align: right;\n",
       "    }\n",
       "</style>\n",
       "<table border=\"1\" class=\"dataframe\">\n",
       "  <thead>\n",
       "    <tr style=\"text-align: right;\">\n",
       "      <th></th>\n",
       "      <th>Age</th>\n",
       "      <th>Gender</th>\n",
       "      <th>Education Level</th>\n",
       "      <th>Job Title</th>\n",
       "      <th>Years of Experience</th>\n",
       "    </tr>\n",
       "  </thead>\n",
       "  <tbody>\n",
       "    <tr>\n",
       "      <th>1787</th>\n",
       "      <td>54.0</td>\n",
       "      <td>Other</td>\n",
       "      <td>High School</td>\n",
       "      <td>Software Developer</td>\n",
       "      <td>17.0</td>\n",
       "    </tr>\n",
       "  </tbody>\n",
       "</table>\n",
       "</div>"
      ],
      "text/plain": [
       "       Age Gender Education Level           Job Title  Years of Experience\n",
       "1787  54.0  Other     High School  Software Developer                 17.0"
      ]
     },
     "execution_count": 9,
     "metadata": {},
     "output_type": "execute_result"
    }
   ],
   "source": [
    "df.tail(1)"
   ]
  },
  {
   "cell_type": "markdown",
   "metadata": {},
   "source": [
    "### Preprocessing"
   ]
  },
  {
   "cell_type": "code",
   "execution_count": 10,
   "metadata": {},
   "outputs": [],
   "source": [
    "from sklearn.preprocessing import LabelEncoder, OneHotEncoder\n",
    "label_encoder = LabelEncoder()\n",
    "df[\"Education Level\"] = label_encoder.fit_transform(df[\"Education Level\"])\n",
    "\n",
    "onehot_encoder = OneHotEncoder(drop=\"first\", sparse_output=False)\n",
    "onehot_encoded = onehot_encoder.fit_transform(df[[\"Gender\", \"Job Title\"]])\n",
    "# Create a DataFrame from the one-hot encoded array\n",
    "onehot_df = pd.DataFrame(onehot_encoded, columns=onehot_encoder.get_feature_names_out([\"Gender\", \"Job Title\"]))\n",
    "# Concatenate the one-hot encoded DataFrame with the rest of the features\n",
    "df = pd.concat([df, onehot_df], axis=1)\n",
    "# Drop the original \"Gender\" and \"Job Title\" columns\n",
    "df = df.drop([\"Gender\", \"Job Title\"], axis=1)"
   ]
  },
  {
   "cell_type": "markdown",
   "metadata": {},
   "source": [
    "### Predicting Salary"
   ]
  },
  {
   "cell_type": "code",
   "execution_count": 11,
   "metadata": {
    "scrolled": true
   },
   "outputs": [
    {
     "name": "stdout",
     "output_type": "stream",
     "text": [
      "Age: 54\n",
      "Gender: Other\n",
      "Education Level: High School\n",
      "Job Title: Software Developer\n",
      "Years of Experience: 17 years\n",
      "\n",
      "Predicted salary: 156647\n"
     ]
    }
   ],
   "source": [
    "salary_pred = rf_model.predict(df.tail(1))\n",
    "print(f\"Age: {int(age)}\\nGender: {gender}\\nEducation Level: {education_lvl}\\nJob Title: {job_title}\\nYears of Experience: {int(years)} years\\n\\nPredicted salary: {int(salary_pred)}\")"
   ]
  },
  {
   "cell_type": "markdown",
   "metadata": {},
   "source": [
    "#### The model successfully predicted the salary from the user input.\n",
    "<!-- ####<img src=\"input_image.png\"/> -->"
   ]
  }
 ],
 "metadata": {
  "kernelspec": {
   "display_name": "Python 3 (ipykernel)",
   "language": "python",
   "name": "python3"
  },
  "language_info": {
   "codemirror_mode": {
    "name": "ipython",
    "version": 3
   },
   "file_extension": ".py",
   "mimetype": "text/x-python",
   "name": "python",
   "nbconvert_exporter": "python",
   "pygments_lexer": "ipython3",
   "version": "3.10.9"
  },
  "varInspector": {
   "cols": {
    "lenName": 16,
    "lenType": 16,
    "lenVar": 40
   },
   "kernels_config": {
    "python": {
     "delete_cmd_postfix": "",
     "delete_cmd_prefix": "del ",
     "library": "var_list.py",
     "varRefreshCmd": "print(var_dic_list())"
    },
    "r": {
     "delete_cmd_postfix": ") ",
     "delete_cmd_prefix": "rm(",
     "library": "var_list.r",
     "varRefreshCmd": "cat(var_dic_list()) "
    }
   },
   "types_to_exclude": [
    "module",
    "function",
    "builtin_function_or_method",
    "instance",
    "_Feature"
   ],
   "window_display": false
  }
 },
 "nbformat": 4,
 "nbformat_minor": 2
}
