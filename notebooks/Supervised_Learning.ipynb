{
 "cells": [
  {
   "cell_type": "markdown",
   "id": "2433532d",
   "metadata": {},
   "source": [
    "## Supervised Learning"
   ]
  },
  {
   "cell_type": "markdown",
   "id": "651ba534",
   "metadata": {},
   "source": [
    "### This is a type of machine learning that uses algorithm, where the algorithm learns from labeled trained data to make predictions or decisions.\n",
    "\n",
    "### LABELED Data in supervised learning is like having answers (labels) provided along with the data, so the computer can learn how to make predictions. UNLABELED Data in unsupervised learning is about discovering patterns and relationships within the data without any initial labels, helping to uncover hidden insights.\n",
    "\n",
    "### "
   ]
  },
  {
   "cell_type": "markdown",
   "id": "7863743e",
   "metadata": {},
   "source": [
    "# Type of models i used :\n",
    "\n",
    "## Neural Network : \n",
    "###               is a computer system inspired by how our brain works. It's designed to learn from examples and make decisions, just like we do.so basical it functions the way a human brain does.\n",
    "\n",
    "## Decision Tree model:\n",
    "###                a decision tree helps a computer make decisions by asking a series of questions about the input data. Each question leads to more questions or a final answer. It's a way for a computer to \"learn\" from examples and figure out the best path to make predictions or classify things.It basical deals classifications and regression.\n",
    "\n",
    "## Linear Regresssion:\n",
    "###               is used to model the relationship between a dependent variable and one or more independent variables by fitting a linear equation"
   ]
  },
  {
   "cell_type": "markdown",
   "id": "e1a7f3f9",
   "metadata": {},
   "source": []
  },
  {
   "cell_type": "markdown",
   "id": "a8c7bbfd",
   "metadata": {},
   "source": [
    "# Neural  Networks "
   ]
  },
  {
   "cell_type": "markdown",
   "id": "33a2d0a6",
   "metadata": {},
   "source": [
    "## Why i used Neural Networks\n",
    "\n",
    "### At first i didnt really have a reason but on doing some research i figured out that Neural network is used best in image classification i.e neural networks in supervised learning basically makes computers to become smart at recognizing things, like animals, by learning from labeled examples.So in this situaton it is not really ideal."
   ]
  },
  {
   "cell_type": "markdown",
   "id": "46feee93",
   "metadata": {},
   "source": [
    "### During my observations i noticed that when considering Job Title and Education Level as factors and using the mean score (Also known as R^2 Score, measures the score ranges from 0 to 1, where a higher value shows that its performing well in predicting), the predictions often fall below zero. In other words, the predicted values are relatively low, as they tend to be closer to zero than to one."
   ]
  },
  {
   "cell_type": "code",
   "execution_count": 1,
   "id": "221084f9",
   "metadata": {},
   "outputs": [],
   "source": [
    "import pandas as pd\n",
    "import numpy as np\n",
    "from sklearn.model_selection import train_test_split\n",
    "from sklearn.neural_network import MLPRegressor\n",
    "from sklearn.preprocessing import OneHotEncoder, LabelEncoder\n",
    "from sklearn.tree import DecisionTreeRegressor, DecisionTreeClassifier\n",
    "from sklearn.metrics import accuracy_score\n",
    "from sklearn.linear_model import LinearRegression\n",
    "from sklearn.compose import ColumnTransformer\n",
    "from sklearn.metrics import mean_absolute_error\n",
    "import pandas as pd\n",
    "import joblib"
   ]
  },
  {
   "cell_type": "markdown",
   "id": "41dbdab4",
   "metadata": {},
   "source": [
    "###  Using the databse given the prediction below is Salary based on Age "
   ]
  },
  {
   "cell_type": "code",
   "execution_count": 4,
   "id": "9fc40937",
   "metadata": {},
   "outputs": [
    {
     "ename": "SyntaxError",
     "evalue": "(unicode error) 'unicodeescape' codec can't decode bytes in position 2-3: truncated \\UXXXXXXXX escape (3497013866.py, line 2)",
     "output_type": "error",
     "traceback": [
      "\u001b[1;36m  Cell \u001b[1;32mIn[4], line 2\u001b[1;36m\u001b[0m\n\u001b[1;33m    model_df = \"C:\\Users\\HP\\Documents\\Documents\\E process\\dataanalysisstuff\\salary-prediction\\Clean Database.csv\"\u001b[0m\n\u001b[1;37m                                                                                                                 ^\u001b[0m\n\u001b[1;31mSyntaxError\u001b[0m\u001b[1;31m:\u001b[0m (unicode error) 'unicodeescape' codec can't decode bytes in position 2-3: truncated \\UXXXXXXXX escape\n"
     ]
    }
   ],
   "source": [
    "# Reading the data from the database\n",
    "model_df = \"C:\\Users\\HP\\Documents\\Documents\\E process\\dataanalysisstuff\\salary-prediction\\Clean Database.csv\"\n",
    "salary_df = pd.read_csv(model_df)\n",
    "\n",
    "\n",
    "# features and target variables\n",
    "X_age_to_salary = salary_df[['Age']]\n",
    "y_salary = salary_df['Salary']\n",
    "\n",
    "# Spliting the data into training and testing sets\n",
    "X_train_age_to_salary, X_test_age_to_salary, y_train_salary, y_test_salary = train_test_split(X_age_to_salary, y_salary, test_size=0.2)\n",
    "\n",
    "# Initializing the MLPRegressor models\n",
    "model_age_salary = MLPRegressor(hidden_layer_sizes=(50, 50), max_iter=1000)\n",
    "\n",
    "# training the MLPRegressor models\n",
    "model_age_salary.fit(X_train_age_to_salary, y_train_salary)\n",
    "\n",
    "# Make predictions\n",
    "predictions_salary = model_age_salary.predict(X_test_age_to_salary)\n",
    "\n",
    "# Print the predictions\n",
    "# print(\"Predicted Salary based on Age:\", predictions_salary)\n",
    "\n",
    "# Putting predictions in a tabular format\n",
    "predictions_df = pd.DataFrame({\n",
    "    'Predicted Salary based on Age': predictions_salary\n",
    "})\n",
    "print(predictions_df)\n",
    "print(\"Mean Score Predictions: \", model_age_salary.score(X_test_age_to_salary, y_test_salary))\n"
   ]
  },
  {
   "cell_type": "markdown",
   "id": "5a19f561",
   "metadata": {},
   "source": [
    "### Predictions of Years of Experience based on Age"
   ]
  },
  {
   "cell_type": "code",
   "execution_count": null,
   "id": "eb57a33f",
   "metadata": {},
   "outputs": [],
   "source": [
    "# Reading the data\n",
    "salary_df = pd.read_csv(\"Clean Database.csv\")\n",
    "\n",
    "# features and target variables\n",
    "X_age_to_yearsofexp = salary_df[['Age']]\n",
    "y_year_of_experience = salary_df[['Years of Experience']]\n",
    "\n",
    "\n",
    "# Split the data into training and testing sets\n",
    "X_train_age_to_yearsofexp, X_test_age_to_yearsofexp, y_train_year_of_experience, y_test_year_of_experience = train_test_split(X_age_to_yearsofexp, y_year_of_experience, test_size=0.2)\n",
    "\n",
    "\n",
    "# Initializing the MLPRegressor models\n",
    "model_age_to_years_of_exp = MLPRegressor(hidden_layer_sizes=(50, 50), max_iter=1000)\n",
    "\n",
    "# training the MLPRegressor models\n",
    "model_age_to_years_of_exp.fit(X_train_age_to_yearsofexp, y_train_year_of_experience)\n",
    "\n",
    "# Make predictions\n",
    "predictions_age_to_year_of_experience = model_age_to_years_of_exp.predict(X_test_age_to_yearsofexp)\n",
    "\n",
    "# Print the predictions\n",
    "# print(\"Predicte Years of Experience based on Age:\", predictions_age_to_year_of_experience)\n",
    "\n",
    "predictions_df = pd.DataFrame({\n",
    "    'Predicted Years of Experience based on Age ': predictions_age_to_year_of_experience\n",
    "})\n",
    "\n",
    "print(predictions_df)\n",
    "print(\"Mean Score Predictions: \", model_age_to_years_of_exp.score(X_test_age_to_yearsofexp, y_test_year_of_experience))\n",
    "print(\"Mean Absolute Error:\",mean_absolute_error(y_test_year_of_experience, predictions_age_to_year_of_experience))\n"
   ]
  },
  {
   "cell_type": "markdown",
   "id": "a61043ea",
   "metadata": {},
   "source": [
    "### Given that the model is unable to generate predictions for categorical variables which are \"Job Title, Education Level and Gender\" represented as strings, I needed to apply one-hot encoding to transform the textual data into numerical format."
   ]
  },
  {
   "cell_type": "markdown",
   "id": "1f2f7ffc",
   "metadata": {},
   "source": [
    "### Predictions of Salary from Job Title"
   ]
  },
  {
   "cell_type": "code",
   "execution_count": null,
   "id": "3d6d917b",
   "metadata": {},
   "outputs": [],
   "source": [
    "# Reading the data\n",
    "salary_df = pd.read_csv(\"Clean Database.csv\")\n",
    "\n",
    "# features and target variables\n",
    "X_job_title_salary = salary_df[['Job Title']]\n",
    "y_salary_from_job_title = salary_df[['Salary']]\n",
    "\n",
    "\n",
    "# Convert the job titles to numerical using one-hot encoding\n",
    "encoder = OneHotEncoder()\n",
    "X_encoded_job_title_salary = encoder.fit_transform(X_job_title_salary).toarray()\n",
    "\n",
    "# Split the data into training and testing sets\n",
    "X_train_job_title_salary, X_test_job_title_salary, y_train_salary_from_job_title, y_test_salary_from_job_title = train_test_split(X_encoded_job_title_salary, y_salary_from_job_title, test_size=0.2)\n",
    "\n",
    "\n",
    "# Initializing the MLPRegressor models\n",
    "model_job_title_salary = MLPRegressor(hidden_layer_sizes=(50, 50), max_iter=1000)\n",
    "\n",
    "# training the MLPRegressor models\n",
    "model_job_title_salary.fit(X_train_job_title_salary, y_train_salary_from_job_title)\n",
    "\n",
    "# Make predictions\n",
    "predictions_salary_from_job_title = model_job_title_salary.predict(X_test_job_title_salary)\n",
    "\n",
    "# Print the predictions\n",
    "# print(\"Predictions on Salary from Job Title:\", predictions_salary_from_job_title)\n",
    "\n",
    "predictions_df = pd.DataFrame({\n",
    "    'Predicted Salary from Job Titlee ': predictions_salary_from_job_title\n",
    "})\n",
    "\n",
    "print(predictions_df)\n",
    "print(\"Mean Score Predictions: \", model_job_title_salary.score(X_test_job_title_salary, y_test_salary_from_job_title))\n"
   ]
  },
  {
   "cell_type": "markdown",
   "id": "1b8d0b2d",
   "metadata": {},
   "source": [
    "### Predictions of Years of Exprience from Job Title"
   ]
  },
  {
   "cell_type": "code",
   "execution_count": null,
   "id": "3429cf94",
   "metadata": {},
   "outputs": [],
   "source": [
    "# Reading the data\n",
    "salary_df = pd.read_csv(\"Clean Database.csv\")\n",
    "\n",
    "# features and target variables\n",
    "X_job_title_yearsofexp = salary_df[['Job Title']]\n",
    "y__yearsofexp_from_job_title = salary_df['Years of Experience']\n",
    "\n",
    "\n",
    "# Convert the job titles to numerical using one-hot encoding\n",
    "encoder = OneHotEncoder()\n",
    "X_encoded_job_title_yearsofexp = encoder.fit_transform(X_job_title_yearsofexp).toarray()\n",
    "\n",
    "# Split the data into training and testing sets\n",
    "X_train_job_title_yearsofexp, X_test_job_title_yearsofexp, y_train__yearsofexp_from_job_title, y_test__yearsofexp_from_job_title = train_test_split(X_encoded_job_title_yearsofexp, y__yearsofexp_from_job_title, test_size=0.2)\n",
    "\n",
    "\n",
    "# Initializing the MLPRegressor models\n",
    "model_job_title_years_of_exp = MLPRegressor(hidden_layer_sizes=(50, 50), max_iter=1000)\n",
    "\n",
    "# training the MLPRegressor models\n",
    "model_job_title_years_of_exp.fit(X_train_job_title_yearsofexp, y_train__yearsofexp_from_job_title)\n",
    "\n",
    "# Make predictions\n",
    "predictions_Yearsofexp_from_job_title = model_job_title_years_of_exp.predict(X_test_job_title_yearsofexp)\n",
    "\n",
    "# Print the predictions\n",
    "# print(\"Predictions on Years of Exprience from Job Title:\", predictions_Yearsofexp_from_job_title)\n",
    "\n",
    "predictions_df = pd.DataFrame({\n",
    "    'Predicted Years of Experience based on Job Title ': predictions_Yearsofexp_from_job_title\n",
    "})\n",
    "\n",
    "print(predictions_df)\n",
    "print(\"Mean Score Predictions: \", model_job_title_salary.score(X_test_job_title_salary, y_test_salary_from_job_title))\n",
    "\n"
   ]
  },
  {
   "cell_type": "markdown",
   "id": "30c15ccc",
   "metadata": {},
   "source": [
    "### Predictions of Years of Exprience from Education Level"
   ]
  },
  {
   "cell_type": "code",
   "execution_count": null,
   "id": "e2a0882e",
   "metadata": {},
   "outputs": [],
   "source": [
    "# Reading the data\n",
    "salary_df = pd.read_csv(\"Clean Database.csv\")\n",
    "\n",
    "# features and target variables\n",
    "X_educ_lvl_yearsofexp = salary_df[['Education Level']]\n",
    "y__yearsofexp_from_educ_lvl = salary_df[['Years of Experience']]\n",
    "\n",
    "\n",
    "# Convert the Educationg Level to numerical using one-hot encoding\n",
    "encoder = OneHotEncoder()\n",
    "X_encoded_educ_lvl_yearsofexp = encoder.fit_transform(X_educ_lvl_yearsofexp).toarray()\n",
    "\n",
    "# Split the data into training and testing sets\n",
    "X_train_educ_lvl_yearsofexp, X_test_educ_lvl_yearsofexp, y_train__yearsofexp_from_educ_lvl, y_test__yearsofexp_from_educ_lvl = train_test_split(X_encoded_educ_lvl_yearsofexp, y__yearsofexp_from_educ_lvl, test_size=0.2)\n",
    "\n",
    "\n",
    "# Initializing the MLPRegressor models\n",
    "model_education_lvl_years_of_exp = MLPRegressor(hidden_layer_sizes=(50, 50), max_iter=1000)\n",
    "\n",
    "# training the MLPRegressor models\n",
    "model_education_lvl_years_of_exp.fit(X_train_educ_lvl_yearsofexp, y_train__yearsofexp_from_educ_lvl)\n",
    "\n",
    "# Make predictions\n",
    "predictions_Yearsofexp_from_education_level = model_education_lvl_years_of_exp.predict(X_test_educ_lvl_yearsofexp)\n",
    "\n",
    "# Print the predictions\n",
    "# print(\"Predictions on Years of Exprience from Education level:\", predictions_Yearsofexp_from_education_level)\n",
    "\n",
    "predictions_df = pd.DataFrame({\n",
    "    'Predicted Years of Experience based on Education level ': predictions_Yearsofexp_from_education_level\n",
    "})\n",
    "\n",
    "print(predictions_df)\n",
    "print(\"Mean Score Predictions: \",model_education_lvl_years_of_exp.score(X_test_educ_lvl_yearsofexp, y_test__yearsofexp_from_educ_lvl))\n"
   ]
  },
  {
   "cell_type": "markdown",
   "id": "4de732ac",
   "metadata": {},
   "source": [
    "### Predictions of Salary from Education Level"
   ]
  },
  {
   "cell_type": "code",
   "execution_count": null,
   "id": "12bc39f4",
   "metadata": {},
   "outputs": [],
   "source": [
    "# Reading the data\n",
    "salary_df = pd.read_csv(\"Clean Database.csv\")\n",
    "\n",
    "# features and target variables\n",
    "X_educ_lvl_salary = salary_df[['Education Level']]\n",
    "y__salary_from_educ_lvl = salary_df[['Salary']]\n",
    "\n",
    "\n",
    "# Convert the Educationg Level to numerical using one-hot encoding\n",
    "encoder = OneHotEncoder()\n",
    "X_encoded_educ_lvl_salary = encoder.fit_transform(X_educ_lvl_salary).toarray()\n",
    "\n",
    "# Split the data into training and testing sets\n",
    "X_train_educ_lvl_salary, X_test_educ_lvl_salary, y_train__salary_from_educ_lvl, y_test__salary_from_educ_lvl = train_test_split(X_encoded_educ_lvl_salary, y__salary_from_educ_lvl, test_size=0.2)\n",
    "\n",
    "\n",
    "# Initializing the MLPRegressor models\n",
    "model_education_lvl_Salary = MLPRegressor(hidden_layer_sizes=(50, 50), max_iter=1000)\n",
    "\n",
    "# training the MLPRegressor models\n",
    "model_education_lvl_Salary.fit(X_train_educ_lvl_salary, y_train__salary_from_educ_lvl)\n",
    "\n",
    "# Make predictions\n",
    "predictions_Salary_from_education_level = model_education_lvl_Salary.predict(X_test_educ_lvl_salary)\n",
    "\n",
    "# Print the predictions\n",
    "# print(\"Predictions on Salary from Education level:\", predictions_Salary_from_education_level)\n",
    "\n",
    "predictions_df = pd.DataFrame({\n",
    "    'Predicted Salary based on Education level ': predictions_Salary_from_education_level\n",
    "})\n",
    "\n",
    "print(predictions_df)\n",
    "print(\"Mean Score Predictions: \",model_education_lvl_Salary.score(X_test_educ_lvl_salary, y_test__salary_from_educ_lvl))"
   ]
  },
  {
   "cell_type": "markdown",
   "id": "95e95335",
   "metadata": {},
   "source": [
    "# Decision Tree Model"
   ]
  },
  {
   "cell_type": "markdown",
   "id": "df70aa77",
   "metadata": {},
   "source": [
    "### i picked the decision tree model because they're easy to understand, just like making decisions by asking simple questions, and they can work well when you have a bunch of features that help you classify things."
   ]
  },
  {
   "cell_type": "markdown",
   "id": "649f286a",
   "metadata": {},
   "source": [
    "### the Mean Absolute Error (MAE) is a valuable metric for evaluating the performance of regression models,which gives you insights into the average discrepancy between predicted and actual values. I could not calculate the Mean absolute Error for the categorical variables becasue this model does not permit it"
   ]
  },
  {
   "cell_type": "markdown",
   "id": "f79e291e",
   "metadata": {},
   "source": [
    "### Under this model using the database given, The code below is for predicting Salary from Age, As shown below the MAE shows that the prediction of Salary is 26,245k off and the MSP is 57% so far Neural Networks is better than Decision Tree Model in predicting"
   ]
  },
  {
   "cell_type": "code",
   "execution_count": null,
   "id": "aed59edd",
   "metadata": {},
   "outputs": [],
   "source": [
    "# Extracting the columns\n",
    "X_age_salary = salary_df[['Age']]\n",
    "y_salary = salary_df['Salary']\n",
    "\n",
    "# Split the data into training and testing sets\n",
    "X_age_salary_train, X_age_salary_test, y_salary_train, y_salary_test = train_test_split(X_age_salary, y_salary, test_size=0.2, random_state=42)\n",
    "\n",
    "# Training the Decision Tree models \n",
    "age_salary_tree = DecisionTreeRegressor(random_state=42)\n",
    "age_salary_tree.fit(X_age_salary_train, y_salary_train)\n",
    "\n",
    "# Make predictions\n",
    "predictions_age_salary = age_salary_tree.predict(X_age_salary_test)\n",
    "print(\"Mean Absolute Error:\",mean_absolute_error(y_salary_test, predictions_age_salary))\n",
    "print(\"Mean Score Predictions: \",age_salary_tree.score(X_age_salary_test, y_salary_test))\n",
    "\n",
    "#Tabularizing the predictions\n",
    "predictions_df = pd.DataFrame({\n",
    "    'Predicted Years of Experience based on Age ': predictions_age_salary\n",
    "})\n",
    "\n",
    "print(predictions_df)\n"
   ]
  },
  {
   "cell_type": "markdown",
   "id": "1cfa2b59",
   "metadata": {},
   "source": [
    "### Predicted Years of Experience based on Age"
   ]
  },
  {
   "cell_type": "code",
   "execution_count": null,
   "id": "3da0dc19",
   "metadata": {},
   "outputs": [],
   "source": [
    "# Extracting the columns\n",
    "X_age_salary = salary_df[['Age']]\n",
    "y_salary = salary_df['Years of Experience']\n",
    "\n",
    "# Split the data into training and testing sets\n",
    "X_age_salary_train, X_age_salary_test, y_salary_train, y_salary_test = train_test_split(X_age_salary, y_salary, test_size=0.2, random_state=42)\n",
    "\n",
    "# Training the Decision Tree models \n",
    "age_salary_tree = DecisionTreeRegressor(random_state=42)\n",
    "age_salary_tree.fit(X_age_salary_train, y_salary_train)\n",
    "\n",
    "# Make predictions\n",
    "predictions_age_salary = age_salary_tree.predict(X_age_salary_test)\n",
    "print(\"Mean Absolute Error:\",mean_absolute_error(y_salary_test, predictions_age_salary))\n",
    "print(\"Mean Score Predictions: \",age_salary_tree.score(X_age_salary_test, y_salary_test))\n",
    "\n",
    "#Tabularizing the predictions\n",
    "predictions_df = pd.DataFrame({\n",
    "    'Predicted Years of Experience based on Age ': predictions_age_salary\n",
    "})\n",
    "\n",
    "print(predictions_df)\n"
   ]
  },
  {
   "cell_type": "markdown",
   "id": "7fd031c8",
   "metadata": {},
   "source": [
    "### Predictions Years of Experience based on Salary, , Based on this predictions the MAE shows that the prediction of Years of Experience to Salary is off by 3 and the MSP is 69%"
   ]
  },
  {
   "cell_type": "code",
   "execution_count": null,
   "id": "1d9e37b1",
   "metadata": {},
   "outputs": [],
   "source": [
    "# Extracting the columns\n",
    "X_salary_yearsofexp = salary_df[['Salary']]\n",
    "y_yearsofexp = salary_df['Years of Experience']\n",
    "\n",
    "# Split the data into training and testing sets\n",
    "X_salary_yearsofexp_train, X_salary_yearsofexp_test, y_yearsofexp_train, y_yearsofexp_test = train_test_split(X_salary_yearsofexp, y_yearsofexp, test_size=0.2, random_state=42)\n",
    "\n",
    "# Training the Decision Tree models \n",
    "Salary_Years_of_exp_tree = DecisionTreeRegressor(random_state=42)\n",
    "Salary_Years_of_exp_tree.fit(X_salary_yearsofexp_train, y_yearsofexp_train)\n",
    "\n",
    "# Make predictions\n",
    "predictions_Years_of_exp = Salary_Years_of_exp_tree.predict(X_salary_yearsofexp_test)\n",
    "print(\"Mean Absolute Error:\", mean_absolute_error(y_yearsofexp_test, predictions_Years_of_exp))\n",
    "print(\"Mean Score Predictions: \",Salary_Years_of_exp_tree.score(X_salary_yearsofexp_test, y_yearsofexp_test))\n",
    "                \n",
    "#Tabularizing the predictions\n",
    "predictions_df = pd.DataFrame({\n",
    "    'Predicted Years of Experience based on Salary ': predictions_Years_of_exp\n",
    "})\n",
    "\n",
    "print(predictions_df)"
   ]
  },
  {
   "cell_type": "markdown",
   "id": "ffa2ec97",
   "metadata": {},
   "source": [
    "### Predictions on Gender based on Job Title"
   ]
  },
  {
   "cell_type": "code",
   "execution_count": null,
   "id": "0e7743bd",
   "metadata": {},
   "outputs": [],
   "source": [
    "# Extracting the columns\n",
    "X_job_title = salary_df[['Job Title']]\n",
    "y_gender = salary_df['Gender']\n",
    "\n",
    "# Apply one-hot encoding to job titles\n",
    "X_encoded_job_title = pd.get_dummies(X_job_title, drop_first=True)\n",
    "\n",
    "# Split the data into training and testing sets\n",
    "X_job_title_train, X_job_title_test, y_gender_train, y_gender_test = train_test_split(X_encoded_job_title, y_gender, test_size=0.2, random_state=42)\n",
    "\n",
    "# Training the Decision Tree models \n",
    "gender_tree = DecisionTreeClassifier(random_state=42)\n",
    "gender_tree.fit(X_job_title_train, y_gender_train)\n",
    "\n",
    "# Make predictions\n",
    "predictions_gender = gender_tree.predict(X_job_title_test)\n",
    "# print(\"Mean Absolute Error:\", mean_absolute_error(y_gender_test, predictions_gender))\n",
    "\n",
    "#Tabularizing the predictions\n",
    "predictions_df = pd.DataFrame({\n",
    "    'Predicted Gender based on Job Title ': predictions_gender\n",
    "})\n",
    "\n",
    "print(predictions_df)\n"
   ]
  },
  {
   "cell_type": "markdown",
   "id": "947767ba",
   "metadata": {},
   "source": [
    "### Predictions on Education Level based on Job Title"
   ]
  },
  {
   "cell_type": "code",
   "execution_count": null,
   "id": "a1aaec60",
   "metadata": {},
   "outputs": [],
   "source": [
    "# Extracting the columns\n",
    "X_job_title = salary_df[['Job Title']]\n",
    "y_edu_lvl = salary_df['Education Level']\n",
    "\n",
    "# Apply one-hot encoding to job titles\n",
    "X_encoded_job_edu_lvl = pd.get_dummies(X_job_title, drop_first=True)\n",
    "y_encoded_edu_lvl = pd.get_dummies(y_edu_lvl, drop_first=True)\n",
    "\n",
    "\n",
    "# Split the data into training and testing sets\n",
    "X_job_title_train, X_job_title_test, y_edu_lvl_train, y_edu_lvl_test = train_test_split(X_encoded_job_edu_lvl, y_edu_lvl, test_size=0.2, random_state=42)\n",
    "\n",
    "# Training the Decision Tree models \n",
    "Educationlvl_tree = DecisionTreeClassifier(random_state=42)\n",
    "Educationlvl_tree.fit(X_job_title_train, y_edu_lvl_train)\n",
    "\n",
    "# Make predictions\n",
    "predictions_Education_Level = Educationlvl_tree.predict(X_job_title_test)\n",
    "# print(\"Mean Absolute Error:\", mean_absolute_error(y_encoded_edu_lvl, predictions_Education_Level))\n",
    "\n",
    "#Tabularizing the predictions\n",
    "predictions_df = pd.DataFrame({\n",
    "    'Predicted  Education Level based on Job Title ': predictions_Education_Level\n",
    "})\n",
    "\n",
    "print(predictions_df)"
   ]
  },
  {
   "cell_type": "markdown",
   "id": "496dad28",
   "metadata": {},
   "source": [
    "# Linear Regression"
   ]
  },
  {
   "cell_type": "markdown",
   "id": "0c418be3",
   "metadata": {},
   "source": [
    "###  i picked linear regression model because it helps in making predictions about one thing (like your earnings i.e salary) based on another thing (like Years of experience or age), by drawing a straight line that helps you see the connection"
   ]
  },
  {
   "cell_type": "markdown",
   "id": "7524f425",
   "metadata": {},
   "source": [
    "### Predicted Years of Experience based on Age"
   ]
  },
  {
   "cell_type": "code",
   "execution_count": null,
   "id": "0d46432a",
   "metadata": {},
   "outputs": [],
   "source": [
    "from sklearn.metrics import mean_absolute_error\n",
    "\n",
    "# Extracting the features and target variables\n",
    "X_age_yearsofexp = salary_df[['Age']]\n",
    "y_yearsofexp = salary_df['Years of Experience']\n",
    "\n",
    "# Initializing the Linear Regression models\n",
    "model_age_yearsofexp = LinearRegression()\n",
    "\n",
    "# Spliting the data into training and testing sets\n",
    "X_train_age_yearsofexp, X_test_age_yearsofexp, y_train_yearsofexp, y_test_yearsofexp = train_test_split(X_age_yearsofexp, y_yearsofexp, random_state= 0)\n",
    "\n",
    "# Training the models\n",
    "model_age_yearsofexp.fit(X_train_age_yearsofexp, y_train_yearsofexp)\n",
    "\n",
    "# Make predictions\n",
    "predictions_Years_of_Exp = model_age_yearsofexp.predict(X_train_age_yearsofexp)\n",
    "\n",
    "print(\"Mean Score Predictions: \", model_age_yearsofexp.score(X_test_age_yearsofexp, y_test_yearsofexp))\n",
    "# print(\"Mean Absolute Error:\", mean_absolute_error(y_test_yearsofexp, predictions_Years_of_Exp))\n",
    "\n",
    "\n",
    "predictions_df = pd.DataFrame({\n",
    "    'Predicted Years of Experience based on Age ': predictions_Years_of_Exp\n",
    "})\n",
    "\n",
    "print(predictions_df)\n"
   ]
  },
  {
   "cell_type": "markdown",
   "id": "9f4d02d9",
   "metadata": {},
   "source": [
    "### Predicted  Salary based on Years of Experience"
   ]
  },
  {
   "cell_type": "code",
   "execution_count": null,
   "id": "31152fba",
   "metadata": {},
   "outputs": [],
   "source": [
    "# Extracting the features and target variables\n",
    "X_yearsofexp_salary = salary_df[['Years of Experience']]\n",
    "y__salary = salary_df['Salary']\n",
    "\n",
    "# Initializing the Linear Regression models\n",
    "model_yearsofexp_salary = LinearRegression()\n",
    "\n",
    "# Spliting the data into training and testing sets\n",
    "X_train_yearsofexp_salary, X_test_yearsofexp_salary, y_train__salary, y_test__salary = train_test_split(X_yearsofexp_salary, y__salary, test_size=0.2)\n",
    "\n",
    "# Training the models\n",
    "model_yearsofexp_salary.fit(X_train_yearsofexp_salary, y_train__salary)\n",
    "\n",
    "# Make predictions\n",
    "prediction_salary = model_yearsofexp_salary.predict(X_train_yearsofexp_salary)\n",
    "\n",
    "# print(\"Mean Score Predictions: \", model_yearsofexp_salary.score(X_yearsofexp_salary, y_test__salary))\n",
    "# print(\"Mean Absolute Error:\", mean_absolute_error(y_test__salary, prediction_salary))\n",
    "\n",
    "predictions_df = pd.DataFrame({\n",
    "    'Predicted  Salary based on Years of Experience ': predictions_salary\n",
    "})\n",
    "\n",
    "print(predictions_df)"
   ]
  },
  {
   "cell_type": "markdown",
   "id": "4e3bfa68",
   "metadata": {},
   "source": [
    "# Comparison"
   ]
  },
  {
   "cell_type": "markdown",
   "id": "ba63d558",
   "metadata": {},
   "source": [
    "## Using these three models and considering the Mean Score Predictions and Mean Absolute Error (MAE), specifically for \"Years of Experience Based on Age,\" it has come to my attention that:\n",
    "\n",
    "### The Mean Score predictions on Years of Experience based on Age are:\n",
    "### Decision Tree Model : 88%\n",
    "### Neural Network: 87%\n",
    "### Linear Regression : 88%"
   ]
  },
  {
   "cell_type": "markdown",
   "id": "fe71e55b",
   "metadata": {},
   "source": [
    "### The Mean Absolute Error (MAE) on Years of Experience based on Age are:\n",
    "\n",
    "### Decision Tree Model : 2\n",
    "\n",
    "### Neural Network: 2\n",
    "\n",
    "### Linear Regression : 3 \n",
    "\n"
   ]
  },
  {
   "cell_type": "markdown",
   "id": "fa9bd755",
   "metadata": {},
   "source": [
    "### In summary, given the comparable mean score predictions and MAE values across all three models, it's challenging to determine which one is better among them"
   ]
  },
  {
   "cell_type": "markdown",
   "id": "01ddd15c",
   "metadata": {},
   "source": [
    "# Decison Tree Model"
   ]
  },
  {
   "cell_type": "markdown",
   "id": "a440e67c",
   "metadata": {},
   "source": [
    "## Predicting Salary for each feature [Age, Gender, Education Level, Job Title] using decision tree \n"
   ]
  },
  {
   "cell_type": "code",
   "execution_count": null,
   "id": "bdc14980",
   "metadata": {},
   "outputs": [],
   "source": [
    "model_data = pd.read_csv(\"Clean Database.csv\")\n",
    "# print(model_data.columns)\n",
    "\n",
    "#Selecting The Prediction Target or response variable\n",
    "y = model_data.Salary\n",
    "\n",
    "# Choosing \"Features\" or predictors or predictor variab\n",
    "X = model_data.drop(['Unnamed: 0', 'Salary'], axis=1)\n",
    "X.columns"
   ]
  },
  {
   "cell_type": "markdown",
   "id": "adfd7715",
   "metadata": {},
   "source": [
    "# Preprocessing "
   ]
  },
  {
   "cell_type": "markdown",
   "id": "0db44ca6",
   "metadata": {},
   "source": [
    " ## Data preprocessing plays a vital role in readying your data for machine learning models for both supervised and unsupervised. In this instance, you're dealing with categorical variables such as 'Gender,' 'Education Level,' and 'Job Title' that require conversion into a numerical representation for Decision Tree model"
   ]
  },
  {
   "cell_type": "code",
   "execution_count": null,
   "id": "4faf4970",
   "metadata": {},
   "outputs": [],
   "source": [
    "# Apply label encoding to \"Education Level\" (ordinal variable)\n",
    "label_encoder = LabelEncoder()\n",
    "X[\"Education Level\"] = label_encoder.fit_transform(X[\"Education Level\"])\n",
    "\n",
    "# Exclude the \"Salary\" column\n",
    "# X = X.drop(\"Salary\", axis=1)\n",
    "\n",
    "# Apply one-hot encoding to \"Gender\" and \"Job Title\" (nominal variables)\n",
    "onehot_encoder = OneHotEncoder(drop=\"first\", sparse_output=False)\n",
    "onehot_encoded = onehot_encoder.fit_transform(X[[\"Gender\", \"Job Title\"]])\n",
    "onehot_df = pd.DataFrame(onehot_encoded, columns=onehot_encoder.get_feature_names_out([\"Gender\", \"Job Title\"]))\n",
    "X = pd.concat([X, onehot_df], axis=1)\n",
    "X = X.drop([\"Gender\", \"Job Title\"], axis=1)\n",
    "\n",
    "X"
   ]
  },
  {
   "cell_type": "code",
   "execution_count": null,
   "id": "a6fc169a",
   "metadata": {},
   "outputs": [],
   "source": [
    "# Split data into training and testing sets\n",
    "X_train, X_test, y_train, y_test = train_test_split(X, y, test_size=0.2, random_state=42)\n",
    "\n",
    "# Create and train the Decision Tree model\n",
    "model = DecisionTreeRegressor(random_state=42)\n",
    "model.fit(X_train, y_train)\n",
    "\n",
    "# Make predictions\n",
    "predictions_dectree = model.predict(X_test)\n",
    "\n",
    "# Calculate Mean Absolute Error (MAE)\n",
    "mae = mean_absolute_error(y_test, predictions_dectree)\n",
    "print(\"Mean Absolute Error:\", mae)"
   ]
  },
  {
   "cell_type": "markdown",
   "id": "91804744",
   "metadata": {},
   "source": [
    "## Testing"
   ]
  },
  {
   "cell_type": "code",
   "execution_count": null,
   "id": "3757a00d",
   "metadata": {},
   "outputs": [],
   "source": [
    "model.predict(X.tail(1))"
   ]
  },
  {
   "cell_type": "markdown",
   "id": "fb154c79",
   "metadata": {},
   "source": [
    "## Saving the model"
   ]
  },
  {
   "cell_type": "code",
   "execution_count": null,
   "id": "d8b476ec",
   "metadata": {},
   "outputs": [],
   "source": [
    "Decisiontree_model_name = \"C:/Users/HP/Documents/Documents/E process/dataanalysisstuff/salary-prediction/Models/Decision_Tree_model.pkl\" \n",
    "joblib.dump(predictions_dectree, Decisiontree_model_name)"
   ]
  },
  {
   "cell_type": "code",
   "execution_count": null,
   "id": "320400cf",
   "metadata": {},
   "outputs": [],
   "source": []
  }
 ],
 "metadata": {
  "kernelspec": {
   "display_name": "Python 3 (ipykernel)",
   "language": "python",
   "name": "python3"
  },
  "language_info": {
   "codemirror_mode": {
    "name": "ipython",
    "version": 3
   },
   "file_extension": ".py",
   "mimetype": "text/x-python",
   "name": "python",
   "nbconvert_exporter": "python",
   "pygments_lexer": "ipython3",
   "version": "3.10.9"
  }
 },
 "nbformat": 4,
 "nbformat_minor": 5
}
